{
 "cells": [
  {
   "cell_type": "code",
   "execution_count": 0,
   "metadata": {
    "application/vnd.databricks.v1+cell": {
     "cellMetadata": {
      "byteLimit": 2048000,
      "rowLimit": 10000
     },
     "inputWidgets": {},
     "nuid": "8220ef09-9475-43c1-b3c2-f55167ef11fd",
     "showTitle": false,
     "title": ""
    }
   },
   "outputs": [
    {
     "output_type": "display_data",
     "data": {
      "text/html": [
       "<style scoped>\n",
       "  .ansiout {\n",
       "    display: block;\n",
       "    unicode-bidi: embed;\n",
       "    white-space: pre-wrap;\n",
       "    word-wrap: break-word;\n",
       "    word-break: break-all;\n",
       "    font-family: \"Menlo\", \"Monaco\", \"Consolas\", \"Ubuntu Mono\", \"Source Code Pro\", monospace;\n",
       "    font-size: 13px;\n",
       "    color: #555;\n",
       "    margin-left: 4px;\n",
       "    line-height: 19px;\n",
       "  }\n",
       "</style>\n",
       "<div class=\"ansiout\"></div>"
      ]
     },
     "metadata": {
      "application/vnd.databricks.v1+output": {
       "addedWidgets": {},
       "arguments": {},
       "data": "<div class=\"ansiout\"></div>",
       "datasetInfos": [],
       "metadata": {},
       "removedWidgets": [],
       "type": "html"
      }
     },
     "output_type": "display_data"
    }
   ],
   "source": [
    "dbutils.widgets.text(\"country\",'')\n",
    "country = dbutils.widgets.get(\"country\")"
   ]
  },
  {
   "cell_type": "code",
   "execution_count": 0,
   "metadata": {
    "application/vnd.databricks.v1+cell": {
     "cellMetadata": {
      "byteLimit": 2048000,
      "rowLimit": 10000
     },
     "inputWidgets": {},
     "nuid": "f8e2ab70-fbd1-432d-aafe-f97b3ff1e8d4",
     "showTitle": false,
     "title": ""
    }
   },
   "outputs": [
    {
     "output_type": "display_data",
     "data": {
      "text/html": [
       "<style scoped>\n",
       "  .ansiout {\n",
       "    display: block;\n",
       "    unicode-bidi: embed;\n",
       "    white-space: pre-wrap;\n",
       "    word-wrap: break-word;\n",
       "    word-break: break-all;\n",
       "    font-family: \"Menlo\", \"Monaco\", \"Consolas\", \"Ubuntu Mono\", \"Source Code Pro\", monospace;\n",
       "    font-size: 13px;\n",
       "    color: #555;\n",
       "    margin-left: 4px;\n",
       "    line-height: 19px;\n",
       "  }\n",
       "</style>\n",
       "<div class=\"ansiout\"></div>"
      ]
     },
     "metadata": {
      "application/vnd.databricks.v1+output": {
       "addedWidgets": {},
       "arguments": {},
       "data": "<div class=\"ansiout\"></div>",
       "datasetInfos": [],
       "metadata": {},
       "removedWidgets": [],
       "type": "html"
      }
     },
     "output_type": "display_data"
    }
   ],
   "source": [
    "dbutils.widgets.text(\"week\",'')\n",
    "week = dbutils.widgets.get(\"week\")"
   ]
  },
  {
   "cell_type": "code",
   "execution_count": 0,
   "metadata": {
    "application/vnd.databricks.v1+cell": {
     "cellMetadata": {
      "byteLimit": 2048000,
      "rowLimit": 10000
     },
     "inputWidgets": {},
     "nuid": "c34b4746-3eba-4812-beb4-a4c94abcb46c",
     "showTitle": false,
     "title": ""
    }
   },
   "outputs": [
    {
     "output_type": "display_data",
     "data": {
      "text/html": [
       "<style scoped>\n",
       "  .ansiout {\n",
       "    display: block;\n",
       "    unicode-bidi: embed;\n",
       "    white-space: pre-wrap;\n",
       "    word-wrap: break-word;\n",
       "    word-break: break-all;\n",
       "    font-family: \"Menlo\", \"Monaco\", \"Consolas\", \"Ubuntu Mono\", \"Source Code Pro\", monospace;\n",
       "    font-size: 13px;\n",
       "    color: #555;\n",
       "    margin-left: 4px;\n",
       "    line-height: 19px;\n",
       "  }\n",
       "</style>\n",
       "<div class=\"ansiout\"></div>"
      ]
     },
     "metadata": {
      "application/vnd.databricks.v1+output": {
       "addedWidgets": {},
       "arguments": {},
       "data": "<div class=\"ansiout\"></div>",
       "datasetInfos": [],
       "metadata": {},
       "removedWidgets": [],
       "type": "html"
      }
     },
     "output_type": "display_data"
    }
   ],
   "source": [
    "import pandas as pd\n",
    "import psycopg2\n",
    "from pyspark.sql import SparkSession\n",
    "from pyspark.sql.functions import when, expr, udf, col, size, lit, count,explode,sum,lit, count,explode,sum,regexp_replace, coalesce,lower,concat_ws,array,split, concat_ws\n",
    "from pyspark.sql.types import StructType, StructField, StringType,ArrayType, IntegerType\n",
    "import os\n",
    "from pyspark.sql.utils import AnalysisException"
   ]
  },
  {
   "cell_type": "code",
   "execution_count": 0,
   "metadata": {
    "application/vnd.databricks.v1+cell": {
     "cellMetadata": {
      "byteLimit": 2048000,
      "rowLimit": 10000
     },
     "inputWidgets": {},
     "nuid": "fc6a71cb-7814-4991-b369-f0173e388316",
     "showTitle": false,
     "title": ""
    }
   },
   "outputs": [
    {
     "output_type": "display_data",
     "data": {
      "text/html": [
       "<style scoped>\n",
       "  .ansiout {\n",
       "    display: block;\n",
       "    unicode-bidi: embed;\n",
       "    white-space: pre-wrap;\n",
       "    word-wrap: break-word;\n",
       "    word-break: break-all;\n",
       "    font-family: \"Menlo\", \"Monaco\", \"Consolas\", \"Ubuntu Mono\", \"Source Code Pro\", monospace;\n",
       "    font-size: 13px;\n",
       "    color: #555;\n",
       "    margin-left: 4px;\n",
       "    line-height: 19px;\n",
       "  }\n",
       "</style>\n",
       "<div class=\"ansiout\"></div>"
      ]
     },
     "metadata": {
      "application/vnd.databricks.v1+output": {
       "addedWidgets": {},
       "arguments": {},
       "data": "<div class=\"ansiout\"></div>",
       "datasetInfos": [],
       "metadata": {},
       "removedWidgets": [],
       "type": "html"
      }
     },
     "output_type": "display_data"
    }
   ],
   "source": [
    "# establish connection\n",
    "db_configs = [{\n",
    "    'host': 'caprod-cpp-pgmnr-001.flatns.net',\n",
    "    'database': 'mnr',\n",
    "    'user': 'mnr_ro',\n",
    "    'password': 'mnr_ro',\n",
    "    'port': 5432\n",
    "},\n",
    "    {\n",
    "        'host': 'caprod-cpp-pgmnr-002.flatns.net',\n",
    "        'database': 'mnr',\n",
    "        'user': 'mnr_ro',\n",
    "        'password': 'mnr_ro',\n",
    "        'port': 5432\n",
    "    }\n",
    "]"
   ]
  },
  {
   "cell_type": "code",
   "execution_count": 0,
   "metadata": {
    "application/vnd.databricks.v1+cell": {
     "cellMetadata": {
      "byteLimit": 2048000,
      "rowLimit": 10000
     },
     "inputWidgets": {},
     "nuid": "b6effbdb-13b6-4d28-b5c0-17c1b61b40c9",
     "showTitle": false,
     "title": ""
    }
   },
   "outputs": [
    {
     "output_type": "display_data",
     "data": {
      "text/html": [
       "<style scoped>\n",
       "  .ansiout {\n",
       "    display: block;\n",
       "    unicode-bidi: embed;\n",
       "    white-space: pre-wrap;\n",
       "    word-wrap: break-word;\n",
       "    word-break: break-all;\n",
       "    font-family: \"Menlo\", \"Monaco\", \"Consolas\", \"Ubuntu Mono\", \"Source Code Pro\", monospace;\n",
       "    font-size: 13px;\n",
       "    color: #555;\n",
       "    margin-left: 4px;\n",
       "    line-height: 19px;\n",
       "  }\n",
       "</style>\n",
       "<div class=\"ansiout\"></div>"
      ]
     },
     "metadata": {
      "application/vnd.databricks.v1+output": {
       "addedWidgets": {},
       "arguments": {},
       "data": "<div class=\"ansiout\"></div>",
       "datasetInfos": [],
       "metadata": {},
       "removedWidgets": [],
       "type": "html"
      }
     },
     "output_type": "display_data"
    }
   ],
   "source": [
    "def findLatestSchemaName(input_list):\n",
    "    max_value = -1\n",
    "    latest_string = None\n",
    "\n",
    "    for string in input_list:\n",
    "        parts = string.split('_')\n",
    "        if len(parts) >= 4:\n",
    "            value = parts[3]\n",
    "            if value.isdigit():\n",
    "                value = int(value)\n",
    "                if value > max_value:\n",
    "                    max_value = value\n",
    "                    latest_string = string\n",
    "\n",
    "    return latest_string\n",
    "\n",
    "def getSchemaWithInCountryDB(isocode: str, db_configs) -> list:\n",
    "    # List to store query results\n",
    "    results = []\n",
    "\n",
    "    # Iterate through the databases and check if the schema exists\n",
    "    for db_config in db_configs:\n",
    "        conn = psycopg2.connect(**db_config)\n",
    "        schemas = pd.read_sql(\n",
    "            f\"SELECT nspname FROM pg_catalog.pg_namespace WHERE nspname LIKE '%{isocode}%'\",\n",
    "            con=conn\n",
    "        )\n",
    "        conn.close()\n",
    "\n",
    "        if not schemas.empty:\n",
    "            results.append({\n",
    "                'database': db_config['host'],\n",
    "                'schemas': list(schemas['nspname'])\n",
    "            })\n",
    "\n",
    "    return results\n",
    "\n",
    "# Define a UDF to generate the array for \"even\" interpolation\n",
    "# def generate_array_even(min_hsn, max_hsn):\n",
    "#     return list(range(int(min_hsn), int(max_hsn) + 1, 2))\n",
    "\n",
    "def generate_array_even(min_hsn, max_hsn):\n",
    "    # return list(range(int(min_hsn), int(max_hsn) + 1, 2))\n",
    "        # Check if min_hsn and max_hsn are not None before converting to int\n",
    "    if min_hsn is not None and max_hsn is not None:\n",
    "        # Convert to integers and generate the array\n",
    "        return list(range(int(min_hsn), int(max_hsn) + 1, 2))\n",
    "    else:\n",
    "        # Handle the case where either min_hsn or max_hsn is None\n",
    "        return []\n",
    "\n",
    "\n",
    "\n",
    "# Define a UDF to generate the array for \"odd\" interpolation\n",
    "def generate_array_odd(min_hsn, max_hsn):\n",
    "    # Check if min_hsn and max_hsn are not None before converting to int\n",
    "    if min_hsn is not None and max_hsn is not None:\n",
    "        # Convert to integers and generate the array\n",
    "        return list(range(int(min_hsn), int(max_hsn) + 1, 2))\n",
    "    else:\n",
    "        # Handle the case where either min_hsn or max_hsn is None\n",
    "        return []\n",
    "\n",
    "\n",
    "# Define a UDF to generate the array for \"numeric_mixed\" interpolation\n",
    "def generate_array_numeric_mixed(min_hsn, max_hsn):\n",
    "    if min_hsn is not None and max_hsn is not None:\n",
    "    # Convert to integers and generate the array\n",
    "        return list(range(int(min_hsn), int(max_hsn) + 1))\n",
    "    else:\n",
    "    # Handle the case where either min_hsn or max_hsn is None\n",
    "        return []\n",
    "\n",
    "# Define a UDF to generate the array for \"numeric_mixed\" interpolation\n",
    "def generate_array_irregular(min_hsn, max_hsn):\n",
    "    if min_hsn is not None and max_hsn is not None:\n",
    "        if min_hsn == max_hsn:\n",
    "            return [min_hsn]\n",
    "        else:\n",
    "    # Convert to integers and generate the array\n",
    "            return [min_hsn, max_hsn]\n",
    "    else:\n",
    "    # Handle the case where either min_hsn or max_hsn is None\n",
    "        return []\n",
    "    \n",
    "def string_to_array(string):\n",
    "    if string:\n",
    "        return [int(x.strip()) if x.strip() else 0 for x in string.split(',')]\n",
    "    else:\n",
    "        return []\n",
    "\n",
    "\n",
    "# Function to update the array based on min_hsn and max_hsn\n",
    "def update_array(min_hsn, max_hsn, hnr_array):\n",
    "    if min_hsn == max_hsn:\n",
    "        return hnr_array + [min_hsn]\n",
    "    else:\n",
    "        return hnr_array + [min_hsn, max_hsn]\n",
    "    \n",
    "\n",
    "def swapMin_hsnMax_hsnAlphabate(min_hsn_alpha, max_hsn_alpha):\n",
    "    \"\"\"\n",
    "    Swaps the input HSN codes based on alphanumeric comparison.\n",
    "\n",
    "    Parameters:\n",
    "    - min_hsn_alpha (str): The minimum HSN code to be compared and potentially swapped.\n",
    "    - max_hsn_alpha (str): The maximum HSN code to be compared and potentially swapped.\n",
    "\n",
    "    Returns:\n",
    "    tuple: A tuple containing the swapped HSN codes, or the original codes if they are already in the correct order.\n",
    "\n",
    "    Example:\n",
    "    ```python\n",
    "    min_code, max_code = swapMin_hsnMax_hsnAlphabate(\"123A\", \"456B\")\n",
    "    print(min_code, max_code)  # Output: \"123A\" \"456B\"\n",
    "    ```\n",
    "    \"\"\"\n",
    "    if min_hsn_alpha is None or max_hsn_alpha is None:\n",
    "        return min_hsn_alpha, max_hsn_alpha\n",
    "\n",
    "    min_hsn_i, min_hsn_a = min_hsn_alpha[:-1], min_hsn_alpha[-1]\n",
    "    max_hsn_i, max_hsn_a = max_hsn_alpha[:-1], max_hsn_alpha[-1]\n",
    "\n",
    "    if (min_hsn_i.isdigit() and max_hsn_i.isdigit()) and (min_hsn_a.isalpha() and max_hsn_a.isalpha()):\n",
    "        if ord(min_hsn_a) > ord(max_hsn_a):\n",
    "            min_hsn_alpha, max_hsn_alpha = max_hsn_alpha, min_hsn_alpha\n",
    "        return min_hsn_alpha, max_hsn_alpha\n",
    "    else:\n",
    "        return min_hsn_alpha, max_hsn_alpha\n",
    "\n",
    "def generate_array_alphabetic(min_hsn_alphaN, max_hsn_alphaN):\n",
    "    \"\"\"\n",
    "    Generates an array based on the input min_hsn and max_hsn values.\n",
    "\n",
    "    Parameters:\n",
    "        min_hsn_alphaN (str): The minimum HSN value.\n",
    "        max_hsn_alphaN (str): The maximum HSN value.\n",
    "\n",
    "    Returns:\n",
    "        list: An array of values based on the conditions:\n",
    "            - If the last character of both columns is an alphabet:\n",
    "                - Segregates the last character and remaining digits.\n",
    "                - Creates lists based on the conditions.\n",
    "            - If the last character is not an alphabet, returns [min_hsn, max_hsn].\n",
    "    \"\"\"\n",
    "    print(f\"min_hsn_alphaN: {min_hsn_alphaN}, max_hsn_alphaN: {max_hsn_alphaN}\")\n",
    "    if min_hsn_alphaN is not None and max_hsn_alphaN is not None:\n",
    "    \n",
    "        if isinstance(min_hsn_alphaN, str) and isinstance(max_hsn_alphaN, str) and min_hsn_alphaN and max_hsn_alphaN:\n",
    "            if min_hsn_alphaN[-1].isalpha() and max_hsn_alphaN[-1].isalpha():\n",
    "                # Filter records where the last character of both columns is an alphabet\n",
    "                # Segregate the last character and remaining digits\n",
    "                min_alpha, min_digits = min_hsn_alphaN[-1], min_hsn_alphaN[:-1]\n",
    "                max_alpha, max_digits = max_hsn_alphaN[-1], max_hsn_alphaN[:-1]\n",
    "\n",
    "                # Create lists based on the conditions\n",
    "                alpha_list = [chr(i) for i in range(ord(min_alpha), ord(max_alpha) + 1)]\n",
    "                digits_list = [f\"{min_digits}{alpha}\" for alpha in alpha_list] if min_digits == max_digits else [min_hsn_alphaN, max_hsn_alphaN]\n",
    "\n",
    "                print(f\"digits_list: {digits_list}\")\n",
    "                \n",
    "                return digits_list\n",
    "    \n",
    "    # If the last character is not an alphabet or input is not valid strings, return [min_hsn, max_hsn]\n",
    "    return None\n"
   ]
  },
  {
   "cell_type": "code",
   "execution_count": 0,
   "metadata": {
    "application/vnd.databricks.v1+cell": {
     "cellMetadata": {
      "byteLimit": 2048000,
      "rowLimit": 10000
     },
     "inputWidgets": {},
     "nuid": "e9855363-0edb-4b7a-905c-5ac67d9c1038",
     "showTitle": false,
     "title": ""
    }
   },
   "outputs": [
    {
     "output_type": "display_data",
     "data": {
      "text/html": [
       "<style scoped>\n",
       "  .ansiout {\n",
       "    display: block;\n",
       "    unicode-bidi: embed;\n",
       "    white-space: pre-wrap;\n",
       "    word-wrap: break-word;\n",
       "    word-break: break-all;\n",
       "    font-family: \"Menlo\", \"Monaco\", \"Consolas\", \"Ubuntu Mono\", \"Source Code Pro\", monospace;\n",
       "    font-size: 13px;\n",
       "    color: #555;\n",
       "    margin-left: 4px;\n",
       "    line-height: 19px;\n",
       "  }\n",
       "</style>\n",
       "<div class=\"ansiout\"></div>"
      ]
     },
     "metadata": {
      "application/vnd.databricks.v1+output": {
       "addedWidgets": {},
       "arguments": {},
       "data": "<div class=\"ansiout\"></div>",
       "datasetInfos": [],
       "metadata": {},
       "removedWidgets": [],
       "type": "html"
      }
     },
     "output_type": "display_data"
    }
   ],
   "source": [
    "def format_query(schema) -> str:\n",
    "    query = \"\"\"\n",
    "    SELECT *\n",
    "    FROM (\n",
    "    SELECT\n",
    "        gl.feat_id AS road_id,\n",
    "        nhnr.hsn_range_id,\n",
    "        STRING_AGG(CASE WHEN hh.hsn_type = 1 THEN h.hsn END, ', ') AS min_hsn,\n",
    "        STRING_AGG(CASE WHEN hh.hsn_type = 2 THEN h.hsn END, ', ') AS max_hsn,\n",
    "--      STRING_AGG(CASE WHEN hh.hsn_type = 3 THEN h.hsn END, ', ') AS intermediate,\n",
    "        STRING_AGG(\n",
    "        CASE WHEN hh.hsn_type = 3 THEN\n",
    "            REGEXP_REPLACE(h.hsn, '[^0-9;]', '', 'g')\n",
    "        ELSE\n",
    "            null \n",
    "        END,', ' ) AS intermediate_one,\n",
    "        nhnr.line_side AS side_of_line,\n",
    "        CASE\n",
    "        WHEN nhnr.line_side= 2 THEN 'Left Side'\n",
    "        WHEN nhnr.line_side= 3 THEN 'Right Side'\n",
    "        WHEN nhnr.line_side= 1 THEN 'Both Sides'\n",
    "        ELSE 'Unknown'  -- Handle other values, if any\n",
    "    \tEND AS sideOfLine,\n",
    "\n",
    "--      hsn.hsn_variance AS variance,\n",
    "        CASE\n",
    "        WHEN hsn.hsn_variance  = 2 THEN 'Even'\n",
    "        WHEN hsn.hsn_variance  = 3 THEN 'Odd'\n",
    "        WHEN hsn.hsn_variance  = 4 THEN 'Numeric_Mixed'\n",
    "        WHEN hsn.hsn_variance  = 5 THEN 'Irregular'\n",
    "        WHEN hsn.hsn_variance  = 6 THEN 'Alphabetic'\n",
    "        ELSE 'Unknown'  -- Handle other values, if any\n",
    "    \tEND AS interpolation,\n",
    "    \thsn.hsn_variance as variance\n",
    "\n",
    "    FROM\n",
    "        \"{schema}\".mnr_netw_geo_link gl\n",
    "    LEFT JOIN\n",
    "        \"{schema}\".mnr_netw2hsn_range nhnr ON gl.feat_id = nhnr.netw_id\n",
    "    LEFT JOIN\n",
    "        \"{schema}\".mnr_hsn_range AS hsn ON hsn.hsn_range_id = nhnr.hsn_range_id\n",
    "    LEFT JOIN\n",
    "        \"{schema}\".mnr_hsn_range2hsn AS hh ON hh.hsn_range_id = hsn.hsn_range_id\n",
    "    INNER JOIN\n",
    "        \"{schema}\".mnr_hsn h USING (hsn_id)\n",
    "    WHERE\n",
    "        nhnr.hsn_range_id IS NOT null\n",
    "    GROUP BY\n",
    "        gl.feat_id, nhnr.hsn_range_id, nhnr.line_side, hsn.hsn_variance\n",
    ") a\"\"\".format(schema=schema)\n",
    "\n",
    "    return query"
   ]
  },
  {
   "cell_type": "code",
   "execution_count": 0,
   "metadata": {
    "application/vnd.databricks.v1+cell": {
     "cellMetadata": {
      "byteLimit": 2048000,
      "rowLimit": 10000
     },
     "inputWidgets": {},
     "nuid": "9f01396e-cc6d-4b42-be7f-f8ffd89b5855",
     "showTitle": false,
     "title": ""
    }
   },
   "outputs": [
    {
     "output_type": "display_data",
     "data": {
      "text/html": [
       "<style scoped>\n",
       "  .ansiout {\n",
       "    display: block;\n",
       "    unicode-bidi: embed;\n",
       "    white-space: pre-wrap;\n",
       "    word-wrap: break-word;\n",
       "    word-break: break-all;\n",
       "    font-family: \"Menlo\", \"Monaco\", \"Consolas\", \"Ubuntu Mono\", \"Source Code Pro\", monospace;\n",
       "    font-size: 13px;\n",
       "    color: #555;\n",
       "    margin-left: 4px;\n",
       "    line-height: 19px;\n",
       "  }\n",
       "</style>\n",
       "<div class=\"ansiout\"></div>"
      ]
     },
     "metadata": {
      "application/vnd.databricks.v1+output": {
       "addedWidgets": {},
       "arguments": {},
       "data": "<div class=\"ansiout\"></div>",
       "datasetInfos": [],
       "metadata": {},
       "removedWidgets": [],
       "type": "html"
      }
     },
     "output_type": "display_data"
    }
   ],
   "source": [
    "def linkAptCount(schema) -> str:\n",
    "    query = \"\"\"\n",
    "    select hnr_.code as country_code,\n",
    "    hnr_.hnr_netw_id,\n",
    "    hnr_.hnr_hsn_range_id,\n",
    "    hnr_.hnr_line_side,\n",
    "    _apt.link_apt_count,\n",
    "    _apt.apt_netw_id,\n",
    "    _apt.apt_line_side\n",
    "    from \n",
    "    (select mnr_netw2hsn_range.netw_id as hnr_netw_id,\n",
    "    hsn_range_id as hnr_hsn_range_id,\n",
    "    mnr_netw2hsn_range.line_side as hnr_line_side,\n",
    "    mnr_netw2admin_area.code\n",
    "    from \"{schema}\".mnr_netw2hsn_range\n",
    "    inner join \"{schema}\".mnr_netw_route_link\n",
    "    on mnr_netw2hsn_range.netw_id = mnr_netw_route_link.feat_id\n",
    "    inner join \"{schema}\".mnr_netw2admin_area\n",
    "    on mnr_netw_route_link.feat_id = mnr_netw2admin_area.netw_id\n",
    "    where mnr_netw2admin_area.feat_type = 1111) hnr_\n",
    "    left join\n",
    "    (select count (distinct apt_id) as link_apt_count,\n",
    "    mnr_apt_entrypoint.netw_id as apt_netw_id,\n",
    "    mnr_netw2admin_area.code,\n",
    "    mnr_apt_entrypoint.line_side as apt_line_side\n",
    "    from \"{schema}\".mnr_netw2hsn_range\n",
    "    inner join \"{schema}\".mnr_netw_route_link\n",
    "    on mnr_netw2hsn_range.netw_id = mnr_netw_route_link.feat_id\n",
    "    inner join \"{schema}\".mnr_netw2admin_area\n",
    "    on mnr_netw_route_link.feat_id = mnr_netw2admin_area.netw_id\n",
    "    inner join \"{schema}\".mnr_apt_entrypoint\n",
    "    on mnr_netw2hsn_range.netw_id = mnr_apt_entrypoint.netw_id\n",
    "    where mnr_apt_entrypoint.ep_type_postal is true\n",
    "    and mnr_netw2hsn_range.line_side = mnr_apt_entrypoint.line_side\n",
    "    and mnr_netw2admin_area.feat_type = 1111\n",
    "    group by mnr_apt_entrypoint.netw_id, mnr_apt_entrypoint.line_side,mnr_netw2admin_area.code) _apt\n",
    "    on concat(hnr_.hnr_netw_id,'_',hnr_.hnr_line_side) = concat(_apt.apt_netw_id,'_',_apt.apt_line_side)\n",
    "    \"\"\".format(schema=schema)\n",
    "    return query"
   ]
  },
  {
   "cell_type": "code",
   "execution_count": 0,
   "metadata": {
    "application/vnd.databricks.v1+cell": {
     "cellMetadata": {
      "byteLimit": 2048000,
      "rowLimit": 10000
     },
     "inputWidgets": {},
     "nuid": "93f13060-fbac-475a-b659-087f8d89900b",
     "showTitle": false,
     "title": ""
    }
   },
   "outputs": [
    {
     "output_type": "display_data",
     "data": {
      "text/html": [
       "<style scoped>\n",
       "  .ansiout {\n",
       "    display: block;\n",
       "    unicode-bidi: embed;\n",
       "    white-space: pre-wrap;\n",
       "    word-wrap: break-word;\n",
       "    word-break: break-all;\n",
       "    font-family: \"Menlo\", \"Monaco\", \"Consolas\", \"Ubuntu Mono\", \"Source Code Pro\", monospace;\n",
       "    font-size: 13px;\n",
       "    color: #555;\n",
       "    margin-left: 4px;\n",
       "    line-height: 19px;\n",
       "  }\n",
       "</style>\n",
       "<div class=\"ansiout\"></div>"
      ]
     },
     "metadata": {
      "application/vnd.databricks.v1+output": {
       "addedWidgets": {},
       "arguments": {},
       "data": "<div class=\"ansiout\"></div>",
       "datasetInfos": [],
       "metadata": {},
       "removedWidgets": [],
       "type": "html"
      }
     },
     "output_type": "display_data"
    }
   ],
   "source": [
    "\n",
    "# countryList = [\"deu\",\"gbr\",\"fra\",\"ita\",\"esp\",\"nld\",\"bel\",\"pol\",\"aut\",\"prt\",\"swe\",\"che\",\"dnk\",\"cze\",\"grc\",\"hun\",\"rou\",\"irl\",\"fin\",\"svk\",\"svn\",\"hrv\",\"bgr\",\"ltu\",\"est\",\"lva\",\"cyp\",\"lux\",\"mlt\"]\n",
    "\n",
    "# countryList = ['gbr']\n",
    "\n",
    "# country =  lower(country)\n",
    "# print(country)"
   ]
  },
  {
   "cell_type": "code",
   "execution_count": 0,
   "metadata": {
    "application/vnd.databricks.v1+cell": {
     "cellMetadata": {
      "byteLimit": 2048000,
      "rowLimit": 10000
     },
     "inputWidgets": {},
     "nuid": "003fd9b6-2395-475c-b3c9-1673b85a8a2f",
     "showTitle": false,
     "title": ""
    }
   },
   "outputs": [
    {
     "output_type": "display_data",
     "data": {
      "text/html": [
       "<style scoped>\n",
       "  .ansiout {\n",
       "    display: block;\n",
       "    unicode-bidi: embed;\n",
       "    white-space: pre-wrap;\n",
       "    word-wrap: break-word;\n",
       "    word-break: break-all;\n",
       "    font-family: \"Menlo\", \"Monaco\", \"Consolas\", \"Ubuntu Mono\", \"Source Code Pro\", monospace;\n",
       "    font-size: 13px;\n",
       "    color: #555;\n",
       "    margin-left: 4px;\n",
       "    line-height: 19px;\n",
       "  }\n",
       "</style>\n",
       "<div class=\"ansiout\">esp\n",
       "</div>"
      ]
     },
     "metadata": {
      "application/vnd.databricks.v1+output": {
       "addedWidgets": {},
       "arguments": {},
       "data": "<div class=\"ansiout\">esp\n</div>",
       "datasetInfos": [],
       "metadata": {},
       "removedWidgets": [],
       "type": "html"
      }
     },
     "output_type": "display_data"
    }
   ],
   "source": [
    "country = country.lower()\n",
    "print(country)"
   ]
  },
  {
   "cell_type": "code",
   "execution_count": 0,
   "metadata": {
    "application/vnd.databricks.v1+cell": {
     "cellMetadata": {
      "byteLimit": 2048000,
      "rowLimit": 10000
     },
     "inputWidgets": {},
     "nuid": "cefbb7b3-ac11-4eb9-a86a-d20db6a03f22",
     "showTitle": false,
     "title": ""
    }
   },
   "outputs": [
    {
     "output_type": "display_data",
     "data": {
      "text/html": [
       "<style scoped>\n",
       "  .ansiout {\n",
       "    display: block;\n",
       "    unicode-bidi: embed;\n",
       "    white-space: pre-wrap;\n",
       "    word-wrap: break-word;\n",
       "    word-break: break-all;\n",
       "    font-family: \"Menlo\", \"Monaco\", \"Consolas\", \"Ubuntu Mono\", \"Source Code Pro\", monospace;\n",
       "    font-size: 13px;\n",
       "    color: #555;\n",
       "    margin-left: 4px;\n",
       "    line-height: 19px;\n",
       "  }\n",
       "</style>\n",
       "<div class=\"ansiout\"></div>"
      ]
     },
     "metadata": {
      "application/vnd.databricks.v1+output": {
       "addedWidgets": {},
       "arguments": {},
       "data": "<div class=\"ansiout\"></div>",
       "datasetInfos": [],
       "metadata": {},
       "removedWidgets": [],
       "type": "html"
      }
     },
     "output_type": "display_data"
    }
   ],
   "source": [
    "# all_dfs = []\n",
    "if country in ['usa','can']:\n",
    "    print(f\"{country} is big country\")\n",
    "\n",
    "else:\n",
    "    # for country in countryList:\n",
    "    schemaList = getSchemaWithInCountryDB(country, db_configs)\n",
    "\n",
    "    # Get the Data Base Name\n",
    "    database = schemaList[0]['database']\n",
    "\n",
    "    # Get the Schema List\n",
    "    schemas = schemaList[0]['schemas']\n",
    "\n",
    "    # Calling get latest Schema\n",
    "    SchemaName = findLatestSchemaName(schemas)\n",
    "    # Define the PGSQL server connection properties\n",
    "    pg_properties = {\n",
    "        \"user\": \"mnr_ro\",\n",
    "        \"password\": \"mnr_ro\",\n",
    "        \"driver\": \"org.postgresql.Driver\",\n",
    "        \"url\": f\"jdbc:postgresql://{database}/mnr\"\n",
    "                    }\n",
    "    formatted_query = format_query(SchemaName)\n",
    "    linkAptCount=linkAptCount(SchemaName)\n",
    "    # Step 4: Read data from PostgreSQL\n",
    "\n",
    "    # Address Ranges \n",
    "    AddressRanges_df = spark.read.jdbc(url=pg_properties[\"url\"], table=f\"({formatted_query}) as subquery\", properties=pg_properties)\n",
    "    # Link APT Count\n",
    "    link_df = spark.read.jdbc(url=pg_properties[\"url\"], table=f\"({linkAptCount}) as subquery\", properties=pg_properties)"
   ]
  },
  {
   "cell_type": "markdown",
   "metadata": {
    "application/vnd.databricks.v1+cell": {
     "cellMetadata": {
      "byteLimit": 2048000,
      "rowLimit": 10000
     },
     "inputWidgets": {},
     "nuid": "73233930-b0b7-45c8-925c-bda79b1837e5",
     "showTitle": false,
     "title": ""
    }
   },
   "source": [
    "##### Genesis: Left Join Address Ranges, link Apt Count"
   ]
  },
  {
   "cell_type": "code",
   "execution_count": 0,
   "metadata": {
    "application/vnd.databricks.v1+cell": {
     "cellMetadata": {
      "byteLimit": 2048000,
      "rowLimit": 10000
     },
     "inputWidgets": {},
     "nuid": "7c180030-01fb-42c6-a522-d57dcea638ba",
     "showTitle": false,
     "title": ""
    }
   },
   "outputs": [
    {
     "output_type": "display_data",
     "data": {
      "text/html": [
       "<style scoped>\n",
       "  .ansiout {\n",
       "    display: block;\n",
       "    unicode-bidi: embed;\n",
       "    white-space: pre-wrap;\n",
       "    word-wrap: break-word;\n",
       "    word-break: break-all;\n",
       "    font-family: \"Menlo\", \"Monaco\", \"Consolas\", \"Ubuntu Mono\", \"Source Code Pro\", monospace;\n",
       "    font-size: 13px;\n",
       "    color: #555;\n",
       "    margin-left: 4px;\n",
       "    line-height: 19px;\n",
       "  }\n",
       "</style>\n",
       "<div class=\"ansiout\"></div>"
      ]
     },
     "metadata": {
      "application/vnd.databricks.v1+output": {
       "addedWidgets": {},
       "arguments": {},
       "data": "<div class=\"ansiout\"></div>",
       "datasetInfos": [],
       "metadata": {},
       "removedWidgets": [],
       "type": "html"
      }
     },
     "output_type": "display_data"
    }
   ],
   "source": [
    "genesisAddressRangesAptLink = AddressRanges_df.join(link_df,(AddressRanges_df['road_id']==link_df['hnr_netw_id']) & (AddressRanges_df['side_of_line']==link_df['hnr_line_side']), how='left')"
   ]
  },
  {
   "cell_type": "code",
   "execution_count": 0,
   "metadata": {
    "application/vnd.databricks.v1+cell": {
     "cellMetadata": {
      "byteLimit": 2048000,
      "rowLimit": 10000
     },
     "inputWidgets": {},
     "nuid": "b92aa04f-2337-4031-ae08-f2c20d35799e",
     "showTitle": false,
     "title": ""
    }
   },
   "outputs": [
    {
     "output_type": "display_data",
     "data": {
      "text/html": [
       "<style scoped>\n",
       "  .ansiout {\n",
       "    display: block;\n",
       "    unicode-bidi: embed;\n",
       "    white-space: pre-wrap;\n",
       "    word-wrap: break-word;\n",
       "    word-break: break-all;\n",
       "    font-family: \"Menlo\", \"Monaco\", \"Consolas\", \"Ubuntu Mono\", \"Source Code Pro\", monospace;\n",
       "    font-size: 13px;\n",
       "    color: #555;\n",
       "    margin-left: 4px;\n",
       "    line-height: 19px;\n",
       "  }\n",
       "</style>\n",
       "<div class=\"ansiout\"></div>"
      ]
     },
     "metadata": {
      "application/vnd.databricks.v1+output": {
       "addedWidgets": {},
       "arguments": {},
       "data": "<div class=\"ansiout\"></div>",
       "datasetInfos": [],
       "metadata": {},
       "removedWidgets": [],
       "type": "html"
      }
     },
     "output_type": "display_data"
    }
   ],
   "source": [
    "# ################# repartion Data ###################\n",
    "# df = df.repartition(10)\n",
    "df = genesisAddressRangesAptLink\n",
    "# # Add a new column \"country\" with the value 'FRA' to every row\n",
    "df = df.withColumn(\"country\", lit(country))\n",
    "\n",
    "df = df.withColumn(\"interpolation\", lower(col(\"interpolation\")))\n",
    "\n",
    "# create new column \"min_hsn_alpha\" for \"interpolation\" == \"alphabetic\"\n",
    "df = df.withColumn(\"min_hsn_alpha\",when(col(\"interpolation\") == \"alphabetic\", col(\"min_hsn\")).otherwise(None))\n",
    "df = df.withColumn(\"max_hsn_alpha\",when(col(\"interpolation\") == \"alphabetic\", col(\"max_hsn\")).otherwise(None))\n",
    "\n",
    "# Remove alphabetic parts from the values \"\"max_hsn\" and \"min_hsn\"\n",
    "df = df.withColumn(\"max_hsn\", regexp_replace(col(\"max_hsn\"), \"[^0-9]\", \"\"))\n",
    "df = df.withColumn(\"min_hsn\", regexp_replace(col(\"min_hsn\"), \"[^0-9]\", \"\"))\n",
    "\n",
    "\n",
    "# Convert string columns to integers\n",
    "df = df.withColumn(\"min_hsn\", df[\"min_hsn\"].cast(IntegerType()))\n",
    "df = df.withColumn(\"max_hsn\", df[\"max_hsn\"].cast(IntegerType()))\n",
    "\n",
    "# Swap values if min_hsn > max_hsn\n",
    "df = df.withColumn(\"temp\",when(col(\"min_hsn\") > col(\"max_hsn\"), col(\"min_hsn\")).otherwise(col(\"max_hsn\")))\n",
    "\n",
    "df = df.withColumn(\"max_hsn\",when(col(\"min_hsn\") > col(\"max_hsn\"), col(\"min_hsn\")).otherwise(col(\"max_hsn\")))\n",
    "\n",
    "df = df.withColumn(\"min_hsn\",when(col(\"min_hsn\") > col(\"max_hsn\"), col(\"temp\")).otherwise(col(\"min_hsn\")))\n",
    "\n",
    "# Drop the temporary column\n",
    "df = df.drop(\"temp\")\n",
    "\n",
    "# Register the custom function as a UDF for \"interpolation\"=='alphabetic' Swapping\n",
    "swap_udf = udf(swapMin_hsnMax_hsnAlphabate, StructType([StructField(\"min_hsn_alpha\", StringType(), True),\n",
    "                                                    StructField(\"max_hsn_alpha\", StringType(), True)]))\n",
    "\n",
    "# Apply the swap_udf UDF to the DataFrame\n",
    "df = df.withColumn(\"result\", swap_udf(\"min_hsn_alpha\", \"max_hsn_alpha\"))\n",
    "\n",
    "# Extracting values from the struct column and creating new columns\n",
    "df = df.withColumn(\"min_hsn_alphaN\", lower(col(\"result.min_hsn_alpha\")))\n",
    "df = df.withColumn(\"max_hsn_alphaN\", lower(col(\"result.max_hsn_alpha\")))\n",
    "\n",
    "# Register the UDF alphabetic Array Creation\n",
    "generate_array_alphabetic_udf = udf(generate_array_alphabetic, ArrayType(StringType()))\n",
    "\n",
    "# Apply the UDF to the DataFrame\n",
    "df_temp = df.withColumn(\"hnr_array_result\", generate_array_alphabetic_udf(col(\"min_hsn_alphaN\"), col(\"max_hsn_alphaN\")))\n",
    "\n",
    "\n",
    "# Create new columns based on conditions \"generate_array_alphabetic_udf\"\n",
    "df_temp = df_temp.withColumn(\n",
    "    \"hnr_array_alphabetic\",\n",
    "    when((col(\"interpolation\") == \"alphabetic\") & (col(\"intermediate_one\").isNull()), \n",
    "        generate_array_alphabetic_udf(col(\"min_hsn_alphaN\"), col(\"max_hsn_alphaN\"))))\n",
    "\n",
    "\n",
    "# Register the UDFs\n",
    "generate_array_even_udf = udf(generate_array_even, ArrayType(IntegerType()))\n",
    "generate_array_odd_udf = udf(generate_array_odd, ArrayType(IntegerType()))\n",
    "generate_array_numeric_mixed_udf = udf(generate_array_numeric_mixed, ArrayType(IntegerType()))\n",
    "generate_array_irregular_udf = udf(generate_array_irregular, ArrayType(IntegerType()))\n",
    "# generate_array_alphabetic_udf = udf(generate_array_numeric_mixed, ArrayType(IntegerType()))\n",
    "\n",
    "#  Register the UDF String to Array \n",
    "string_to_array_udf = udf(string_to_array, ArrayType(IntegerType()))\n",
    "\n",
    "# Register the UDF intermediate_one_array\n",
    "update_array_udf = udf(update_array, ArrayType(IntegerType()))\n",
    "\n",
    "\n",
    "# Apply the UDF to create a new column with the converted array\n",
    "df_temp = df_temp.withColumn(\"intermediate_one_array\", string_to_array_udf(\"intermediate_one\"))\n",
    "\n",
    "\n",
    "# # Apply the UDF to update the array\n",
    "df_temp = df_temp.withColumn(\"hnr_array_intermediate\", update_array_udf(col(\"min_hsn\"), col(\"max_hsn\"), col(\"intermediate_one_array\")))"
   ]
  },
  {
   "cell_type": "code",
   "execution_count": 0,
   "metadata": {
    "application/vnd.databricks.v1+cell": {
     "cellMetadata": {
      "byteLimit": 2048000,
      "rowLimit": 10000
     },
     "inputWidgets": {},
     "nuid": "2eeac146-373a-4718-ad38-2e488a89fd29",
     "showTitle": false,
     "title": ""
    }
   },
   "outputs": [
    {
     "output_type": "display_data",
     "data": {
      "text/html": [
       "<style scoped>\n",
       "  .ansiout {\n",
       "    display: block;\n",
       "    unicode-bidi: embed;\n",
       "    white-space: pre-wrap;\n",
       "    word-wrap: break-word;\n",
       "    word-break: break-all;\n",
       "    font-family: \"Menlo\", \"Monaco\", \"Consolas\", \"Ubuntu Mono\", \"Source Code Pro\", monospace;\n",
       "    font-size: 13px;\n",
       "    color: #555;\n",
       "    margin-left: 4px;\n",
       "    line-height: 19px;\n",
       "  }\n",
       "</style>\n",
       "<div class=\"ansiout\">root\n",
       "-- road_id: string (nullable = true)\n",
       "-- hsn_range_id: string (nullable = true)\n",
       "-- min_hsn: integer (nullable = true)\n",
       "-- max_hsn: integer (nullable = true)\n",
       "-- intermediate_one: string (nullable = true)\n",
       "-- side_of_line: decimal(1,0) (nullable = true)\n",
       "-- sideofline: string (nullable = true)\n",
       "-- interpolation: string (nullable = true)\n",
       "-- variance: decimal(1,0) (nullable = true)\n",
       "-- country_code: string (nullable = true)\n",
       "-- hnr_netw_id: string (nullable = true)\n",
       "-- hnr_hsn_range_id: string (nullable = true)\n",
       "-- hnr_line_side: decimal(1,0) (nullable = true)\n",
       "-- link_apt_count: long (nullable = true)\n",
       "-- apt_netw_id: string (nullable = true)\n",
       "-- apt_line_side: decimal(1,0) (nullable = true)\n",
       "-- country: string (nullable = false)\n",
       "-- min_hsn_alpha: string (nullable = true)\n",
       "-- max_hsn_alpha: string (nullable = true)\n",
       "-- result: struct (nullable = true)\n",
       "    |-- min_hsn_alpha: string (nullable = true)\n",
       "    |-- max_hsn_alpha: string (nullable = true)\n",
       "-- min_hsn_alphaN: string (nullable = true)\n",
       "-- max_hsn_alphaN: string (nullable = true)\n",
       "-- hnr_array_result: array (nullable = true)\n",
       "    |-- element: string (containsNull = true)\n",
       "-- hnr_array_alphabetic: array (nullable = true)\n",
       "    |-- element: string (containsNull = true)\n",
       "-- intermediate_one_array: array (nullable = true)\n",
       "    |-- element: integer (containsNull = true)\n",
       "-- hnr_array_intermediate: array (nullable = true)\n",
       "    |-- element: integer (containsNull = true)\n",
       "\n",
       "</div>"
      ]
     },
     "metadata": {
      "application/vnd.databricks.v1+output": {
       "addedWidgets": {},
       "arguments": {},
       "data": "<div class=\"ansiout\">root\n |-- road_id: string (nullable = true)\n |-- hsn_range_id: string (nullable = true)\n |-- min_hsn: integer (nullable = true)\n |-- max_hsn: integer (nullable = true)\n |-- intermediate_one: string (nullable = true)\n |-- side_of_line: decimal(1,0) (nullable = true)\n |-- sideofline: string (nullable = true)\n |-- interpolation: string (nullable = true)\n |-- variance: decimal(1,0) (nullable = true)\n |-- country_code: string (nullable = true)\n |-- hnr_netw_id: string (nullable = true)\n |-- hnr_hsn_range_id: string (nullable = true)\n |-- hnr_line_side: decimal(1,0) (nullable = true)\n |-- link_apt_count: long (nullable = true)\n |-- apt_netw_id: string (nullable = true)\n |-- apt_line_side: decimal(1,0) (nullable = true)\n |-- country: string (nullable = false)\n |-- min_hsn_alpha: string (nullable = true)\n |-- max_hsn_alpha: string (nullable = true)\n |-- result: struct (nullable = true)\n |    |-- min_hsn_alpha: string (nullable = true)\n |    |-- max_hsn_alpha: string (nullable = true)\n |-- min_hsn_alphaN: string (nullable = true)\n |-- max_hsn_alphaN: string (nullable = true)\n |-- hnr_array_result: array (nullable = true)\n |    |-- element: string (containsNull = true)\n |-- hnr_array_alphabetic: array (nullable = true)\n |    |-- element: string (containsNull = true)\n |-- intermediate_one_array: array (nullable = true)\n |    |-- element: integer (containsNull = true)\n |-- hnr_array_intermediate: array (nullable = true)\n |    |-- element: integer (containsNull = true)\n\n</div>",
       "datasetInfos": [],
       "metadata": {},
       "removedWidgets": [],
       "type": "html"
      }
     },
     "output_type": "display_data"
    }
   ],
   "source": [
    "df_temp.printSchema()"
   ]
  },
  {
   "cell_type": "code",
   "execution_count": 0,
   "metadata": {
    "application/vnd.databricks.v1+cell": {
     "cellMetadata": {
      "byteLimit": 2048000,
      "rowLimit": 10000
     },
     "inputWidgets": {},
     "nuid": "7565f39a-584a-4304-ab4c-5ac42efd0f19",
     "showTitle": false,
     "title": ""
    }
   },
   "outputs": [
    {
     "output_type": "display_data",
     "data": {
      "text/html": [
       "<style scoped>\n",
       "  .ansiout {\n",
       "    display: block;\n",
       "    unicode-bidi: embed;\n",
       "    white-space: pre-wrap;\n",
       "    word-wrap: break-word;\n",
       "    word-break: break-all;\n",
       "    font-family: \"Menlo\", \"Monaco\", \"Consolas\", \"Ubuntu Mono\", \"Source Code Pro\", monospace;\n",
       "    font-size: 13px;\n",
       "    color: #555;\n",
       "    margin-left: 4px;\n",
       "    line-height: 19px;\n",
       "  }\n",
       "</style>\n",
       "<div class=\"ansiout\"></div>"
      ]
     },
     "metadata": {
      "application/vnd.databricks.v1+output": {
       "addedWidgets": {},
       "arguments": {},
       "data": "<div class=\"ansiout\"></div>",
       "datasetInfos": [],
       "metadata": {},
       "removedWidgets": [],
       "type": "html"
      }
     },
     "output_type": "display_data"
    }
   ],
   "source": [
    "# Combine conditional column creation into a single operation\n",
    "df_temp = df_temp.withColumn(\n",
    "    \"hnr_array\",\n",
    "    when((col(\"interpolation\") == \"even\") & (col(\"intermediate_one\").isNull()), generate_array_even_udf(col(\"min_hsn\"), col(\"max_hsn\")))\n",
    "    .when((col(\"interpolation\") == \"odd\") & (col(\"intermediate_one\").isNull()), generate_array_odd_udf(col(\"min_hsn\"), col(\"max_hsn\")))\n",
    "    .when((col(\"interpolation\") == \"numeric_mixed\") & (col(\"intermediate_one\").isNull()), generate_array_numeric_mixed_udf(col(\"min_hsn\"), col(\"max_hsn\")))\n",
    "    .when((col(\"interpolation\") == \"irregular\") & (col(\"intermediate_one\").isNull()), generate_array_irregular_udf(col(\"min_hsn\"), col(\"max_hsn\")))\n",
    "    .otherwise(col(\"hnr_array_intermediate\"))\n",
    ")"
   ]
  },
  {
   "cell_type": "code",
   "execution_count": 0,
   "metadata": {
    "application/vnd.databricks.v1+cell": {
     "cellMetadata": {
      "byteLimit": 2048000,
      "rowLimit": 10000
     },
     "inputWidgets": {},
     "nuid": "8de4a75d-748f-4994-9ce2-a7abb76fcc8b",
     "showTitle": false,
     "title": ""
    }
   },
   "outputs": [
    {
     "output_type": "display_data",
     "data": {
      "text/html": [
       "<style scoped>\n",
       "  .ansiout {\n",
       "    display: block;\n",
       "    unicode-bidi: embed;\n",
       "    white-space: pre-wrap;\n",
       "    word-wrap: break-word;\n",
       "    word-break: break-all;\n",
       "    font-family: \"Menlo\", \"Monaco\", \"Consolas\", \"Ubuntu Mono\", \"Source Code Pro\", monospace;\n",
       "    font-size: 13px;\n",
       "    color: #555;\n",
       "    margin-left: 4px;\n",
       "    line-height: 19px;\n",
       "  }\n",
       "</style>\n",
       "<div class=\"ansiout\"></div>"
      ]
     },
     "metadata": {
      "application/vnd.databricks.v1+output": {
       "addedWidgets": {},
       "arguments": {},
       "data": "<div class=\"ansiout\"></div>",
       "datasetInfos": [],
       "metadata": {},
       "removedWidgets": [],
       "type": "html"
      }
     },
     "output_type": "display_data"
    }
   ],
   "source": [
    "# count Array House Number count \n",
    "df_temp = df_temp.withColumn(\"hnr_array_count\", size(col(\"hnr_array\")).cast(\"int\"))\n",
    "\n",
    "# Replace null values with 0 in the \"hnr_array_count\" column\n",
    "df_temp = df_temp.fillna(0, subset=[\"hnr_array_count\",\"link_apt_count\"])\n",
    "df_temp = df_temp.withColumn(\"Ranges_count\", lit(1))\n",
    "\n",
    "# Select and keep only the specified columns\n",
    "df_temp = df_temp.select(\"road_id\",\"country\",\"country_code\",\"min_hsn\",\"max_hsn\",\"min_hsn_alphaN\",\"max_hsn_alphaN\",\"interpolation\",\"intermediate_one\", \"hnr_array_count\",\"hnr_array\",\"link_apt_count\",\"sideofline\",\"Ranges_count\")\n",
    "# Select and keep only the specified columns\n",
    "# df_temp = df_temp.select(\"min_hsn\",\"max_hsn\",\"min_hsn_alphaN\",\"max_hsn_alphaN\",\"intermediate_one\",\"interpolation\", \"hnr_array_count\",\"hnr_array\") "
   ]
  },
  {
   "cell_type": "code",
   "execution_count": 0,
   "metadata": {
    "application/vnd.databricks.v1+cell": {
     "cellMetadata": {
      "byteLimit": 2048000,
      "rowLimit": 10000
     },
     "inputWidgets": {},
     "nuid": "2310d562-450b-403e-a283-6dc34d688c46",
     "showTitle": false,
     "title": ""
    }
   },
   "outputs": [
    {
     "output_type": "display_data",
     "data": {
      "text/html": [
       "<style scoped>\n",
       "  .ansiout {\n",
       "    display: block;\n",
       "    unicode-bidi: embed;\n",
       "    white-space: pre-wrap;\n",
       "    word-wrap: break-word;\n",
       "    word-break: break-all;\n",
       "    font-family: \"Menlo\", \"Monaco\", \"Consolas\", \"Ubuntu Mono\", \"Source Code Pro\", monospace;\n",
       "    font-size: 13px;\n",
       "    color: #555;\n",
       "    margin-left: 4px;\n",
       "    line-height: 19px;\n",
       "  }\n",
       "</style>\n",
       "<div class=\"ansiout\"></div>"
      ]
     },
     "metadata": {
      "application/vnd.databricks.v1+output": {
       "addedWidgets": {},
       "arguments": {},
       "data": "<div class=\"ansiout\"></div>",
       "datasetInfos": [],
       "metadata": {},
       "removedWidgets": [],
       "type": "html"
      }
     },
     "output_type": "display_data"
    }
   ],
   "source": [
    " # concatenated_df = all_dfs[0]\n",
    "# for df in all_dfs[1:]:\n",
    "#     concatenated_df = concatenated_df.union(df) "
   ]
  },
  {
   "cell_type": "code",
   "execution_count": 0,
   "metadata": {
    "application/vnd.databricks.v1+cell": {
     "cellMetadata": {
      "byteLimit": 2048000,
      "rowLimit": 10000
     },
     "inputWidgets": {},
     "nuid": "8747b6b7-f981-4753-9a97-86af697a324b",
     "showTitle": false,
     "title": ""
    }
   },
   "outputs": [
    {
     "output_type": "display_data",
     "data": {
      "text/html": [
       "<style scoped>\n",
       "  .ansiout {\n",
       "    display: block;\n",
       "    unicode-bidi: embed;\n",
       "    white-space: pre-wrap;\n",
       "    word-wrap: break-word;\n",
       "    word-break: break-all;\n",
       "    font-family: \"Menlo\", \"Monaco\", \"Consolas\", \"Ubuntu Mono\", \"Source Code Pro\", monospace;\n",
       "    font-size: 13px;\n",
       "    color: #555;\n",
       "    margin-left: 4px;\n",
       "    line-height: 19px;\n",
       "  }\n",
       "</style>\n",
       "<div class=\"ansiout\">root\n",
       "-- road_id: string (nullable = true)\n",
       "-- country: string (nullable = false)\n",
       "-- country_code: string (nullable = true)\n",
       "-- min_hsn: integer (nullable = true)\n",
       "-- max_hsn: integer (nullable = true)\n",
       "-- min_hsn_alphaN: string (nullable = true)\n",
       "-- max_hsn_alphaN: string (nullable = true)\n",
       "-- interpolation: string (nullable = true)\n",
       "-- intermediate_one: string (nullable = true)\n",
       "-- hnr_array_count: integer (nullable = false)\n",
       "-- hnr_array: array (nullable = true)\n",
       "    |-- element: integer (containsNull = true)\n",
       "-- link_apt_count: long (nullable = true)\n",
       "-- sideofline: string (nullable = true)\n",
       "-- Ranges_count: integer (nullable = false)\n",
       "\n",
       "</div>"
      ]
     },
     "metadata": {
      "application/vnd.databricks.v1+output": {
       "addedWidgets": {},
       "arguments": {},
       "data": "<div class=\"ansiout\">root\n |-- road_id: string (nullable = true)\n |-- country: string (nullable = false)\n |-- country_code: string (nullable = true)\n |-- min_hsn: integer (nullable = true)\n |-- max_hsn: integer (nullable = true)\n |-- min_hsn_alphaN: string (nullable = true)\n |-- max_hsn_alphaN: string (nullable = true)\n |-- interpolation: string (nullable = true)\n |-- intermediate_one: string (nullable = true)\n |-- hnr_array_count: integer (nullable = false)\n |-- hnr_array: array (nullable = true)\n |    |-- element: integer (containsNull = true)\n |-- link_apt_count: long (nullable = true)\n |-- sideofline: string (nullable = true)\n |-- Ranges_count: integer (nullable = false)\n\n</div>",
       "datasetInfos": [],
       "metadata": {},
       "removedWidgets": [],
       "type": "html"
      }
     },
     "output_type": "display_data"
    }
   ],
   "source": [
    "df_temp.printSchema()"
   ]
  },
  {
   "cell_type": "code",
   "execution_count": 0,
   "metadata": {
    "application/vnd.databricks.v1+cell": {
     "cellMetadata": {
      "byteLimit": 2048000,
      "rowLimit": 10000
     },
     "inputWidgets": {},
     "nuid": "a1885948-c39a-4fcb-8192-efe9138792e5",
     "showTitle": false,
     "title": ""
    }
   },
   "outputs": [
    {
     "output_type": "display_data",
     "data": {
      "text/html": [
       "<style scoped>\n",
       "  .ansiout {\n",
       "    display: block;\n",
       "    unicode-bidi: embed;\n",
       "    white-space: pre-wrap;\n",
       "    word-wrap: break-word;\n",
       "    word-break: break-all;\n",
       "    font-family: \"Menlo\", \"Monaco\", \"Consolas\", \"Ubuntu Mono\", \"Source Code Pro\", monospace;\n",
       "    font-size: 13px;\n",
       "    color: #555;\n",
       "    margin-left: 4px;\n",
       "    line-height: 19px;\n",
       "  }\n",
       "</style>\n",
       "<div class=\"ansiout\"></div>"
      ]
     },
     "metadata": {
      "application/vnd.databricks.v1+output": {
       "addedWidgets": {},
       "arguments": {},
       "data": "<div class=\"ansiout\"></div>",
       "datasetInfos": [],
       "metadata": {},
       "removedWidgets": [],
       "type": "html"
      }
     },
     "output_type": "display_data"
    }
   ],
   "source": [
    "# df_temp = df_temp.repartition(8)"
   ]
  },
  {
   "cell_type": "code",
   "execution_count": 0,
   "metadata": {
    "application/vnd.databricks.v1+cell": {
     "cellMetadata": {
      "byteLimit": 2048000,
      "rowLimit": 10000
     },
     "inputWidgets": {},
     "nuid": "0dffa5e3-586e-4225-a8d3-560c57429799",
     "showTitle": false,
     "title": ""
    }
   },
   "outputs": [
    {
     "output_type": "display_data",
     "data": {
      "text/html": [
       "<style scoped>\n",
       "  .ansiout {\n",
       "    display: block;\n",
       "    unicode-bidi: embed;\n",
       "    white-space: pre-wrap;\n",
       "    word-wrap: break-word;\n",
       "    word-break: break-all;\n",
       "    font-family: \"Menlo\", \"Monaco\", \"Consolas\", \"Ubuntu Mono\", \"Source Code Pro\", monospace;\n",
       "    font-size: 13px;\n",
       "    color: #555;\n",
       "    margin-left: 4px;\n",
       "    line-height: 19px;\n",
       "  }\n",
       "</style>\n",
       "<div class=\"ansiout\"></div>"
      ]
     },
     "metadata": {
      "application/vnd.databricks.v1+output": {
       "addedWidgets": {},
       "arguments": {},
       "data": "<div class=\"ansiout\"></div>",
       "datasetInfos": [],
       "metadata": {},
       "removedWidgets": [],
       "type": "html"
      }
     },
     "output_type": "display_data"
    }
   ],
   "source": [
    "# parquet_df = df_temp.groupBy(\"country\",\"interpolation\").sum(\"hnr_array_count\").alias(\"expaned_addresses_count\")\n"
   ]
  },
  {
   "cell_type": "code",
   "execution_count": 0,
   "metadata": {
    "application/vnd.databricks.v1+cell": {
     "cellMetadata": {
      "byteLimit": 2048000,
      "rowLimit": 10000
     },
     "inputWidgets": {},
     "nuid": "fb7670ba-1ac8-470a-9228-59e120dbc797",
     "showTitle": false,
     "title": ""
    }
   },
   "outputs": [
    {
     "output_type": "display_data",
     "data": {
      "text/html": [
       "<style scoped>\n",
       "  .ansiout {\n",
       "    display: block;\n",
       "    unicode-bidi: embed;\n",
       "    white-space: pre-wrap;\n",
       "    word-wrap: break-word;\n",
       "    word-break: break-all;\n",
       "    font-family: \"Menlo\", \"Monaco\", \"Consolas\", \"Ubuntu Mono\", \"Source Code Pro\", monospace;\n",
       "    font-size: 13px;\n",
       "    color: #555;\n",
       "    margin-left: 4px;\n",
       "    line-height: 19px;\n",
       "  }\n",
       "</style>\n",
       "<div class=\"ansiout\"></div>"
      ]
     },
     "metadata": {
      "application/vnd.databricks.v1+output": {
       "addedWidgets": {},
       "arguments": {},
       "data": "<div class=\"ansiout\"></div>",
       "datasetInfos": [],
       "metadata": {},
       "removedWidgets": [],
       "type": "html"
      }
     },
     "output_type": "display_data"
    }
   ],
   "source": [
    "result = df_temp.groupby(\"country\",\"country_code\",\"interpolation\") \\\n",
    "    .agg(\n",
    "        sum(\"hnr_array_count\").alias(\"sum_hnr_array_count\"),\n",
    "        sum(\"Ranges_count\").alias(\"AddreesRangesCount\"),\n",
    "        sum(when(col(\"link_apt_count\") == 0, col(\"hnr_array_count\")).otherwise(0)).alias(\"link_apt_count_eq_0\"),\n",
    "        sum(when(col(\"link_apt_count\") == 1, col(\"hnr_array_count\")).otherwise(0)).alias(\"link_apt_count_eq_1\"),\n",
    "        sum(when(col(\"link_apt_count\") > 1, col(\"hnr_array_count\")).otherwise(0)).alias(\"link_apt_count_gt_1\"),\n",
    "        sum(when(col(\"hnr_array_count\").between(0, 500), col(\"hnr_array_count\")).otherwise(0)).alias(\"hnr_ranges_0_500\"),\n",
    "        sum(when(col(\"hnr_array_count\").between(501, 1000), col(\"hnr_array_count\")).otherwise(0)).alias(\"hnr_ranges_501_1000\"),\n",
    "        sum(when(col(\"hnr_array_count\").between(1001, 2000), col(\"hnr_array_count\")).otherwise(0)).alias(\"hnr_ranges_1001_2000\"),\n",
    "        sum(when(col(\"hnr_array_count\").between(2001, 3000), col(\"hnr_array_count\")).otherwise(0)).alias(\"hnr_ranges_2001_3000\"),\n",
    "        sum(when(col(\"hnr_array_count\").between(3001, 5000), col(\"hnr_array_count\")).otherwise(0)).alias(\"hnr_ranges_3001_5000\"),\n",
    "        sum(when(col(\"hnr_array_count\") > 5000, col(\"hnr_array_count\")).otherwise(0)).alias(\"hnr_ranges_grt_5000\")\n",
    "    )"
   ]
  },
  {
   "cell_type": "code",
   "execution_count": 0,
   "metadata": {
    "application/vnd.databricks.v1+cell": {
     "cellMetadata": {
      "byteLimit": 2048000,
      "rowLimit": 10000
     },
     "inputWidgets": {},
     "nuid": "addda56d-af4c-4af7-93b0-dd951c9d35fb",
     "showTitle": false,
     "title": ""
    }
   },
   "outputs": [
    {
     "output_type": "display_data",
     "data": {
      "text/html": [
       "<style scoped>\n",
       "  .ansiout {\n",
       "    display: block;\n",
       "    unicode-bidi: embed;\n",
       "    white-space: pre-wrap;\n",
       "    word-wrap: break-word;\n",
       "    word-break: break-all;\n",
       "    font-family: \"Menlo\", \"Monaco\", \"Consolas\", \"Ubuntu Mono\", \"Source Code Pro\", monospace;\n",
       "    font-size: 13px;\n",
       "    color: #555;\n",
       "    margin-left: 4px;\n",
       "    line-height: 19px;\n",
       "  }\n",
       "</style>\n",
       "<div class=\"ansiout\"></div>"
      ]
     },
     "metadata": {
      "application/vnd.databricks.v1+output": {
       "addedWidgets": {},
       "arguments": {},
       "data": "<div class=\"ansiout\"></div>",
       "datasetInfos": [],
       "metadata": {},
       "removedWidgets": [],
       "type": "html"
      }
     },
     "output_type": "display_data"
    }
   ],
   "source": [
    "from pyspark.sql import SparkSession\n",
    "from pyspark.sql.functions import *\n",
    "\n",
    "result = result.withColumn('current_date',current_date()).withColumn('releaseVersion', lit(week))\n"
   ]
  },
  {
   "cell_type": "code",
   "execution_count": 0,
   "metadata": {
    "application/vnd.databricks.v1+cell": {
     "cellMetadata": {
      "byteLimit": 2048000,
      "rowLimit": 10000
     },
     "inputWidgets": {},
     "nuid": "4a0cc893-fa3a-4722-95a4-845babcdb870",
     "showTitle": false,
     "title": ""
    }
   },
   "outputs": [
    {
     "output_type": "display_data",
     "data": {
      "text/html": [
       "<style scoped>\n",
       "  .ansiout {\n",
       "    display: block;\n",
       "    unicode-bidi: embed;\n",
       "    white-space: pre-wrap;\n",
       "    word-wrap: break-word;\n",
       "    word-break: break-all;\n",
       "    font-family: \"Menlo\", \"Monaco\", \"Consolas\", \"Ubuntu Mono\", \"Source Code Pro\", monospace;\n",
       "    font-size: 13px;\n",
       "    color: #555;\n",
       "    margin-left: 4px;\n",
       "    line-height: 19px;\n",
       "  }\n",
       "</style>\n",
       "<div class=\"ansiout\"></div>"
      ]
     },
     "metadata": {
      "application/vnd.databricks.v1+output": {
       "addedWidgets": {},
       "arguments": {},
       "data": "<div class=\"ansiout\"></div>",
       "datasetInfos": [],
       "metadata": {},
       "removedWidgets": [],
       "type": "html"
      }
     },
     "output_type": "display_data"
    }
   ],
   "source": [
    "# display(result)"
   ]
  },
  {
   "cell_type": "code",
   "execution_count": 0,
   "metadata": {
    "application/vnd.databricks.v1+cell": {
     "cellMetadata": {
      "byteLimit": 2048000,
      "rowLimit": 10000
     },
     "inputWidgets": {},
     "nuid": "557bf905-4d56-4ecc-ac70-f4ada0bc7635",
     "showTitle": false,
     "title": ""
    }
   },
   "outputs": [
    {
     "output_type": "display_data",
     "data": {
      "text/html": [
       "<style scoped>\n",
       "  .ansiout {\n",
       "    display: block;\n",
       "    unicode-bidi: embed;\n",
       "    white-space: pre-wrap;\n",
       "    word-wrap: break-word;\n",
       "    word-break: break-all;\n",
       "    font-family: \"Menlo\", \"Monaco\", \"Consolas\", \"Ubuntu Mono\", \"Source Code Pro\", monospace;\n",
       "    font-size: 13px;\n",
       "    color: #555;\n",
       "    margin-left: 4px;\n",
       "    line-height: 19px;\n",
       "  }\n",
       "</style>\n",
       "<div class=\"ansiout\"></div>"
      ]
     },
     "metadata": {
      "application/vnd.databricks.v1+output": {
       "addedWidgets": {},
       "arguments": {},
       "data": "<div class=\"ansiout\"></div>",
       "datasetInfos": [],
       "metadata": {},
       "removedWidgets": [],
       "type": "html"
      }
     },
     "output_type": "display_data"
    }
   ],
   "source": [
    "# Check if the mount point already exists\n",
    "if not any(mountPoint.mountPoint == '/mnt/addressrangesblob' for mountPoint in dbutils.fs.mounts()):\n",
    "    # If the mount point doesn't exist, proceed with the mount operation\n",
    "    dbutils.fs.mount(\n",
    "        source='wasbs://address-ranges@addressrangesduplicate.blob.core.windows.net',\n",
    "        mount_point='/mnt/addressrangesblob',\n",
    "        extra_configs={\n",
    "            'fs.azure.account.key.addressrangesduplicate.blob.core.windows.net': 'p32JpcVTxylnEHoUIX91DUdaaGPE+P3Ipb8zGy8EfDiz01We6y1nl4ypauEQNGWa0rXdxP6SM0Py+ASt4Hbptg=='\n",
    "        }\n",
    "    )"
   ]
  },
  {
   "cell_type": "code",
   "execution_count": 0,
   "metadata": {
    "application/vnd.databricks.v1+cell": {
     "cellMetadata": {
      "byteLimit": 2048000,
      "rowLimit": 10000
     },
     "inputWidgets": {},
     "nuid": "d283b4ce-fd31-4c53-8f75-850a16f9ad18",
     "showTitle": false,
     "title": ""
    }
   },
   "outputs": [
    {
     "output_type": "display_data",
     "data": {
      "text/html": [
       "<style scoped>\n",
       "  .ansiout {\n",
       "    display: block;\n",
       "    unicode-bidi: embed;\n",
       "    white-space: pre-wrap;\n",
       "    word-wrap: break-word;\n",
       "    word-break: break-all;\n",
       "    font-family: \"Menlo\", \"Monaco\", \"Consolas\", \"Ubuntu Mono\", \"Source Code Pro\", monospace;\n",
       "    font-size: 13px;\n",
       "    color: #555;\n",
       "    margin-left: 4px;\n",
       "    line-height: 19px;\n",
       "  }\n",
       "</style>\n",
       "<div class=\"ansiout\">_2024_03_002_eur_esp_esp\n",
       "</div>"
      ]
     },
     "metadata": {
      "application/vnd.databricks.v1+output": {
       "addedWidgets": {},
       "arguments": {},
       "data": "<div class=\"ansiout\">_2024_03_002_eur_esp_esp\n</div>",
       "datasetInfos": [],
       "metadata": {},
       "removedWidgets": [],
       "type": "html"
      }
     },
     "output_type": "display_data"
    }
   ],
   "source": [
    "print(SchemaName)"
   ]
  },
  {
   "cell_type": "code",
   "execution_count": 0,
   "metadata": {
    "application/vnd.databricks.v1+cell": {
     "cellMetadata": {
      "byteLimit": 2048000,
      "rowLimit": 10000
     },
     "inputWidgets": {},
     "nuid": "6b28321c-6f38-4297-93db-0d021f64dd4c",
     "showTitle": false,
     "title": ""
    }
   },
   "outputs": [
    {
     "output_type": "display_data",
     "data": {
      "text/html": [
       "<style scoped>\n",
       "  .ansiout {\n",
       "    display: block;\n",
       "    unicode-bidi: embed;\n",
       "    white-space: pre-wrap;\n",
       "    word-wrap: break-word;\n",
       "    word-break: break-all;\n",
       "    font-family: \"Menlo\", \"Monaco\", \"Consolas\", \"Ubuntu Mono\", \"Source Code Pro\", monospace;\n",
       "    font-size: 13px;\n",
       "    color: #555;\n",
       "    margin-left: 4px;\n",
       "    line-height: 19px;\n",
       "  }\n",
       "</style>\n",
       "<div class=\"ansiout\"></div>"
      ]
     },
     "metadata": {
      "application/vnd.databricks.v1+output": {
       "addedWidgets": {},
       "arguments": {},
       "data": "<div class=\"ansiout\"></div>",
       "datasetInfos": [],
       "metadata": {},
       "removedWidgets": [],
       "type": "html"
      }
     },
     "output_type": "display_data"
    }
   ],
   "source": [
    "from pyspark.sql.functions import *"
   ]
  },
  {
   "cell_type": "code",
   "execution_count": 0,
   "metadata": {
    "application/vnd.databricks.v1+cell": {
     "cellMetadata": {
      "byteLimit": 2048000,
      "rowLimit": 10000
     },
     "inputWidgets": {},
     "nuid": "bbc50338-10e4-489b-9233-784c3a61bec5",
     "showTitle": false,
     "title": ""
    }
   },
   "outputs": [
    {
     "output_type": "display_data",
     "data": {
      "text/html": [
       "<style scoped>\n",
       "  .ansiout {\n",
       "    display: block;\n",
       "    unicode-bidi: embed;\n",
       "    white-space: pre-wrap;\n",
       "    word-wrap: break-word;\n",
       "    word-break: break-all;\n",
       "    font-family: \"Menlo\", \"Monaco\", \"Consolas\", \"Ubuntu Mono\", \"Source Code Pro\", monospace;\n",
       "    font-size: 13px;\n",
       "    color: #555;\n",
       "    margin-left: 4px;\n",
       "    line-height: 19px;\n",
       "  }\n",
       "</style>\n",
       "<div class=\"ansiout\"></div>"
      ]
     },
     "metadata": {
      "application/vnd.databricks.v1+output": {
       "addedWidgets": {},
       "arguments": {},
       "data": "<div class=\"ansiout\"></div>",
       "datasetInfos": [],
       "metadata": {},
       "removedWidgets": [],
       "type": "html"
      }
     },
     "output_type": "display_data"
    }
   ],
   "source": [
    "# Get the current year and save it into a variable\n",
    "current_year_df = spark.range(1).withColumn(\"current_year\", year(current_date()))\n",
    "current_year = current_year_df.collect()[0][\"current_year\"]"
   ]
  },
  {
   "cell_type": "code",
   "execution_count": 0,
   "metadata": {
    "application/vnd.databricks.v1+cell": {
     "cellMetadata": {
      "byteLimit": 2048000,
      "rowLimit": 10000
     },
     "inputWidgets": {},
     "nuid": "fff278e4-6f45-4f7f-8562-3f40228e6ede",
     "showTitle": false,
     "title": ""
    }
   },
   "outputs": [
    {
     "output_type": "display_data",
     "data": {
      "text/html": [
       "<style scoped>\n",
       "  .ansiout {\n",
       "    display: block;\n",
       "    unicode-bidi: embed;\n",
       "    white-space: pre-wrap;\n",
       "    word-wrap: break-word;\n",
       "    word-break: break-all;\n",
       "    font-family: \"Menlo\", \"Monaco\", \"Consolas\", \"Ubuntu Mono\", \"Source Code Pro\", monospace;\n",
       "    font-size: 13px;\n",
       "    color: #555;\n",
       "    margin-left: 4px;\n",
       "    line-height: 19px;\n",
       "  }\n",
       "</style>\n",
       "<div class=\"ansiout\">/mnt/addressrangesblob/Genesyis/Genesyis_2024_week_32\n",
       "</div>"
      ]
     },
     "metadata": {
      "application/vnd.databricks.v1+output": {
       "addedWidgets": {},
       "arguments": {},
       "data": "<div class=\"ansiout\">/mnt/addressrangesblob/Genesyis/Genesyis_2024_week_32\n</div>",
       "datasetInfos": [],
       "metadata": {},
       "removedWidgets": [],
       "type": "html"
      }
     },
     "output_type": "display_data"
    }
   ],
   "source": [
    "path = \"/mnt/addressrangesblob/Genesyis/\"\n",
    "finalPath = f\"{path}Genesyis_{current_year}_week_{week}\"\n",
    "print(finalPath)\n"
   ]
  },
  {
   "cell_type": "code",
   "execution_count": 0,
   "metadata": {
    "application/vnd.databricks.v1+cell": {
     "cellMetadata": {
      "byteLimit": 2048000,
      "rowLimit": 10000
     },
     "inputWidgets": {},
     "nuid": "bedd19f6-c7d5-4930-9efa-f76c55b136ad",
     "showTitle": false,
     "title": ""
    }
   },
   "outputs": [
    {
     "output_type": "display_data",
     "data": {
      "text/html": [
       "<style scoped>\n",
       "  .ansiout {\n",
       "    display: block;\n",
       "    unicode-bidi: embed;\n",
       "    white-space: pre-wrap;\n",
       "    word-wrap: break-word;\n",
       "    word-break: break-all;\n",
       "    font-family: \"Menlo\", \"Monaco\", \"Consolas\", \"Ubuntu Mono\", \"Source Code Pro\", monospace;\n",
       "    font-size: 13px;\n",
       "    color: #555;\n",
       "    margin-left: 4px;\n",
       "    line-height: 19px;\n",
       "  }\n",
       "</style>\n",
       "<div class=\"ansiout\"></div>"
      ]
     },
     "metadata": {
      "application/vnd.databricks.v1+output": {
       "addedWidgets": {},
       "arguments": {},
       "data": "<div class=\"ansiout\"></div>",
       "datasetInfos": [],
       "metadata": {},
       "removedWidgets": [],
       "type": "html"
      }
     },
     "output_type": "display_data"
    }
   ],
   "source": [
    "# Try to list the directory and handle the exception\n",
    "file_exists = False\n",
    "try:\n",
    "    files = dbutils.fs.ls(finalPath)\n",
    "    if files:\n",
    "        file_exists = True\n",
    "except Exception as e:\n",
    "    file_exists = False\n",
    "\n",
    "# Check if file exists\n",
    "if file_exists:\n",
    "    result.write.format(\"delta\").mode(\"append\").save(finalPath)\n",
    "else:\n",
    "    result.write.format(\"delta\").option(\"header\", \"true\").save(finalPath)\n",
    "    "
   ]
  },
  {
   "cell_type": "code",
   "execution_count": 0,
   "metadata": {
    "application/vnd.databricks.v1+cell": {
     "cellMetadata": {
      "byteLimit": 2048000,
      "rowLimit": 10000
     },
     "inputWidgets": {},
     "nuid": "d052f16e-97e8-4dfc-94e2-2f5f0d71a81a",
     "showTitle": false,
     "title": ""
    }
   },
   "outputs": [
    {
     "output_type": "display_data",
     "data": {
      "text/html": [
       "<style scoped>\n",
       "  .ansiout {\n",
       "    display: block;\n",
       "    unicode-bidi: embed;\n",
       "    white-space: pre-wrap;\n",
       "    word-wrap: break-word;\n",
       "    word-break: break-all;\n",
       "    font-family: \"Menlo\", \"Monaco\", \"Consolas\", \"Ubuntu Mono\", \"Source Code Pro\", monospace;\n",
       "    font-size: 13px;\n",
       "    color: #555;\n",
       "    margin-left: 4px;\n",
       "    line-height: 19px;\n",
       "  }\n",
       "</style>\n",
       "<div class=\"ansiout\">Out[30]: [FileInfo(path=&#39;dbfs:/mnt/addressrangesblob/Genesyis/Genesyis_2024_week_32/_delta_log/&#39;, name=&#39;_delta_log/&#39;, size=0, modificationTime=0),\n",
       " FileInfo(path=&#39;dbfs:/mnt/addressrangesblob/Genesyis/Genesyis_2024_week_32/part-00000-5840bf75-a65e-4dc3-acfd-278cd961aecf.c000.snappy.parquet&#39;, name=&#39;part-00000-5840bf75-a65e-4dc3-acfd-278cd961aecf.c000.snappy.parquet&#39;, size=4568, modificationTime=1708619945000),\n",
       " FileInfo(path=&#39;dbfs:/mnt/addressrangesblob/Genesyis/Genesyis_2024_week_32/part-00000-83e2cafd-1d4d-4d0d-a322-8d57ab2aceae.c000.snappy.parquet&#39;, name=&#39;part-00000-83e2cafd-1d4d-4d0d-a322-8d57ab2aceae.c000.snappy.parquet&#39;, size=4460, modificationTime=1708620320000)]</div>"
      ]
     },
     "metadata": {
      "application/vnd.databricks.v1+output": {
       "addedWidgets": {},
       "arguments": {},
       "data": "<div class=\"ansiout\">Out[30]: [FileInfo(path=&#39;dbfs:/mnt/addressrangesblob/Genesyis/Genesyis_2024_week_32/_delta_log/&#39;, name=&#39;_delta_log/&#39;, size=0, modificationTime=0),\n FileInfo(path=&#39;dbfs:/mnt/addressrangesblob/Genesyis/Genesyis_2024_week_32/part-00000-5840bf75-a65e-4dc3-acfd-278cd961aecf.c000.snappy.parquet&#39;, name=&#39;part-00000-5840bf75-a65e-4dc3-acfd-278cd961aecf.c000.snappy.parquet&#39;, size=4568, modificationTime=1708619945000),\n FileInfo(path=&#39;dbfs:/mnt/addressrangesblob/Genesyis/Genesyis_2024_week_32/part-00000-83e2cafd-1d4d-4d0d-a322-8d57ab2aceae.c000.snappy.parquet&#39;, name=&#39;part-00000-83e2cafd-1d4d-4d0d-a322-8d57ab2aceae.c000.snappy.parquet&#39;, size=4460, modificationTime=1708620320000)]</div>",
       "datasetInfos": [],
       "metadata": {},
       "removedWidgets": [],
       "type": "html"
      }
     },
     "output_type": "display_data"
    }
   ],
   "source": [
    "dbutils.fs.ls(finalPath)"
   ]
  },
  {
   "cell_type": "code",
   "execution_count": 0,
   "metadata": {
    "application/vnd.databricks.v1+cell": {
     "cellMetadata": {
      "byteLimit": 2048000,
      "rowLimit": 10000
     },
     "inputWidgets": {},
     "nuid": "59727fd6-0afe-46ac-843b-0efea3130801",
     "showTitle": false,
     "title": ""
    }
   },
   "outputs": [
    {
     "output_type": "display_data",
     "data": {
      "text/html": [
       "<style scoped>\n",
       "  .ansiout {\n",
       "    display: block;\n",
       "    unicode-bidi: embed;\n",
       "    white-space: pre-wrap;\n",
       "    word-wrap: break-word;\n",
       "    word-break: break-all;\n",
       "    font-family: \"Menlo\", \"Monaco\", \"Consolas\", \"Ubuntu Mono\", \"Source Code Pro\", monospace;\n",
       "    font-size: 13px;\n",
       "    color: #555;\n",
       "    margin-left: 4px;\n",
       "    line-height: 19px;\n",
       "  }\n",
       "</style>"
      ]
     },
     "metadata": {
      "application/vnd.databricks.v1+output": {
       "arguments": {},
       "data": "",
       "errorSummary": "The spark context has stopped and the driver is restarting. Your notebook will be automatically reattached.",
       "errorTraceType": "html",
       "metadata": {},
       "type": "ipynbError"
      }
     },
     "output_type": "display_data"
    }
   ],
   "source": [
    "spark.stop()"
   ]
  },
  {
   "cell_type": "code",
   "execution_count": 0,
   "metadata": {
    "application/vnd.databricks.v1+cell": {
     "cellMetadata": {},
     "inputWidgets": {},
     "nuid": "cd216d61-f9e2-40ef-b16c-322bcc25da15",
     "showTitle": false,
     "title": ""
    }
   },
   "outputs": [],
   "source": []
  }
 ],
 "metadata": {
  "application/vnd.databricks.v1+notebook": {
   "dashboards": [],
   "language": "python",
   "notebookMetadata": {
    "pythonIndentUnit": 4
   },
   "notebookName": "addressRangesGenesis_V1",
   "widgets": {
    "country": {
     "currentValue": "ESP",
     "nuid": "49a46c4e-bb94-45d0-b216-6ab5f9893a2d",
     "widgetInfo": {
      "widgetType": "text",
      "defaultValue": "",
      "label": null,
      "name": "country",
      "options": {
       "widgetType": "text",
       "autoCreated": null,
       "validationRegex": null
      }
     }
    },
    "week": {
     "currentValue": "32",
     "nuid": "71372237-8480-4652-90e6-e7ae279e4cbb",
     "widgetInfo": {
      "widgetType": "text",
      "defaultValue": "",
      "label": null,
      "name": "week",
      "options": {
       "widgetType": "text",
       "autoCreated": null,
       "validationRegex": null
      }
     }
    }
   }
  }
 },
 "nbformat": 4,
 "nbformat_minor": 0
}
