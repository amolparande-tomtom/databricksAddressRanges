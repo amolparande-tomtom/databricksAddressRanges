{
 "cells": [
  {
   "cell_type": "code",
   "execution_count": 0,
   "metadata": {
    "application/vnd.databricks.v1+cell": {
     "cellMetadata": {
      "byteLimit": 2048000,
      "rowLimit": 10000
     },
     "inputWidgets": {},
     "nuid": "c9797edb-f7a3-451f-beba-b6e576725f40",
     "showTitle": false,
     "title": ""
    }
   },
   "outputs": [
    {
     "output_type": "display_data",
     "data": {
      "text/html": [
       "<style scoped>\n",
       "  .ansiout {\n",
       "    display: block;\n",
       "    unicode-bidi: embed;\n",
       "    white-space: pre-wrap;\n",
       "    word-wrap: break-word;\n",
       "    word-break: break-all;\n",
       "    font-family: \"Menlo\", \"Monaco\", \"Consolas\", \"Ubuntu Mono\", \"Source Code Pro\", monospace;\n",
       "    font-size: 13px;\n",
       "    color: #555;\n",
       "    margin-left: 4px;\n",
       "    line-height: 19px;\n",
       "  }\n",
       "</style>\n",
       "<div class=\"ansiout\"></div>"
      ]
     },
     "metadata": {
      "application/vnd.databricks.v1+output": {
       "addedWidgets": {},
       "arguments": {},
       "data": "<div class=\"ansiout\"></div>",
       "datasetInfos": [],
       "metadata": {},
       "removedWidgets": [],
       "type": "html"
      }
     },
     "output_type": "display_data"
    }
   ],
   "source": [
    "dbutils.widgets.text(\"GenesyisFileName\",'')\n",
    "GenesyisFileName = dbutils.widgets.get(\"GenesyisFileName\")"
   ]
  },
  {
   "cell_type": "code",
   "execution_count": 0,
   "metadata": {
    "application/vnd.databricks.v1+cell": {
     "cellMetadata": {
      "byteLimit": 2048000,
      "rowLimit": 10000
     },
     "inputWidgets": {},
     "nuid": "fea9f4f2-414e-45d1-9876-24d931b5d504",
     "showTitle": false,
     "title": ""
    }
   },
   "outputs": [
    {
     "output_type": "display_data",
     "data": {
      "text/html": [
       "<style scoped>\n",
       "  .ansiout {\n",
       "    display: block;\n",
       "    unicode-bidi: embed;\n",
       "    white-space: pre-wrap;\n",
       "    word-wrap: break-word;\n",
       "    word-break: break-all;\n",
       "    font-family: \"Menlo\", \"Monaco\", \"Consolas\", \"Ubuntu Mono\", \"Source Code Pro\", monospace;\n",
       "    font-size: 13px;\n",
       "    color: #555;\n",
       "    margin-left: 4px;\n",
       "    line-height: 19px;\n",
       "  }\n",
       "</style>\n",
       "<div class=\"ansiout\">Genesyis2024_week_03_005\n",
       "</div>"
      ]
     },
     "metadata": {
      "application/vnd.databricks.v1+output": {
       "addedWidgets": {},
       "arguments": {},
       "data": "<div class=\"ansiout\">Genesyis2024_week_03_005\n</div>",
       "datasetInfos": [],
       "metadata": {},
       "removedWidgets": [],
       "type": "html"
      }
     },
     "output_type": "display_data"
    }
   ],
   "source": [
    "print(GenesyisFileName)"
   ]
  },
  {
   "cell_type": "code",
   "execution_count": 0,
   "metadata": {
    "application/vnd.databricks.v1+cell": {
     "cellMetadata": {
      "byteLimit": 2048000,
      "rowLimit": 10000
     },
     "inputWidgets": {},
     "nuid": "a421aa91-4b5e-4bab-820b-6acbe8a5e411",
     "showTitle": false,
     "title": ""
    }
   },
   "outputs": [
    {
     "output_type": "display_data",
     "data": {
      "text/html": [
       "<style scoped>\n",
       "  .ansiout {\n",
       "    display: block;\n",
       "    unicode-bidi: embed;\n",
       "    white-space: pre-wrap;\n",
       "    word-wrap: break-word;\n",
       "    word-break: break-all;\n",
       "    font-family: \"Menlo\", \"Monaco\", \"Consolas\", \"Ubuntu Mono\", \"Source Code Pro\", monospace;\n",
       "    font-size: 13px;\n",
       "    color: #555;\n",
       "    margin-left: 4px;\n",
       "    line-height: 19px;\n",
       "  }\n",
       "</style>\n",
       "<div class=\"ansiout\"></div>"
      ]
     },
     "metadata": {
      "application/vnd.databricks.v1+output": {
       "addedWidgets": {},
       "arguments": {},
       "data": "<div class=\"ansiout\"></div>",
       "datasetInfos": [],
       "metadata": {},
       "removedWidgets": [],
       "type": "html"
      }
     },
     "output_type": "display_data"
    }
   ],
   "source": [
    "dbutils.widgets.text(\"OrbisFileName\",'')\n",
    "OrbisFileName = dbutils.widgets.get(\"OrbisFileName\")"
   ]
  },
  {
   "cell_type": "code",
   "execution_count": 0,
   "metadata": {
    "application/vnd.databricks.v1+cell": {
     "cellMetadata": {
      "byteLimit": 2048000,
      "rowLimit": 10000
     },
     "inputWidgets": {},
     "nuid": "bc99e7bb-0e38-49db-9fe3-8c90dbf9a11c",
     "showTitle": false,
     "title": ""
    }
   },
   "outputs": [
    {
     "output_type": "display_data",
     "data": {
      "text/html": [
       "<style scoped>\n",
       "  .ansiout {\n",
       "    display: block;\n",
       "    unicode-bidi: embed;\n",
       "    white-space: pre-wrap;\n",
       "    word-wrap: break-word;\n",
       "    word-break: break-all;\n",
       "    font-family: \"Menlo\", \"Monaco\", \"Consolas\", \"Ubuntu Mono\", \"Source Code Pro\", monospace;\n",
       "    font-size: 13px;\n",
       "    color: #555;\n",
       "    margin-left: 4px;\n",
       "    line-height: 19px;\n",
       "  }\n",
       "</style>\n",
       "<div class=\"ansiout\">Orbis_24090.000\n",
       "</div>"
      ]
     },
     "metadata": {
      "application/vnd.databricks.v1+output": {
       "addedWidgets": {},
       "arguments": {},
       "data": "<div class=\"ansiout\">Orbis_24090.000\n</div>",
       "datasetInfos": [],
       "metadata": {},
       "removedWidgets": [],
       "type": "html"
      }
     },
     "output_type": "display_data"
    }
   ],
   "source": [
    "print(OrbisFileName)"
   ]
  },
  {
   "cell_type": "code",
   "execution_count": 0,
   "metadata": {
    "application/vnd.databricks.v1+cell": {
     "cellMetadata": {
      "byteLimit": 2048000,
      "rowLimit": 10000
     },
     "inputWidgets": {},
     "nuid": "383768fb-6655-488a-853c-059e6e8a659b",
     "showTitle": false,
     "title": ""
    }
   },
   "outputs": [
    {
     "output_type": "display_data",
     "data": {
      "text/html": [
       "<style scoped>\n",
       "  .ansiout {\n",
       "    display: block;\n",
       "    unicode-bidi: embed;\n",
       "    white-space: pre-wrap;\n",
       "    word-wrap: break-word;\n",
       "    word-break: break-all;\n",
       "    font-family: \"Menlo\", \"Monaco\", \"Consolas\", \"Ubuntu Mono\", \"Source Code Pro\", monospace;\n",
       "    font-size: 13px;\n",
       "    color: #555;\n",
       "    margin-left: 4px;\n",
       "    line-height: 19px;\n",
       "  }\n",
       "</style>\n",
       "<div class=\"ansiout\"></div>"
      ]
     },
     "metadata": {
      "application/vnd.databricks.v1+output": {
       "addedWidgets": {},
       "arguments": {},
       "data": "<div class=\"ansiout\"></div>",
       "datasetInfos": [],
       "metadata": {},
       "removedWidgets": [],
       "type": "html"
      }
     },
     "output_type": "display_data"
    }
   ],
   "source": [
    "# Check if the mount point already exists\n",
    "if not any(mountPoint.mountPoint == '/mnt/addressrangesblob' for mountPoint in dbutils.fs.mounts()):\n",
    "    # If the mount point doesn't exist, proceed with the mount operation\n",
    "    dbutils.fs.mount(\n",
    "        source='wasbs://address-ranges@addressrangesduplicate.blob.core.windows.net',\n",
    "        mount_point='/mnt/addressrangesblob',\n",
    "        extra_configs={\n",
    "            'fs.azure.account.key.addressrangesduplicate.blob.core.windows.net': 'p32JpcVTxylnEHoUIX91DUdaaGPE+P3Ipb8zGy8EfDiz01We6y1nl4ypauEQNGWa0rXdxP6SM0Py+ASt4Hbptg=='\n",
    "            \n",
    "        }\n",
    "    )"
   ]
  },
  {
   "cell_type": "code",
   "execution_count": 0,
   "metadata": {
    "application/vnd.databricks.v1+cell": {
     "cellMetadata": {
      "byteLimit": 2048000,
      "rowLimit": 10000
     },
     "inputWidgets": {},
     "nuid": "4976a2c0-6986-4261-9917-9e627e32f191",
     "showTitle": false,
     "title": ""
    }
   },
   "outputs": [
    {
     "output_type": "display_data",
     "data": {
      "text/html": [
       "<style scoped>\n",
       "  .ansiout {\n",
       "    display: block;\n",
       "    unicode-bidi: embed;\n",
       "    white-space: pre-wrap;\n",
       "    word-wrap: break-word;\n",
       "    word-break: break-all;\n",
       "    font-family: \"Menlo\", \"Monaco\", \"Consolas\", \"Ubuntu Mono\", \"Source Code Pro\", monospace;\n",
       "    font-size: 13px;\n",
       "    color: #555;\n",
       "    margin-left: 4px;\n",
       "    line-height: 19px;\n",
       "  }\n",
       "</style>\n",
       "<div class=\"ansiout\">Storage Mounted\n",
       "</div>"
      ]
     },
     "metadata": {
      "application/vnd.databricks.v1+output": {
       "addedWidgets": {},
       "arguments": {},
       "data": "<div class=\"ansiout\">Storage Mounted\n</div>",
       "datasetInfos": [],
       "metadata": {},
       "removedWidgets": [],
       "type": "html"
      }
     },
     "output_type": "display_data"
    }
   ],
   "source": [
    "print(\"Storage Mounted\")"
   ]
  },
  {
   "cell_type": "code",
   "execution_count": 0,
   "metadata": {
    "application/vnd.databricks.v1+cell": {
     "cellMetadata": {
      "byteLimit": 2048000,
      "rowLimit": 10000
     },
     "inputWidgets": {},
     "nuid": "65b5dbd1-a6a2-400f-a3fd-4139d1db49c6",
     "showTitle": false,
     "title": ""
    }
   },
   "outputs": [
    {
     "output_type": "display_data",
     "data": {
      "text/html": [
       "<style scoped>\n",
       "  .ansiout {\n",
       "    display: block;\n",
       "    unicode-bidi: embed;\n",
       "    white-space: pre-wrap;\n",
       "    word-wrap: break-word;\n",
       "    word-break: break-all;\n",
       "    font-family: \"Menlo\", \"Monaco\", \"Consolas\", \"Ubuntu Mono\", \"Source Code Pro\", monospace;\n",
       "    font-size: 13px;\n",
       "    color: #555;\n",
       "    margin-left: 4px;\n",
       "    line-height: 19px;\n",
       "  }\n",
       "</style>\n",
       "<div class=\"ansiout\">Out[56]: &#39;Genesyis2024_week_03_005&#39;</div>"
      ]
     },
     "metadata": {
      "application/vnd.databricks.v1+output": {
       "addedWidgets": {},
       "arguments": {},
       "data": "<div class=\"ansiout\">Out[56]: &#39;Genesyis2024_week_03_005&#39;</div>",
       "datasetInfos": [],
       "metadata": {},
       "removedWidgets": [],
       "type": "html"
      }
     },
     "output_type": "display_data"
    }
   ],
   "source": [
    "GenesyisFileName"
   ]
  },
  {
   "cell_type": "code",
   "execution_count": 0,
   "metadata": {
    "application/vnd.databricks.v1+cell": {
     "cellMetadata": {
      "byteLimit": 2048000,
      "rowLimit": 10000
     },
     "inputWidgets": {},
     "nuid": "934674d3-8fec-4a14-9c2a-0d6fbe06db3e",
     "showTitle": true,
     "title": "Genesyis Path"
    }
   },
   "outputs": [
    {
     "output_type": "display_data",
     "data": {
      "text/html": [
       "<style scoped>\n",
       "  .ansiout {\n",
       "    display: block;\n",
       "    unicode-bidi: embed;\n",
       "    white-space: pre-wrap;\n",
       "    word-wrap: break-word;\n",
       "    word-break: break-all;\n",
       "    font-family: \"Menlo\", \"Monaco\", \"Consolas\", \"Ubuntu Mono\", \"Source Code Pro\", monospace;\n",
       "    font-size: 13px;\n",
       "    color: #555;\n",
       "    margin-left: 4px;\n",
       "    line-height: 19px;\n",
       "  }\n",
       "</style>\n",
       "<div class=\"ansiout\">/mnt/addressrangesblob/Genesyis/Genesyis2024_week_03_005\n",
       "</div>"
      ]
     },
     "metadata": {
      "application/vnd.databricks.v1+output": {
       "addedWidgets": {},
       "arguments": {},
       "data": "<div class=\"ansiout\">/mnt/addressrangesblob/Genesyis/Genesyis2024_week_03_005\n</div>",
       "datasetInfos": [],
       "metadata": {},
       "removedWidgets": [],
       "type": "html"
      }
     },
     "output_type": "display_data"
    }
   ],
   "source": [
    "GenesyisPath = \"/mnt/addressrangesblob/Genesyis/\"\n",
    "\n",
    "GenesyisFileName = 'Genesyis2024_week_03_005'\n",
    "GenesyisFullPath= GenesyisPath + GenesyisFileName\n",
    "print(GenesyisFullPath)\n"
   ]
  },
  {
   "cell_type": "code",
   "execution_count": 0,
   "metadata": {
    "application/vnd.databricks.v1+cell": {
     "cellMetadata": {
      "byteLimit": 2048000,
      "rowLimit": 10000
     },
     "inputWidgets": {},
     "nuid": "161b333d-754b-4012-988b-5093bafc4deb",
     "showTitle": false,
     "title": ""
    }
   },
   "outputs": [
    {
     "output_type": "display_data",
     "data": {
      "text/html": [
       "<style scoped>\n",
       "  .ansiout {\n",
       "    display: block;\n",
       "    unicode-bidi: embed;\n",
       "    white-space: pre-wrap;\n",
       "    word-wrap: break-word;\n",
       "    word-break: break-all;\n",
       "    font-family: \"Menlo\", \"Monaco\", \"Consolas\", \"Ubuntu Mono\", \"Source Code Pro\", monospace;\n",
       "    font-size: 13px;\n",
       "    color: #555;\n",
       "    margin-left: 4px;\n",
       "    line-height: 19px;\n",
       "  }\n",
       "</style>\n",
       "<div class=\"ansiout\">/mnt/addressrangesblob/Orbis/Orbis_24090.000\n",
       "</div>"
      ]
     },
     "metadata": {
      "application/vnd.databricks.v1+output": {
       "addedWidgets": {},
       "arguments": {},
       "data": "<div class=\"ansiout\">/mnt/addressrangesblob/Orbis/Orbis_24090.000\n</div>",
       "datasetInfos": [],
       "metadata": {},
       "removedWidgets": [],
       "type": "html"
      }
     },
     "output_type": "display_data"
    }
   ],
   "source": [
    "Orbisway = \"/mnt/addressrangesblob/Orbis/\"\n",
    "\n",
    "OrbisFullPath= Orbisway + OrbisFileName\n",
    "print(OrbisFullPath)"
   ]
  },
  {
   "cell_type": "code",
   "execution_count": 0,
   "metadata": {
    "application/vnd.databricks.v1+cell": {
     "cellMetadata": {
      "byteLimit": 2048000,
      "rowLimit": 10000
     },
     "inputWidgets": {},
     "nuid": "a11bd469-76ac-445a-8b9a-82582a288a75",
     "showTitle": false,
     "title": ""
    }
   },
   "outputs": [
    {
     "output_type": "display_data",
     "data": {
      "text/html": [
       "<style scoped>\n",
       "  .ansiout {\n",
       "    display: block;\n",
       "    unicode-bidi: embed;\n",
       "    white-space: pre-wrap;\n",
       "    word-wrap: break-word;\n",
       "    word-break: break-all;\n",
       "    font-family: \"Menlo\", \"Monaco\", \"Consolas\", \"Ubuntu Mono\", \"Source Code Pro\", monospace;\n",
       "    font-size: 13px;\n",
       "    color: #555;\n",
       "    margin-left: 4px;\n",
       "    line-height: 19px;\n",
       "  }\n",
       "</style>\n",
       "<div class=\"ansiout\"></div>"
      ]
     },
     "metadata": {
      "application/vnd.databricks.v1+output": {
       "addedWidgets": {},
       "arguments": {},
       "data": "<div class=\"ansiout\"></div>",
       "datasetInfos": [],
       "metadata": {},
       "removedWidgets": [],
       "type": "html"
      }
     },
     "output_type": "display_data"
    }
   ],
   "source": [
    "try:\n",
    "    genesyisDF = spark.read.format(\"delta\").option(\"header\", \"true\").load(GenesyisFullPath)\n",
    "    # Perform operations on genesyisDF\n",
    "except Exception as e:\n",
    "    # Handle any exceptions that occur during the try block\n",
    "    print(\"Genesis file not present. Please check:\", str(e))"
   ]
  },
  {
   "cell_type": "code",
   "execution_count": 0,
   "metadata": {
    "application/vnd.databricks.v1+cell": {
     "cellMetadata": {
      "byteLimit": 2048000,
      "rowLimit": 10000
     },
     "inputWidgets": {},
     "nuid": "0e4abcdb-ec45-4984-9882-f8b202f80b7b",
     "showTitle": true,
     "title": "Read Genesys Files"
    }
   },
   "outputs": [
    {
     "output_type": "display_data",
     "data": {
      "text/html": [
       "<style scoped>\n",
       "  .ansiout {\n",
       "    display: block;\n",
       "    unicode-bidi: embed;\n",
       "    white-space: pre-wrap;\n",
       "    word-wrap: break-word;\n",
       "    word-break: break-all;\n",
       "    font-family: \"Menlo\", \"Monaco\", \"Consolas\", \"Ubuntu Mono\", \"Source Code Pro\", monospace;\n",
       "    font-size: 13px;\n",
       "    color: #555;\n",
       "    margin-left: 4px;\n",
       "    line-height: 19px;\n",
       "  }\n",
       "</style>\n",
       "<div class=\"ansiout\">/mnt/addressrangesblob/Genesyis/Genesyis2024_week_03_005\n",
       "</div>"
      ]
     },
     "metadata": {
      "application/vnd.databricks.v1+output": {
       "addedWidgets": {},
       "arguments": {},
       "data": "<div class=\"ansiout\">/mnt/addressrangesblob/Genesyis/Genesyis2024_week_03_005\n</div>",
       "datasetInfos": [],
       "metadata": {},
       "removedWidgets": [],
       "type": "html"
      }
     },
     "output_type": "display_data"
    }
   ],
   "source": [
    "# Get the current column names\n",
    "columns = genesyisDF.columns\n",
    "\n",
    "# Create new column names with the \"G_\" prefix\n",
    "new_columns = ['G_' + col for col in columns]\n",
    "\n",
    "# Use a for loop to rename each column\n",
    "for i in range(len(columns)):\n",
    "    genesyisDF = genesyisDF.withColumnRenamed(columns[i], new_columns[i])\n",
    "\n",
    "print(GenesyisFullPath)\n"
   ]
  },
  {
   "cell_type": "code",
   "execution_count": 0,
   "metadata": {
    "application/vnd.databricks.v1+cell": {
     "cellMetadata": {
      "byteLimit": 2048000,
      "rowLimit": 10000
     },
     "inputWidgets": {},
     "nuid": "5efe7595-1273-4a5d-910a-720efb4915d3",
     "showTitle": false,
     "title": ""
    }
   },
   "outputs": [
    {
     "output_type": "display_data",
     "data": {
      "text/html": [
       "<style scoped>\n",
       "  .ansiout {\n",
       "    display: block;\n",
       "    unicode-bidi: embed;\n",
       "    white-space: pre-wrap;\n",
       "    word-wrap: break-word;\n",
       "    word-break: break-all;\n",
       "    font-family: \"Menlo\", \"Monaco\", \"Consolas\", \"Ubuntu Mono\", \"Source Code Pro\", monospace;\n",
       "    font-size: 13px;\n",
       "    color: #555;\n",
       "    margin-left: 4px;\n",
       "    line-height: 19px;\n",
       "  }\n",
       "</style>\n",
       "<div class=\"ansiout\">/mnt/addressrangesblob/Orbis/Orbis_24090.000\n",
       "</div>"
      ]
     },
     "metadata": {
      "application/vnd.databricks.v1+output": {
       "addedWidgets": {},
       "arguments": {},
       "data": "<div class=\"ansiout\">/mnt/addressrangesblob/Orbis/Orbis_24090.000\n</div>",
       "datasetInfos": [],
       "metadata": {},
       "removedWidgets": [],
       "type": "html"
      }
     },
     "output_type": "display_data"
    }
   ],
   "source": [
    "print(OrbisFullPath)"
   ]
  },
  {
   "cell_type": "code",
   "execution_count": 0,
   "metadata": {
    "application/vnd.databricks.v1+cell": {
     "cellMetadata": {
      "byteLimit": 2048000,
      "rowLimit": 10000
     },
     "inputWidgets": {},
     "nuid": "02a67bb3-4ef1-4c0d-88e6-30bfd9be9bc3",
     "showTitle": true,
     "title": "Read Orbis file"
    }
   },
   "outputs": [
    {
     "output_type": "display_data",
     "data": {
      "text/html": [
       "<style scoped>\n",
       "  .ansiout {\n",
       "    display: block;\n",
       "    unicode-bidi: embed;\n",
       "    white-space: pre-wrap;\n",
       "    word-wrap: break-word;\n",
       "    word-break: break-all;\n",
       "    font-family: \"Menlo\", \"Monaco\", \"Consolas\", \"Ubuntu Mono\", \"Source Code Pro\", monospace;\n",
       "    font-size: 13px;\n",
       "    color: #555;\n",
       "    margin-left: 4px;\n",
       "    line-height: 19px;\n",
       "  }\n",
       "</style>\n",
       "<div class=\"ansiout\"></div>"
      ]
     },
     "metadata": {
      "application/vnd.databricks.v1+output": {
       "addedWidgets": {},
       "arguments": {},
       "data": "<div class=\"ansiout\"></div>",
       "datasetInfos": [],
       "metadata": {},
       "removedWidgets": [],
       "type": "html"
      }
     },
     "output_type": "display_data"
    }
   ],
   "source": [
    "try:\n",
    "    orbisDF = spark.read.format(\"delta\").option(\"header\",\"true\").load(OrbisFullPath)\n",
    "    # Perform operations on genesyisDF\n",
    "except Exception as e:\n",
    "    # Handle any exceptions that occur during the try block\n",
    "    print(\"Genesis file not present. Please check:\", str(e))\n",
    "\n"
   ]
  },
  {
   "cell_type": "code",
   "execution_count": 0,
   "metadata": {
    "application/vnd.databricks.v1+cell": {
     "cellMetadata": {
      "byteLimit": 2048000,
      "rowLimit": 10000
     },
     "inputWidgets": {},
     "nuid": "ab24cb5d-2c04-4caf-a18f-75c50e617014",
     "showTitle": false,
     "title": ""
    }
   },
   "outputs": [
    {
     "output_type": "display_data",
     "data": {
      "text/html": [
       "<style scoped>\n",
       "  .ansiout {\n",
       "    display: block;\n",
       "    unicode-bidi: embed;\n",
       "    white-space: pre-wrap;\n",
       "    word-wrap: break-word;\n",
       "    word-break: break-all;\n",
       "    font-family: \"Menlo\", \"Monaco\", \"Consolas\", \"Ubuntu Mono\", \"Source Code Pro\", monospace;\n",
       "    font-size: 13px;\n",
       "    color: #555;\n",
       "    margin-left: 4px;\n",
       "    line-height: 19px;\n",
       "  }\n",
       "</style>\n",
       "<div class=\"ansiout\">root\n",
       "-- O_country: string (nullable = true)\n",
       "-- O_license_zone: string (nullable = true)\n",
       "-- O_layer_id: string (nullable = true)\n",
       "-- O_interpolation: string (nullable = true)\n",
       "-- O_sum_hnr_array_count: long (nullable = true)\n",
       "-- O_AddreesRangesCount: long (nullable = true)\n",
       "-- O_link_apt_count_eq_0: long (nullable = true)\n",
       "-- O_link_apt_count_eq_1: long (nullable = true)\n",
       "-- O_link_apt_count_gt_1: long (nullable = true)\n",
       "-- O_hnr_ranges_0_500: long (nullable = true)\n",
       "-- O_hnr_ranges_501_1000: long (nullable = true)\n",
       "-- O_hnr_ranges_1001_2000: long (nullable = true)\n",
       "-- O_hnr_ranges_2001_3000: long (nullable = true)\n",
       "-- O_hnr_ranges_3001_5000: long (nullable = true)\n",
       "-- O_hnr_ranges_grt_5000: long (nullable = true)\n",
       "-- O_releaseVersion: string (nullable = true)\n",
       "-- O_current_date: date (nullable = true)\n",
       "\n",
       "</div>"
      ]
     },
     "metadata": {
      "application/vnd.databricks.v1+output": {
       "addedWidgets": {},
       "arguments": {},
       "data": "<div class=\"ansiout\">root\n |-- O_country: string (nullable = true)\n |-- O_license_zone: string (nullable = true)\n |-- O_layer_id: string (nullable = true)\n |-- O_interpolation: string (nullable = true)\n |-- O_sum_hnr_array_count: long (nullable = true)\n |-- O_AddreesRangesCount: long (nullable = true)\n |-- O_link_apt_count_eq_0: long (nullable = true)\n |-- O_link_apt_count_eq_1: long (nullable = true)\n |-- O_link_apt_count_gt_1: long (nullable = true)\n |-- O_hnr_ranges_0_500: long (nullable = true)\n |-- O_hnr_ranges_501_1000: long (nullable = true)\n |-- O_hnr_ranges_1001_2000: long (nullable = true)\n |-- O_hnr_ranges_2001_3000: long (nullable = true)\n |-- O_hnr_ranges_3001_5000: long (nullable = true)\n |-- O_hnr_ranges_grt_5000: long (nullable = true)\n |-- O_releaseVersion: string (nullable = true)\n |-- O_current_date: date (nullable = true)\n\n</div>",
       "datasetInfos": [],
       "metadata": {},
       "removedWidgets": [],
       "type": "html"
      }
     },
     "output_type": "display_data"
    }
   ],
   "source": [
    "# Get the current column names\n",
    "columns = orbisDF.columns\n",
    "\n",
    "# Create new column names with the \"G_\" prefix\n",
    "new_columns = ['O_' + col for col in columns]\n",
    "\n",
    "# Use a for loop to rename each column\n",
    "for i in range(len(columns)):\n",
    "    orbisDF = orbisDF.withColumnRenamed(columns[i], new_columns[i])\n",
    "\n",
    "orbisDF.printSchema()"
   ]
  },
  {
   "cell_type": "code",
   "execution_count": 0,
   "metadata": {
    "application/vnd.databricks.v1+cell": {
     "cellMetadata": {
      "byteLimit": 2048000,
      "rowLimit": 10000
     },
     "inputWidgets": {},
     "nuid": "9bcd2eea-1cb8-4c39-b1de-0d4d54279622",
     "showTitle": false,
     "title": ""
    }
   },
   "outputs": [
    {
     "output_type": "display_data",
     "data": {
      "text/html": [
       "<style scoped>\n",
       "  .table-result-container {\n",
       "    max-height: 300px;\n",
       "    overflow: auto;\n",
       "  }\n",
       "  table, th, td {\n",
       "    border: 1px solid black;\n",
       "    border-collapse: collapse;\n",
       "  }\n",
       "  th, td {\n",
       "    padding: 5px;\n",
       "  }\n",
       "  th {\n",
       "    text-align: left;\n",
       "  }\n",
       "</style><div class='table-result-container'><table class='table-result'><thead style='background-color: white'><tr><th>G_country</th><th>G_country_code</th><th>G_interpolation</th><th>G_sum_hnr_array_count</th><th>G_AddreesRangesCount</th><th>G_link_apt_count_eq_0</th><th>G_link_apt_count_eq_1</th><th>G_link_apt_count_gt_1</th><th>G_hnr_ranges_0_500</th><th>G_hnr_ranges_501_1000</th><th>G_hnr_ranges_1001_2000</th><th>G_hnr_ranges_2001_3000</th><th>G_hnr_ranges_3001_5000</th><th>G_hnr_ranges_grt_5000</th><th>G_current_date</th><th>G_releaseVersion</th><th>G_SchemaName</th></tr></thead><tbody><tr><td>pol</td><td>POL</td><td>even</td><td>11535699</td><td>1045138</td><td>1153810</td><td>2250754</td><td>8131135</td><td>2373606</td><td>172391</td><td>329444</td><td>275750</td><td>309477</td><td>8075031</td><td>2024-03-18</td><td>03_004</td><td>_2024_03_006_eur_pol_pol</td></tr><tr><td>pol</td><td>POL</td><td>irregular</td><td>251665</td><td>251593</td><td>17722</td><td>25261</td><td>208682</td><td>251665</td><td>0</td><td>0</td><td>0</td><td>0</td><td>0</td><td>2024-03-18</td><td>03_004</td><td>_2024_03_006_eur_pol_pol</td></tr><tr><td>pol</td><td>POL</td><td>numeric_mixed</td><td>1287233</td><td>198749</td><td>61850</td><td>202586</td><td>1022797</td><td>652961</td><td>58202</td><td>60270</td><td>30240</td><td>60627</td><td>424933</td><td>2024-03-18</td><td>03_004</td><td>_2024_03_006_eur_pol_pol</td></tr><tr><td>pol</td><td>POL</td><td>odd</td><td>8982397</td><td>1061563</td><td>686822</td><td>1569153</td><td>6726422</td><td>2395655</td><td>163663</td><td>329470</td><td>233603</td><td>366689</td><td>5493317</td><td>2024-03-18</td><td>03_004</td><td>_2024_03_006_eur_pol_pol</td></tr><tr><td>pol</td><td>POL</td><td>alphabetic</td><td>12785</td><td>11965</td><td>1162</td><td>2581</td><td>9042</td><td>12785</td><td>0</td><td>0</td><td>0</td><td>0</td><td>0</td><td>2024-03-18</td><td>03_004</td><td>_2024_03_006_eur_pol_pol</td></tr></tbody></table></div>"
      ]
     },
     "metadata": {
      "application/vnd.databricks.v1+output": {
       "addedWidgets": {},
       "aggData": [],
       "aggError": "",
       "aggOverflow": false,
       "aggSchema": [],
       "aggSeriesLimitReached": false,
       "aggType": "",
       "arguments": {},
       "columnCustomDisplayInfos": {},
       "data": [
        [
         "pol",
         "POL",
         "even",
         11535699,
         1045138,
         1153810,
         2250754,
         8131135,
         2373606,
         172391,
         329444,
         275750,
         309477,
         8075031,
         "2024-03-18",
         "03_004",
         "_2024_03_006_eur_pol_pol"
        ],
        [
         "pol",
         "POL",
         "irregular",
         251665,
         251593,
         17722,
         25261,
         208682,
         251665,
         0,
         0,
         0,
         0,
         0,
         "2024-03-18",
         "03_004",
         "_2024_03_006_eur_pol_pol"
        ],
        [
         "pol",
         "POL",
         "numeric_mixed",
         1287233,
         198749,
         61850,
         202586,
         1022797,
         652961,
         58202,
         60270,
         30240,
         60627,
         424933,
         "2024-03-18",
         "03_004",
         "_2024_03_006_eur_pol_pol"
        ],
        [
         "pol",
         "POL",
         "odd",
         8982397,
         1061563,
         686822,
         1569153,
         6726422,
         2395655,
         163663,
         329470,
         233603,
         366689,
         5493317,
         "2024-03-18",
         "03_004",
         "_2024_03_006_eur_pol_pol"
        ],
        [
         "pol",
         "POL",
         "alphabetic",
         12785,
         11965,
         1162,
         2581,
         9042,
         12785,
         0,
         0,
         0,
         0,
         0,
         "2024-03-18",
         "03_004",
         "_2024_03_006_eur_pol_pol"
        ]
       ],
       "datasetInfos": [],
       "dbfsResultPath": null,
       "isJsonSchema": true,
       "metadata": {},
       "overflow": false,
       "plotOptions": {
        "customPlotOptions": {},
        "displayType": "table",
        "pivotAggregation": null,
        "pivotColumns": null,
        "xColumns": null,
        "yColumns": null
       },
       "removedWidgets": [],
       "schema": [
        {
         "metadata": "{}",
         "name": "G_country",
         "type": "\"string\""
        },
        {
         "metadata": "{\"scale\":0}",
         "name": "G_country_code",
         "type": "\"string\""
        },
        {
         "metadata": "{}",
         "name": "G_interpolation",
         "type": "\"string\""
        },
        {
         "metadata": "{}",
         "name": "G_sum_hnr_array_count",
         "type": "\"long\""
        },
        {
         "metadata": "{}",
         "name": "G_AddreesRangesCount",
         "type": "\"long\""
        },
        {
         "metadata": "{}",
         "name": "G_link_apt_count_eq_0",
         "type": "\"long\""
        },
        {
         "metadata": "{}",
         "name": "G_link_apt_count_eq_1",
         "type": "\"long\""
        },
        {
         "metadata": "{}",
         "name": "G_link_apt_count_gt_1",
         "type": "\"long\""
        },
        {
         "metadata": "{}",
         "name": "G_hnr_ranges_0_500",
         "type": "\"long\""
        },
        {
         "metadata": "{}",
         "name": "G_hnr_ranges_501_1000",
         "type": "\"long\""
        },
        {
         "metadata": "{}",
         "name": "G_hnr_ranges_1001_2000",
         "type": "\"long\""
        },
        {
         "metadata": "{}",
         "name": "G_hnr_ranges_2001_3000",
         "type": "\"long\""
        },
        {
         "metadata": "{}",
         "name": "G_hnr_ranges_3001_5000",
         "type": "\"long\""
        },
        {
         "metadata": "{}",
         "name": "G_hnr_ranges_grt_5000",
         "type": "\"long\""
        },
        {
         "metadata": "{}",
         "name": "G_current_date",
         "type": "\"date\""
        },
        {
         "metadata": "{}",
         "name": "G_releaseVersion",
         "type": "\"string\""
        },
        {
         "metadata": "{}",
         "name": "G_SchemaName",
         "type": "\"string\""
        }
       ],
       "type": "table"
      }
     },
     "output_type": "display_data"
    }
   ],
   "source": [
    "display(genesyisDF)"
   ]
  },
  {
   "cell_type": "code",
   "execution_count": 0,
   "metadata": {
    "application/vnd.databricks.v1+cell": {
     "cellMetadata": {
      "byteLimit": 2048000,
      "rowLimit": 10000
     },
     "inputWidgets": {},
     "nuid": "917fb136-bf4b-467a-9ea0-0672b79c53df",
     "showTitle": false,
     "title": ""
    }
   },
   "outputs": [
    {
     "output_type": "display_data",
     "data": {
      "text/html": [
       "<style scoped>\n",
       "  .table-result-container {\n",
       "    max-height: 300px;\n",
       "    overflow: auto;\n",
       "  }\n",
       "  table, th, td {\n",
       "    border: 1px solid black;\n",
       "    border-collapse: collapse;\n",
       "  }\n",
       "  th, td {\n",
       "    padding: 5px;\n",
       "  }\n",
       "  th {\n",
       "    text-align: left;\n",
       "  }\n",
       "</style><div class='table-result-container'><table class='table-result'><thead style='background-color: white'><tr><th>O_country</th><th>O_license_zone</th><th>O_layer_id</th><th>O_interpolation</th><th>O_sum_hnr_array_count</th><th>O_AddreesRangesCount</th><th>O_link_apt_count_eq_0</th><th>O_link_apt_count_eq_1</th><th>O_link_apt_count_gt_1</th><th>O_hnr_ranges_0_500</th><th>O_hnr_ranges_501_1000</th><th>O_hnr_ranges_1001_2000</th><th>O_hnr_ranges_2001_3000</th><th>O_hnr_ranges_3001_5000</th><th>O_hnr_ranges_grt_5000</th><th>O_releaseVersion</th><th>O_current_date</th></tr></thead><tbody><tr><td>pol</td><td>pol</td><td>15633</td><td>alphabetic</td><td>67703</td><td>67554</td><td>2806</td><td>503</td><td>64394</td><td>67703</td><td>0</td><td>0</td><td>0</td><td>0</td><td>0</td><td>24090.000</td><td>2024-03-18</td></tr><tr><td>pol</td><td>pol</td><td>15633</td><td>even</td><td>19723055</td><td>547035</td><td>2080321</td><td>279689</td><td>17363045</td><td>2657200</td><td>207107</td><td>515174</td><td>506802</td><td>698530</td><td>15138242</td><td>24090.000</td><td>2024-03-18</td></tr><tr><td>pol</td><td>pol</td><td>15633</td><td>irregular</td><td>16069</td><td>15909</td><td>10421</td><td>1761</td><td>3887</td><td>16069</td><td>0</td><td>0</td><td>0</td><td>0</td><td>0</td><td>24090.000</td><td>2024-03-18</td></tr><tr><td>pol</td><td>pol</td><td>15633</td><td>numeric_mixed</td><td>21263110</td><td>511154</td><td>713439</td><td>93026</td><td>20456645</td><td>8079773</td><td>2733088</td><td>310437</td><td>164429</td><td>196354</td><td>9779029</td><td>24090.000</td><td>2024-03-18</td></tr><tr><td>pol</td><td>pol</td><td>15633</td><td>odd</td><td>19741499</td><td>552533</td><td>1698220</td><td>98179</td><td>17945100</td><td>2855059</td><td>190549</td><td>520395</td><td>435361</td><td>723444</td><td>15016691</td><td>24090.000</td><td>2024-03-18</td></tr></tbody></table></div>"
      ]
     },
     "metadata": {
      "application/vnd.databricks.v1+output": {
       "addedWidgets": {},
       "aggData": [],
       "aggError": "",
       "aggOverflow": false,
       "aggSchema": [],
       "aggSeriesLimitReached": false,
       "aggType": "",
       "arguments": {},
       "columnCustomDisplayInfos": {},
       "data": [
        [
         "pol",
         "pol",
         "15633",
         "alphabetic",
         67703,
         67554,
         2806,
         503,
         64394,
         67703,
         0,
         0,
         0,
         0,
         0,
         "24090.000",
         "2024-03-18"
        ],
        [
         "pol",
         "pol",
         "15633",
         "even",
         19723055,
         547035,
         2080321,
         279689,
         17363045,
         2657200,
         207107,
         515174,
         506802,
         698530,
         15138242,
         "24090.000",
         "2024-03-18"
        ],
        [
         "pol",
         "pol",
         "15633",
         "irregular",
         16069,
         15909,
         10421,
         1761,
         3887,
         16069,
         0,
         0,
         0,
         0,
         0,
         "24090.000",
         "2024-03-18"
        ],
        [
         "pol",
         "pol",
         "15633",
         "numeric_mixed",
         21263110,
         511154,
         713439,
         93026,
         20456645,
         8079773,
         2733088,
         310437,
         164429,
         196354,
         9779029,
         "24090.000",
         "2024-03-18"
        ],
        [
         "pol",
         "pol",
         "15633",
         "odd",
         19741499,
         552533,
         1698220,
         98179,
         17945100,
         2855059,
         190549,
         520395,
         435361,
         723444,
         15016691,
         "24090.000",
         "2024-03-18"
        ]
       ],
       "datasetInfos": [],
       "dbfsResultPath": null,
       "isJsonSchema": true,
       "metadata": {},
       "overflow": false,
       "plotOptions": {
        "customPlotOptions": {},
        "displayType": "table",
        "pivotAggregation": null,
        "pivotColumns": null,
        "xColumns": null,
        "yColumns": null
       },
       "removedWidgets": [],
       "schema": [
        {
         "metadata": "{}",
         "name": "O_country",
         "type": "\"string\""
        },
        {
         "metadata": "{}",
         "name": "O_license_zone",
         "type": "\"string\""
        },
        {
         "metadata": "{}",
         "name": "O_layer_id",
         "type": "\"string\""
        },
        {
         "metadata": "{}",
         "name": "O_interpolation",
         "type": "\"string\""
        },
        {
         "metadata": "{}",
         "name": "O_sum_hnr_array_count",
         "type": "\"long\""
        },
        {
         "metadata": "{}",
         "name": "O_AddreesRangesCount",
         "type": "\"long\""
        },
        {
         "metadata": "{}",
         "name": "O_link_apt_count_eq_0",
         "type": "\"long\""
        },
        {
         "metadata": "{}",
         "name": "O_link_apt_count_eq_1",
         "type": "\"long\""
        },
        {
         "metadata": "{}",
         "name": "O_link_apt_count_gt_1",
         "type": "\"long\""
        },
        {
         "metadata": "{}",
         "name": "O_hnr_ranges_0_500",
         "type": "\"long\""
        },
        {
         "metadata": "{}",
         "name": "O_hnr_ranges_501_1000",
         "type": "\"long\""
        },
        {
         "metadata": "{}",
         "name": "O_hnr_ranges_1001_2000",
         "type": "\"long\""
        },
        {
         "metadata": "{}",
         "name": "O_hnr_ranges_2001_3000",
         "type": "\"long\""
        },
        {
         "metadata": "{}",
         "name": "O_hnr_ranges_3001_5000",
         "type": "\"long\""
        },
        {
         "metadata": "{}",
         "name": "O_hnr_ranges_grt_5000",
         "type": "\"long\""
        },
        {
         "metadata": "{}",
         "name": "O_releaseVersion",
         "type": "\"string\""
        },
        {
         "metadata": "{}",
         "name": "O_current_date",
         "type": "\"date\""
        }
       ],
       "type": "table"
      }
     },
     "output_type": "display_data"
    }
   ],
   "source": [
    "display(orbisDF)"
   ]
  },
  {
   "cell_type": "code",
   "execution_count": 0,
   "metadata": {
    "application/vnd.databricks.v1+cell": {
     "cellMetadata": {
      "byteLimit": 2048000,
      "rowLimit": 10000
     },
     "inputWidgets": {},
     "nuid": "49447280-8d87-472a-9baf-ca7bec069964",
     "showTitle": false,
     "title": ""
    }
   },
   "outputs": [
    {
     "output_type": "display_data",
     "data": {
      "text/html": [
       "<style scoped>\n",
       "  .ansiout {\n",
       "    display: block;\n",
       "    unicode-bidi: embed;\n",
       "    white-space: pre-wrap;\n",
       "    word-wrap: break-word;\n",
       "    word-break: break-all;\n",
       "    font-family: \"Menlo\", \"Monaco\", \"Consolas\", \"Ubuntu Mono\", \"Source Code Pro\", monospace;\n",
       "    font-size: 13px;\n",
       "    color: #555;\n",
       "    margin-left: 4px;\n",
       "    line-height: 19px;\n",
       "  }\n",
       "</style>\n",
       "<div class=\"ansiout\"></div>"
      ]
     },
     "metadata": {
      "application/vnd.databricks.v1+output": {
       "addedWidgets": {},
       "arguments": {},
       "data": "<div class=\"ansiout\"></div>",
       "datasetInfos": [],
       "metadata": {},
       "removedWidgets": [],
       "type": "html"
      }
     },
     "output_type": "display_data"
    }
   ],
   "source": [
    "innterJoin = genesyisDF.join(orbisDF,\n",
    "                on=(genesyisDF['G_country']==orbisDF['O_country']) & (genesyisDF['G_interpolation']==orbisDF['O_interpolation']),\n",
    "                how='inner')"
   ]
  },
  {
   "cell_type": "code",
   "execution_count": 0,
   "metadata": {
    "application/vnd.databricks.v1+cell": {
     "cellMetadata": {
      "byteLimit": 2048000,
      "rowLimit": 10000
     },
     "inputWidgets": {},
     "nuid": "cb579329-4037-494d-8c58-ba1d4f2cae39",
     "showTitle": false,
     "title": ""
    }
   },
   "outputs": [
    {
     "output_type": "display_data",
     "data": {
      "text/html": [
       "<style scoped>\n",
       "  .table-result-container {\n",
       "    max-height: 300px;\n",
       "    overflow: auto;\n",
       "  }\n",
       "  table, th, td {\n",
       "    border: 1px solid black;\n",
       "    border-collapse: collapse;\n",
       "  }\n",
       "  th, td {\n",
       "    padding: 5px;\n",
       "  }\n",
       "  th {\n",
       "    text-align: left;\n",
       "  }\n",
       "</style><div class='table-result-container'><table class='table-result'><thead style='background-color: white'><tr><th>G_country</th><th>G_country_code</th><th>G_interpolation</th><th>G_sum_hnr_array_count</th><th>G_AddreesRangesCount</th><th>G_link_apt_count_eq_0</th><th>G_link_apt_count_eq_1</th><th>G_link_apt_count_gt_1</th><th>G_hnr_ranges_0_500</th><th>G_hnr_ranges_501_1000</th><th>G_hnr_ranges_1001_2000</th><th>G_hnr_ranges_2001_3000</th><th>G_hnr_ranges_3001_5000</th><th>G_hnr_ranges_grt_5000</th><th>G_current_date</th><th>G_releaseVersion</th><th>G_SchemaName</th><th>O_country</th><th>O_license_zone</th><th>O_layer_id</th><th>O_interpolation</th><th>O_sum_hnr_array_count</th><th>O_AddreesRangesCount</th><th>O_link_apt_count_eq_0</th><th>O_link_apt_count_eq_1</th><th>O_link_apt_count_gt_1</th><th>O_hnr_ranges_0_500</th><th>O_hnr_ranges_501_1000</th><th>O_hnr_ranges_1001_2000</th><th>O_hnr_ranges_2001_3000</th><th>O_hnr_ranges_3001_5000</th><th>O_hnr_ranges_grt_5000</th><th>O_releaseVersion</th><th>O_current_date</th></tr></thead><tbody><tr><td>pol</td><td>POL</td><td>even</td><td>11535699</td><td>1045138</td><td>1153810</td><td>2250754</td><td>8131135</td><td>2373606</td><td>172391</td><td>329444</td><td>275750</td><td>309477</td><td>8075031</td><td>2024-03-18</td><td>03_004</td><td>_2024_03_006_eur_pol_pol</td><td>pol</td><td>pol</td><td>15633</td><td>even</td><td>19723055</td><td>547035</td><td>2080321</td><td>279689</td><td>17363045</td><td>2657200</td><td>207107</td><td>515174</td><td>506802</td><td>698530</td><td>15138242</td><td>24090.000</td><td>2024-03-18</td></tr><tr><td>pol</td><td>POL</td><td>irregular</td><td>251665</td><td>251593</td><td>17722</td><td>25261</td><td>208682</td><td>251665</td><td>0</td><td>0</td><td>0</td><td>0</td><td>0</td><td>2024-03-18</td><td>03_004</td><td>_2024_03_006_eur_pol_pol</td><td>pol</td><td>pol</td><td>15633</td><td>irregular</td><td>16069</td><td>15909</td><td>10421</td><td>1761</td><td>3887</td><td>16069</td><td>0</td><td>0</td><td>0</td><td>0</td><td>0</td><td>24090.000</td><td>2024-03-18</td></tr><tr><td>pol</td><td>POL</td><td>numeric_mixed</td><td>1287233</td><td>198749</td><td>61850</td><td>202586</td><td>1022797</td><td>652961</td><td>58202</td><td>60270</td><td>30240</td><td>60627</td><td>424933</td><td>2024-03-18</td><td>03_004</td><td>_2024_03_006_eur_pol_pol</td><td>pol</td><td>pol</td><td>15633</td><td>numeric_mixed</td><td>21263110</td><td>511154</td><td>713439</td><td>93026</td><td>20456645</td><td>8079773</td><td>2733088</td><td>310437</td><td>164429</td><td>196354</td><td>9779029</td><td>24090.000</td><td>2024-03-18</td></tr><tr><td>pol</td><td>POL</td><td>odd</td><td>8982397</td><td>1061563</td><td>686822</td><td>1569153</td><td>6726422</td><td>2395655</td><td>163663</td><td>329470</td><td>233603</td><td>366689</td><td>5493317</td><td>2024-03-18</td><td>03_004</td><td>_2024_03_006_eur_pol_pol</td><td>pol</td><td>pol</td><td>15633</td><td>odd</td><td>19741499</td><td>552533</td><td>1698220</td><td>98179</td><td>17945100</td><td>2855059</td><td>190549</td><td>520395</td><td>435361</td><td>723444</td><td>15016691</td><td>24090.000</td><td>2024-03-18</td></tr><tr><td>pol</td><td>POL</td><td>alphabetic</td><td>12785</td><td>11965</td><td>1162</td><td>2581</td><td>9042</td><td>12785</td><td>0</td><td>0</td><td>0</td><td>0</td><td>0</td><td>2024-03-18</td><td>03_004</td><td>_2024_03_006_eur_pol_pol</td><td>pol</td><td>pol</td><td>15633</td><td>alphabetic</td><td>67703</td><td>67554</td><td>2806</td><td>503</td><td>64394</td><td>67703</td><td>0</td><td>0</td><td>0</td><td>0</td><td>0</td><td>24090.000</td><td>2024-03-18</td></tr></tbody></table></div>"
      ]
     },
     "metadata": {
      "application/vnd.databricks.v1+output": {
       "addedWidgets": {},
       "aggData": [],
       "aggError": "",
       "aggOverflow": false,
       "aggSchema": [],
       "aggSeriesLimitReached": false,
       "aggType": "",
       "arguments": {},
       "columnCustomDisplayInfos": {},
       "data": [
        [
         "pol",
         "POL",
         "even",
         11535699,
         1045138,
         1153810,
         2250754,
         8131135,
         2373606,
         172391,
         329444,
         275750,
         309477,
         8075031,
         "2024-03-18",
         "03_004",
         "_2024_03_006_eur_pol_pol",
         "pol",
         "pol",
         "15633",
         "even",
         19723055,
         547035,
         2080321,
         279689,
         17363045,
         2657200,
         207107,
         515174,
         506802,
         698530,
         15138242,
         "24090.000",
         "2024-03-18"
        ],
        [
         "pol",
         "POL",
         "irregular",
         251665,
         251593,
         17722,
         25261,
         208682,
         251665,
         0,
         0,
         0,
         0,
         0,
         "2024-03-18",
         "03_004",
         "_2024_03_006_eur_pol_pol",
         "pol",
         "pol",
         "15633",
         "irregular",
         16069,
         15909,
         10421,
         1761,
         3887,
         16069,
         0,
         0,
         0,
         0,
         0,
         "24090.000",
         "2024-03-18"
        ],
        [
         "pol",
         "POL",
         "numeric_mixed",
         1287233,
         198749,
         61850,
         202586,
         1022797,
         652961,
         58202,
         60270,
         30240,
         60627,
         424933,
         "2024-03-18",
         "03_004",
         "_2024_03_006_eur_pol_pol",
         "pol",
         "pol",
         "15633",
         "numeric_mixed",
         21263110,
         511154,
         713439,
         93026,
         20456645,
         8079773,
         2733088,
         310437,
         164429,
         196354,
         9779029,
         "24090.000",
         "2024-03-18"
        ],
        [
         "pol",
         "POL",
         "odd",
         8982397,
         1061563,
         686822,
         1569153,
         6726422,
         2395655,
         163663,
         329470,
         233603,
         366689,
         5493317,
         "2024-03-18",
         "03_004",
         "_2024_03_006_eur_pol_pol",
         "pol",
         "pol",
         "15633",
         "odd",
         19741499,
         552533,
         1698220,
         98179,
         17945100,
         2855059,
         190549,
         520395,
         435361,
         723444,
         15016691,
         "24090.000",
         "2024-03-18"
        ],
        [
         "pol",
         "POL",
         "alphabetic",
         12785,
         11965,
         1162,
         2581,
         9042,
         12785,
         0,
         0,
         0,
         0,
         0,
         "2024-03-18",
         "03_004",
         "_2024_03_006_eur_pol_pol",
         "pol",
         "pol",
         "15633",
         "alphabetic",
         67703,
         67554,
         2806,
         503,
         64394,
         67703,
         0,
         0,
         0,
         0,
         0,
         "24090.000",
         "2024-03-18"
        ]
       ],
       "datasetInfos": [],
       "dbfsResultPath": null,
       "isJsonSchema": true,
       "metadata": {},
       "overflow": false,
       "plotOptions": {
        "customPlotOptions": {},
        "displayType": "table",
        "pivotAggregation": null,
        "pivotColumns": null,
        "xColumns": null,
        "yColumns": null
       },
       "removedWidgets": [],
       "schema": [
        {
         "metadata": "{}",
         "name": "G_country",
         "type": "\"string\""
        },
        {
         "metadata": "{\"scale\":0}",
         "name": "G_country_code",
         "type": "\"string\""
        },
        {
         "metadata": "{}",
         "name": "G_interpolation",
         "type": "\"string\""
        },
        {
         "metadata": "{}",
         "name": "G_sum_hnr_array_count",
         "type": "\"long\""
        },
        {
         "metadata": "{}",
         "name": "G_AddreesRangesCount",
         "type": "\"long\""
        },
        {
         "metadata": "{}",
         "name": "G_link_apt_count_eq_0",
         "type": "\"long\""
        },
        {
         "metadata": "{}",
         "name": "G_link_apt_count_eq_1",
         "type": "\"long\""
        },
        {
         "metadata": "{}",
         "name": "G_link_apt_count_gt_1",
         "type": "\"long\""
        },
        {
         "metadata": "{}",
         "name": "G_hnr_ranges_0_500",
         "type": "\"long\""
        },
        {
         "metadata": "{}",
         "name": "G_hnr_ranges_501_1000",
         "type": "\"long\""
        },
        {
         "metadata": "{}",
         "name": "G_hnr_ranges_1001_2000",
         "type": "\"long\""
        },
        {
         "metadata": "{}",
         "name": "G_hnr_ranges_2001_3000",
         "type": "\"long\""
        },
        {
         "metadata": "{}",
         "name": "G_hnr_ranges_3001_5000",
         "type": "\"long\""
        },
        {
         "metadata": "{}",
         "name": "G_hnr_ranges_grt_5000",
         "type": "\"long\""
        },
        {
         "metadata": "{}",
         "name": "G_current_date",
         "type": "\"date\""
        },
        {
         "metadata": "{}",
         "name": "G_releaseVersion",
         "type": "\"string\""
        },
        {
         "metadata": "{}",
         "name": "G_SchemaName",
         "type": "\"string\""
        },
        {
         "metadata": "{}",
         "name": "O_country",
         "type": "\"string\""
        },
        {
         "metadata": "{}",
         "name": "O_license_zone",
         "type": "\"string\""
        },
        {
         "metadata": "{}",
         "name": "O_layer_id",
         "type": "\"string\""
        },
        {
         "metadata": "{}",
         "name": "O_interpolation",
         "type": "\"string\""
        },
        {
         "metadata": "{}",
         "name": "O_sum_hnr_array_count",
         "type": "\"long\""
        },
        {
         "metadata": "{}",
         "name": "O_AddreesRangesCount",
         "type": "\"long\""
        },
        {
         "metadata": "{}",
         "name": "O_link_apt_count_eq_0",
         "type": "\"long\""
        },
        {
         "metadata": "{}",
         "name": "O_link_apt_count_eq_1",
         "type": "\"long\""
        },
        {
         "metadata": "{}",
         "name": "O_link_apt_count_gt_1",
         "type": "\"long\""
        },
        {
         "metadata": "{}",
         "name": "O_hnr_ranges_0_500",
         "type": "\"long\""
        },
        {
         "metadata": "{}",
         "name": "O_hnr_ranges_501_1000",
         "type": "\"long\""
        },
        {
         "metadata": "{}",
         "name": "O_hnr_ranges_1001_2000",
         "type": "\"long\""
        },
        {
         "metadata": "{}",
         "name": "O_hnr_ranges_2001_3000",
         "type": "\"long\""
        },
        {
         "metadata": "{}",
         "name": "O_hnr_ranges_3001_5000",
         "type": "\"long\""
        },
        {
         "metadata": "{}",
         "name": "O_hnr_ranges_grt_5000",
         "type": "\"long\""
        },
        {
         "metadata": "{}",
         "name": "O_releaseVersion",
         "type": "\"string\""
        },
        {
         "metadata": "{}",
         "name": "O_current_date",
         "type": "\"date\""
        }
       ],
       "type": "table"
      }
     },
     "output_type": "display_data"
    }
   ],
   "source": [
    "display(innterJoin)"
   ]
  },
  {
   "cell_type": "code",
   "execution_count": 0,
   "metadata": {
    "application/vnd.databricks.v1+cell": {
     "cellMetadata": {
      "byteLimit": 2048000,
      "rowLimit": 10000
     },
     "inputWidgets": {},
     "nuid": "a09e4fa8-f491-4d11-88ed-1457c37e7f06",
     "showTitle": false,
     "title": ""
    }
   },
   "outputs": [
    {
     "output_type": "display_data",
     "data": {
      "text/html": [
       "<style scoped>\n",
       "  .ansiout {\n",
       "    display: block;\n",
       "    unicode-bidi: embed;\n",
       "    white-space: pre-wrap;\n",
       "    word-wrap: break-word;\n",
       "    word-break: break-all;\n",
       "    font-family: \"Menlo\", \"Monaco\", \"Consolas\", \"Ubuntu Mono\", \"Source Code Pro\", monospace;\n",
       "    font-size: 13px;\n",
       "    color: #555;\n",
       "    margin-left: 4px;\n",
       "    line-height: 19px;\n",
       "  }\n",
       "</style>\n",
       "<div class=\"ansiout\"></div>"
      ]
     },
     "metadata": {
      "application/vnd.databricks.v1+output": {
       "addedWidgets": {},
       "arguments": {},
       "data": "<div class=\"ansiout\"></div>",
       "datasetInfos": [],
       "metadata": {},
       "removedWidgets": [],
       "type": "html"
      }
     },
     "output_type": "display_data"
    }
   ],
   "source": [
    "leftAntiJoin = genesyisDF.join(orbisDF,\n",
    "                on=(genesyisDF['G_country']==orbisDF['O_country']) & (genesyisDF['G_interpolation']==orbisDF['O_interpolation']),\n",
    "                how='left')\n",
    "leftAntiJoin = leftAntiJoin.filter(orbisDF['O_country'].isNull())"
   ]
  },
  {
   "cell_type": "code",
   "execution_count": 0,
   "metadata": {
    "application/vnd.databricks.v1+cell": {
     "cellMetadata": {
      "byteLimit": 2048000,
      "rowLimit": 10000
     },
     "inputWidgets": {},
     "nuid": "86ba11c2-7c68-4520-8ccf-7fa157017f81",
     "showTitle": false,
     "title": ""
    }
   },
   "outputs": [
    {
     "output_type": "display_data",
     "data": {
      "text/html": [
       "<style scoped>\n",
       "  .table-result-container {\n",
       "    max-height: 300px;\n",
       "    overflow: auto;\n",
       "  }\n",
       "  table, th, td {\n",
       "    border: 1px solid black;\n",
       "    border-collapse: collapse;\n",
       "  }\n",
       "  th, td {\n",
       "    padding: 5px;\n",
       "  }\n",
       "  th {\n",
       "    text-align: left;\n",
       "  }\n",
       "</style><div class='table-result-container'><table class='table-result'><thead style='background-color: white'><tr><th>G_country</th><th>G_country_code</th><th>G_interpolation</th><th>G_sum_hnr_array_count</th><th>G_AddreesRangesCount</th><th>G_link_apt_count_eq_0</th><th>G_link_apt_count_eq_1</th><th>G_link_apt_count_gt_1</th><th>G_hnr_ranges_0_500</th><th>G_hnr_ranges_501_1000</th><th>G_hnr_ranges_1001_2000</th><th>G_hnr_ranges_2001_3000</th><th>G_hnr_ranges_3001_5000</th><th>G_hnr_ranges_grt_5000</th><th>G_current_date</th><th>G_releaseVersion</th><th>G_SchemaName</th><th>O_country</th><th>O_license_zone</th><th>O_layer_id</th><th>O_interpolation</th><th>O_sum_hnr_array_count</th><th>O_AddreesRangesCount</th><th>O_link_apt_count_eq_0</th><th>O_link_apt_count_eq_1</th><th>O_link_apt_count_gt_1</th><th>O_hnr_ranges_0_500</th><th>O_hnr_ranges_501_1000</th><th>O_hnr_ranges_1001_2000</th><th>O_hnr_ranges_2001_3000</th><th>O_hnr_ranges_3001_5000</th><th>O_hnr_ranges_grt_5000</th><th>O_releaseVersion</th><th>O_current_date</th></tr></thead><tbody></tbody></table></div>"
      ]
     },
     "metadata": {
      "application/vnd.databricks.v1+output": {
       "addedWidgets": {},
       "aggData": [],
       "aggError": "",
       "aggOverflow": false,
       "aggSchema": [],
       "aggSeriesLimitReached": false,
       "aggType": "",
       "arguments": {},
       "columnCustomDisplayInfos": {},
       "data": [],
       "datasetInfos": [],
       "dbfsResultPath": null,
       "isJsonSchema": true,
       "metadata": {},
       "overflow": false,
       "plotOptions": {
        "customPlotOptions": {},
        "displayType": "table",
        "pivotAggregation": null,
        "pivotColumns": null,
        "xColumns": null,
        "yColumns": null
       },
       "removedWidgets": [],
       "schema": [
        {
         "metadata": "{}",
         "name": "G_country",
         "type": "\"string\""
        },
        {
         "metadata": "{\"scale\":0}",
         "name": "G_country_code",
         "type": "\"string\""
        },
        {
         "metadata": "{}",
         "name": "G_interpolation",
         "type": "\"string\""
        },
        {
         "metadata": "{}",
         "name": "G_sum_hnr_array_count",
         "type": "\"long\""
        },
        {
         "metadata": "{}",
         "name": "G_AddreesRangesCount",
         "type": "\"long\""
        },
        {
         "metadata": "{}",
         "name": "G_link_apt_count_eq_0",
         "type": "\"long\""
        },
        {
         "metadata": "{}",
         "name": "G_link_apt_count_eq_1",
         "type": "\"long\""
        },
        {
         "metadata": "{}",
         "name": "G_link_apt_count_gt_1",
         "type": "\"long\""
        },
        {
         "metadata": "{}",
         "name": "G_hnr_ranges_0_500",
         "type": "\"long\""
        },
        {
         "metadata": "{}",
         "name": "G_hnr_ranges_501_1000",
         "type": "\"long\""
        },
        {
         "metadata": "{}",
         "name": "G_hnr_ranges_1001_2000",
         "type": "\"long\""
        },
        {
         "metadata": "{}",
         "name": "G_hnr_ranges_2001_3000",
         "type": "\"long\""
        },
        {
         "metadata": "{}",
         "name": "G_hnr_ranges_3001_5000",
         "type": "\"long\""
        },
        {
         "metadata": "{}",
         "name": "G_hnr_ranges_grt_5000",
         "type": "\"long\""
        },
        {
         "metadata": "{}",
         "name": "G_current_date",
         "type": "\"date\""
        },
        {
         "metadata": "{}",
         "name": "G_releaseVersion",
         "type": "\"string\""
        },
        {
         "metadata": "{}",
         "name": "G_SchemaName",
         "type": "\"string\""
        },
        {
         "metadata": "{}",
         "name": "O_country",
         "type": "\"string\""
        },
        {
         "metadata": "{}",
         "name": "O_license_zone",
         "type": "\"string\""
        },
        {
         "metadata": "{}",
         "name": "O_layer_id",
         "type": "\"string\""
        },
        {
         "metadata": "{}",
         "name": "O_interpolation",
         "type": "\"string\""
        },
        {
         "metadata": "{}",
         "name": "O_sum_hnr_array_count",
         "type": "\"long\""
        },
        {
         "metadata": "{}",
         "name": "O_AddreesRangesCount",
         "type": "\"long\""
        },
        {
         "metadata": "{}",
         "name": "O_link_apt_count_eq_0",
         "type": "\"long\""
        },
        {
         "metadata": "{}",
         "name": "O_link_apt_count_eq_1",
         "type": "\"long\""
        },
        {
         "metadata": "{}",
         "name": "O_link_apt_count_gt_1",
         "type": "\"long\""
        },
        {
         "metadata": "{}",
         "name": "O_hnr_ranges_0_500",
         "type": "\"long\""
        },
        {
         "metadata": "{}",
         "name": "O_hnr_ranges_501_1000",
         "type": "\"long\""
        },
        {
         "metadata": "{}",
         "name": "O_hnr_ranges_1001_2000",
         "type": "\"long\""
        },
        {
         "metadata": "{}",
         "name": "O_hnr_ranges_2001_3000",
         "type": "\"long\""
        },
        {
         "metadata": "{}",
         "name": "O_hnr_ranges_3001_5000",
         "type": "\"long\""
        },
        {
         "metadata": "{}",
         "name": "O_hnr_ranges_grt_5000",
         "type": "\"long\""
        },
        {
         "metadata": "{}",
         "name": "O_releaseVersion",
         "type": "\"string\""
        },
        {
         "metadata": "{}",
         "name": "O_current_date",
         "type": "\"date\""
        }
       ],
       "type": "table"
      }
     },
     "output_type": "display_data"
    }
   ],
   "source": [
    "display(leftAntiJoin)"
   ]
  },
  {
   "cell_type": "code",
   "execution_count": 0,
   "metadata": {
    "application/vnd.databricks.v1+cell": {
     "cellMetadata": {
      "byteLimit": 2048000,
      "rowLimit": 10000
     },
     "inputWidgets": {},
     "nuid": "0f66d19e-82dc-42b8-a672-126ad58da929",
     "showTitle": false,
     "title": ""
    }
   },
   "outputs": [
    {
     "output_type": "display_data",
     "data": {
      "text/html": [
       "<style scoped>\n",
       "  .ansiout {\n",
       "    display: block;\n",
       "    unicode-bidi: embed;\n",
       "    white-space: pre-wrap;\n",
       "    word-wrap: break-word;\n",
       "    word-break: break-all;\n",
       "    font-family: \"Menlo\", \"Monaco\", \"Consolas\", \"Ubuntu Mono\", \"Source Code Pro\", monospace;\n",
       "    font-size: 13px;\n",
       "    color: #555;\n",
       "    margin-left: 4px;\n",
       "    line-height: 19px;\n",
       "  }\n",
       "</style>\n",
       "<div class=\"ansiout\"></div>"
      ]
     },
     "metadata": {
      "application/vnd.databricks.v1+output": {
       "addedWidgets": {},
       "arguments": {},
       "data": "<div class=\"ansiout\"></div>",
       "datasetInfos": [],
       "metadata": {},
       "removedWidgets": [],
       "type": "html"
      }
     },
     "output_type": "display_data"
    }
   ],
   "source": [
    "AntiJoin = genesyisDF.join(orbisDF,\n",
    "                        on=(genesyisDF['G_country'] == orbisDF['O_country']) & (genesyisDF['G_interpolation'] == orbisDF['O_interpolation']),\n",
    "                        how='right')\n",
    "rightAntiJoint = AntiJoin.filter(genesyisDF['G_country'].isNull())"
   ]
  },
  {
   "cell_type": "code",
   "execution_count": 0,
   "metadata": {
    "application/vnd.databricks.v1+cell": {
     "cellMetadata": {
      "byteLimit": 2048000,
      "rowLimit": 10000
     },
     "inputWidgets": {},
     "nuid": "aa892e94-6700-4b59-975d-7a6b555705b7",
     "showTitle": false,
     "title": ""
    }
   },
   "outputs": [
    {
     "output_type": "display_data",
     "data": {
      "text/html": [
       "<style scoped>\n",
       "  .table-result-container {\n",
       "    max-height: 300px;\n",
       "    overflow: auto;\n",
       "  }\n",
       "  table, th, td {\n",
       "    border: 1px solid black;\n",
       "    border-collapse: collapse;\n",
       "  }\n",
       "  th, td {\n",
       "    padding: 5px;\n",
       "  }\n",
       "  th {\n",
       "    text-align: left;\n",
       "  }\n",
       "</style><div class='table-result-container'><table class='table-result'><thead style='background-color: white'><tr><th>G_country</th><th>G_country_code</th><th>G_interpolation</th><th>G_sum_hnr_array_count</th><th>G_AddreesRangesCount</th><th>G_link_apt_count_eq_0</th><th>G_link_apt_count_eq_1</th><th>G_link_apt_count_gt_1</th><th>G_hnr_ranges_0_500</th><th>G_hnr_ranges_501_1000</th><th>G_hnr_ranges_1001_2000</th><th>G_hnr_ranges_2001_3000</th><th>G_hnr_ranges_3001_5000</th><th>G_hnr_ranges_grt_5000</th><th>G_current_date</th><th>G_releaseVersion</th><th>G_SchemaName</th><th>O_country</th><th>O_license_zone</th><th>O_layer_id</th><th>O_interpolation</th><th>O_sum_hnr_array_count</th><th>O_AddreesRangesCount</th><th>O_link_apt_count_eq_0</th><th>O_link_apt_count_eq_1</th><th>O_link_apt_count_gt_1</th><th>O_hnr_ranges_0_500</th><th>O_hnr_ranges_501_1000</th><th>O_hnr_ranges_1001_2000</th><th>O_hnr_ranges_2001_3000</th><th>O_hnr_ranges_3001_5000</th><th>O_hnr_ranges_grt_5000</th><th>O_releaseVersion</th><th>O_current_date</th></tr></thead><tbody></tbody></table></div>"
      ]
     },
     "metadata": {
      "application/vnd.databricks.v1+output": {
       "addedWidgets": {},
       "aggData": [],
       "aggError": "",
       "aggOverflow": false,
       "aggSchema": [],
       "aggSeriesLimitReached": false,
       "aggType": "",
       "arguments": {},
       "columnCustomDisplayInfos": {},
       "data": [],
       "datasetInfos": [],
       "dbfsResultPath": null,
       "isJsonSchema": true,
       "metadata": {},
       "overflow": false,
       "plotOptions": {
        "customPlotOptions": {},
        "displayType": "table",
        "pivotAggregation": null,
        "pivotColumns": null,
        "xColumns": null,
        "yColumns": null
       },
       "removedWidgets": [],
       "schema": [
        {
         "metadata": "{}",
         "name": "G_country",
         "type": "\"string\""
        },
        {
         "metadata": "{\"scale\":0}",
         "name": "G_country_code",
         "type": "\"string\""
        },
        {
         "metadata": "{}",
         "name": "G_interpolation",
         "type": "\"string\""
        },
        {
         "metadata": "{}",
         "name": "G_sum_hnr_array_count",
         "type": "\"long\""
        },
        {
         "metadata": "{}",
         "name": "G_AddreesRangesCount",
         "type": "\"long\""
        },
        {
         "metadata": "{}",
         "name": "G_link_apt_count_eq_0",
         "type": "\"long\""
        },
        {
         "metadata": "{}",
         "name": "G_link_apt_count_eq_1",
         "type": "\"long\""
        },
        {
         "metadata": "{}",
         "name": "G_link_apt_count_gt_1",
         "type": "\"long\""
        },
        {
         "metadata": "{}",
         "name": "G_hnr_ranges_0_500",
         "type": "\"long\""
        },
        {
         "metadata": "{}",
         "name": "G_hnr_ranges_501_1000",
         "type": "\"long\""
        },
        {
         "metadata": "{}",
         "name": "G_hnr_ranges_1001_2000",
         "type": "\"long\""
        },
        {
         "metadata": "{}",
         "name": "G_hnr_ranges_2001_3000",
         "type": "\"long\""
        },
        {
         "metadata": "{}",
         "name": "G_hnr_ranges_3001_5000",
         "type": "\"long\""
        },
        {
         "metadata": "{}",
         "name": "G_hnr_ranges_grt_5000",
         "type": "\"long\""
        },
        {
         "metadata": "{}",
         "name": "G_current_date",
         "type": "\"date\""
        },
        {
         "metadata": "{}",
         "name": "G_releaseVersion",
         "type": "\"string\""
        },
        {
         "metadata": "{}",
         "name": "G_SchemaName",
         "type": "\"string\""
        },
        {
         "metadata": "{}",
         "name": "O_country",
         "type": "\"string\""
        },
        {
         "metadata": "{}",
         "name": "O_license_zone",
         "type": "\"string\""
        },
        {
         "metadata": "{}",
         "name": "O_layer_id",
         "type": "\"string\""
        },
        {
         "metadata": "{}",
         "name": "O_interpolation",
         "type": "\"string\""
        },
        {
         "metadata": "{}",
         "name": "O_sum_hnr_array_count",
         "type": "\"long\""
        },
        {
         "metadata": "{}",
         "name": "O_AddreesRangesCount",
         "type": "\"long\""
        },
        {
         "metadata": "{}",
         "name": "O_link_apt_count_eq_0",
         "type": "\"long\""
        },
        {
         "metadata": "{}",
         "name": "O_link_apt_count_eq_1",
         "type": "\"long\""
        },
        {
         "metadata": "{}",
         "name": "O_link_apt_count_gt_1",
         "type": "\"long\""
        },
        {
         "metadata": "{}",
         "name": "O_hnr_ranges_0_500",
         "type": "\"long\""
        },
        {
         "metadata": "{}",
         "name": "O_hnr_ranges_501_1000",
         "type": "\"long\""
        },
        {
         "metadata": "{}",
         "name": "O_hnr_ranges_1001_2000",
         "type": "\"long\""
        },
        {
         "metadata": "{}",
         "name": "O_hnr_ranges_2001_3000",
         "type": "\"long\""
        },
        {
         "metadata": "{}",
         "name": "O_hnr_ranges_3001_5000",
         "type": "\"long\""
        },
        {
         "metadata": "{}",
         "name": "O_hnr_ranges_grt_5000",
         "type": "\"long\""
        },
        {
         "metadata": "{}",
         "name": "O_releaseVersion",
         "type": "\"string\""
        },
        {
         "metadata": "{}",
         "name": "O_current_date",
         "type": "\"date\""
        }
       ],
       "type": "table"
      }
     },
     "output_type": "display_data"
    }
   ],
   "source": [
    "display(rightAntiJoint)"
   ]
  },
  {
   "cell_type": "code",
   "execution_count": 0,
   "metadata": {
    "application/vnd.databricks.v1+cell": {
     "cellMetadata": {
      "byteLimit": 2048000,
      "rowLimit": 10000
     },
     "inputWidgets": {},
     "nuid": "96c9141d-ec9e-4f87-a054-b40fce8e82d3",
     "showTitle": false,
     "title": ""
    }
   },
   "outputs": [
    {
     "output_type": "display_data",
     "data": {
      "text/html": [
       "<style scoped>\n",
       "  .ansiout {\n",
       "    display: block;\n",
       "    unicode-bidi: embed;\n",
       "    white-space: pre-wrap;\n",
       "    word-wrap: break-word;\n",
       "    word-break: break-all;\n",
       "    font-family: \"Menlo\", \"Monaco\", \"Consolas\", \"Ubuntu Mono\", \"Source Code Pro\", monospace;\n",
       "    font-size: 13px;\n",
       "    color: #555;\n",
       "    margin-left: 4px;\n",
       "    line-height: 19px;\n",
       "  }\n",
       "</style>\n",
       "<div class=\"ansiout\">root\n",
       "-- G_country: string (nullable = true)\n",
       "-- G_country_code: string (nullable = true)\n",
       "-- G_interpolation: string (nullable = true)\n",
       "-- G_sum_hnr_array_count: long (nullable = true)\n",
       "-- G_AddreesRangesCount: long (nullable = true)\n",
       "-- G_link_apt_count_eq_0: long (nullable = true)\n",
       "-- G_link_apt_count_eq_1: long (nullable = true)\n",
       "-- G_link_apt_count_gt_1: long (nullable = true)\n",
       "-- G_hnr_ranges_0_500: long (nullable = true)\n",
       "-- G_hnr_ranges_501_1000: long (nullable = true)\n",
       "-- G_hnr_ranges_1001_2000: long (nullable = true)\n",
       "-- G_hnr_ranges_2001_3000: long (nullable = true)\n",
       "-- G_hnr_ranges_3001_5000: long (nullable = true)\n",
       "-- G_hnr_ranges_grt_5000: long (nullable = true)\n",
       "-- G_current_date: date (nullable = true)\n",
       "-- G_releaseVersion: string (nullable = true)\n",
       "-- G_SchemaName: string (nullable = true)\n",
       "-- O_country: string (nullable = true)\n",
       "-- O_license_zone: string (nullable = true)\n",
       "-- O_layer_id: string (nullable = true)\n",
       "-- O_interpolation: string (nullable = true)\n",
       "-- O_sum_hnr_array_count: long (nullable = true)\n",
       "-- O_AddreesRangesCount: long (nullable = true)\n",
       "-- O_link_apt_count_eq_0: long (nullable = true)\n",
       "-- O_link_apt_count_eq_1: long (nullable = true)\n",
       "-- O_link_apt_count_gt_1: long (nullable = true)\n",
       "-- O_hnr_ranges_0_500: long (nullable = true)\n",
       "-- O_hnr_ranges_501_1000: long (nullable = true)\n",
       "-- O_hnr_ranges_1001_2000: long (nullable = true)\n",
       "-- O_hnr_ranges_2001_3000: long (nullable = true)\n",
       "-- O_hnr_ranges_3001_5000: long (nullable = true)\n",
       "-- O_hnr_ranges_grt_5000: long (nullable = true)\n",
       "-- O_releaseVersion: string (nullable = true)\n",
       "-- O_current_date: date (nullable = true)\n",
       "\n",
       "</div>"
      ]
     },
     "metadata": {
      "application/vnd.databricks.v1+output": {
       "addedWidgets": {},
       "arguments": {},
       "data": "<div class=\"ansiout\">root\n |-- G_country: string (nullable = true)\n |-- G_country_code: string (nullable = true)\n |-- G_interpolation: string (nullable = true)\n |-- G_sum_hnr_array_count: long (nullable = true)\n |-- G_AddreesRangesCount: long (nullable = true)\n |-- G_link_apt_count_eq_0: long (nullable = true)\n |-- G_link_apt_count_eq_1: long (nullable = true)\n |-- G_link_apt_count_gt_1: long (nullable = true)\n |-- G_hnr_ranges_0_500: long (nullable = true)\n |-- G_hnr_ranges_501_1000: long (nullable = true)\n |-- G_hnr_ranges_1001_2000: long (nullable = true)\n |-- G_hnr_ranges_2001_3000: long (nullable = true)\n |-- G_hnr_ranges_3001_5000: long (nullable = true)\n |-- G_hnr_ranges_grt_5000: long (nullable = true)\n |-- G_current_date: date (nullable = true)\n |-- G_releaseVersion: string (nullable = true)\n |-- G_SchemaName: string (nullable = true)\n |-- O_country: string (nullable = true)\n |-- O_license_zone: string (nullable = true)\n |-- O_layer_id: string (nullable = true)\n |-- O_interpolation: string (nullable = true)\n |-- O_sum_hnr_array_count: long (nullable = true)\n |-- O_AddreesRangesCount: long (nullable = true)\n |-- O_link_apt_count_eq_0: long (nullable = true)\n |-- O_link_apt_count_eq_1: long (nullable = true)\n |-- O_link_apt_count_gt_1: long (nullable = true)\n |-- O_hnr_ranges_0_500: long (nullable = true)\n |-- O_hnr_ranges_501_1000: long (nullable = true)\n |-- O_hnr_ranges_1001_2000: long (nullable = true)\n |-- O_hnr_ranges_2001_3000: long (nullable = true)\n |-- O_hnr_ranges_3001_5000: long (nullable = true)\n |-- O_hnr_ranges_grt_5000: long (nullable = true)\n |-- O_releaseVersion: string (nullable = true)\n |-- O_current_date: date (nullable = true)\n\n</div>",
       "datasetInfos": [],
       "metadata": {},
       "removedWidgets": [],
       "type": "html"
      }
     },
     "output_type": "display_data"
    }
   ],
   "source": [
    "rightAntiJoint.printSchema()"
   ]
  },
  {
   "cell_type": "code",
   "execution_count": 0,
   "metadata": {
    "application/vnd.databricks.v1+cell": {
     "cellMetadata": {
      "byteLimit": 2048000,
      "rowLimit": 10000
     },
     "inputWidgets": {},
     "nuid": "e7522e1a-5bdf-4eb2-b1d9-7364f1f2ccdd",
     "showTitle": false,
     "title": ""
    }
   },
   "outputs": [
    {
     "output_type": "display_data",
     "data": {
      "text/html": [
       "<style scoped>\n",
       "  .table-result-container {\n",
       "    max-height: 300px;\n",
       "    overflow: auto;\n",
       "  }\n",
       "  table, th, td {\n",
       "    border: 1px solid black;\n",
       "    border-collapse: collapse;\n",
       "  }\n",
       "  th, td {\n",
       "    padding: 5px;\n",
       "  }\n",
       "  th {\n",
       "    text-align: left;\n",
       "  }\n",
       "</style><div class='table-result-container'><table class='table-result'><thead style='background-color: white'><tr><th>G_country</th><th>G_country_code</th><th>G_interpolation</th><th>G_sum_hnr_array_count</th><th>G_AddreesRangesCount</th><th>G_link_apt_count_eq_0</th><th>G_link_apt_count_eq_1</th><th>G_link_apt_count_gt_1</th><th>G_hnr_ranges_0_500</th><th>G_hnr_ranges_501_1000</th><th>G_hnr_ranges_1001_2000</th><th>G_hnr_ranges_2001_3000</th><th>G_hnr_ranges_3001_5000</th><th>G_hnr_ranges_grt_5000</th><th>G_current_date</th><th>G_releaseVersion</th><th>G_SchemaName</th><th>O_country</th><th>O_license_zone</th><th>O_layer_id</th><th>O_interpolation</th><th>O_sum_hnr_array_count</th><th>O_AddreesRangesCount</th><th>O_link_apt_count_eq_0</th><th>O_link_apt_count_eq_1</th><th>O_link_apt_count_gt_1</th><th>O_hnr_ranges_0_500</th><th>O_hnr_ranges_501_1000</th><th>O_hnr_ranges_1001_2000</th><th>O_hnr_ranges_2001_3000</th><th>O_hnr_ranges_3001_5000</th><th>O_hnr_ranges_grt_5000</th><th>O_releaseVersion</th><th>O_current_date</th></tr></thead><tbody></tbody></table></div>"
      ]
     },
     "metadata": {
      "application/vnd.databricks.v1+output": {
       "addedWidgets": {},
       "aggData": [],
       "aggError": "",
       "aggOverflow": false,
       "aggSchema": [],
       "aggSeriesLimitReached": false,
       "aggType": "",
       "arguments": {},
       "columnCustomDisplayInfos": {},
       "data": [],
       "datasetInfos": [],
       "dbfsResultPath": null,
       "isJsonSchema": true,
       "metadata": {},
       "overflow": false,
       "plotOptions": {
        "customPlotOptions": {},
        "displayType": "table",
        "pivotAggregation": null,
        "pivotColumns": null,
        "xColumns": null,
        "yColumns": null
       },
       "removedWidgets": [],
       "schema": [
        {
         "metadata": "{}",
         "name": "G_country",
         "type": "\"string\""
        },
        {
         "metadata": "{\"scale\":0}",
         "name": "G_country_code",
         "type": "\"string\""
        },
        {
         "metadata": "{}",
         "name": "G_interpolation",
         "type": "\"string\""
        },
        {
         "metadata": "{}",
         "name": "G_sum_hnr_array_count",
         "type": "\"long\""
        },
        {
         "metadata": "{}",
         "name": "G_AddreesRangesCount",
         "type": "\"long\""
        },
        {
         "metadata": "{}",
         "name": "G_link_apt_count_eq_0",
         "type": "\"long\""
        },
        {
         "metadata": "{}",
         "name": "G_link_apt_count_eq_1",
         "type": "\"long\""
        },
        {
         "metadata": "{}",
         "name": "G_link_apt_count_gt_1",
         "type": "\"long\""
        },
        {
         "metadata": "{}",
         "name": "G_hnr_ranges_0_500",
         "type": "\"long\""
        },
        {
         "metadata": "{}",
         "name": "G_hnr_ranges_501_1000",
         "type": "\"long\""
        },
        {
         "metadata": "{}",
         "name": "G_hnr_ranges_1001_2000",
         "type": "\"long\""
        },
        {
         "metadata": "{}",
         "name": "G_hnr_ranges_2001_3000",
         "type": "\"long\""
        },
        {
         "metadata": "{}",
         "name": "G_hnr_ranges_3001_5000",
         "type": "\"long\""
        },
        {
         "metadata": "{}",
         "name": "G_hnr_ranges_grt_5000",
         "type": "\"long\""
        },
        {
         "metadata": "{}",
         "name": "G_current_date",
         "type": "\"date\""
        },
        {
         "metadata": "{}",
         "name": "G_releaseVersion",
         "type": "\"string\""
        },
        {
         "metadata": "{}",
         "name": "G_SchemaName",
         "type": "\"string\""
        },
        {
         "metadata": "{}",
         "name": "O_country",
         "type": "\"string\""
        },
        {
         "metadata": "{}",
         "name": "O_license_zone",
         "type": "\"string\""
        },
        {
         "metadata": "{}",
         "name": "O_layer_id",
         "type": "\"string\""
        },
        {
         "metadata": "{}",
         "name": "O_interpolation",
         "type": "\"string\""
        },
        {
         "metadata": "{}",
         "name": "O_sum_hnr_array_count",
         "type": "\"long\""
        },
        {
         "metadata": "{}",
         "name": "O_AddreesRangesCount",
         "type": "\"long\""
        },
        {
         "metadata": "{}",
         "name": "O_link_apt_count_eq_0",
         "type": "\"long\""
        },
        {
         "metadata": "{}",
         "name": "O_link_apt_count_eq_1",
         "type": "\"long\""
        },
        {
         "metadata": "{}",
         "name": "O_link_apt_count_gt_1",
         "type": "\"long\""
        },
        {
         "metadata": "{}",
         "name": "O_hnr_ranges_0_500",
         "type": "\"long\""
        },
        {
         "metadata": "{}",
         "name": "O_hnr_ranges_501_1000",
         "type": "\"long\""
        },
        {
         "metadata": "{}",
         "name": "O_hnr_ranges_1001_2000",
         "type": "\"long\""
        },
        {
         "metadata": "{}",
         "name": "O_hnr_ranges_2001_3000",
         "type": "\"long\""
        },
        {
         "metadata": "{}",
         "name": "O_hnr_ranges_3001_5000",
         "type": "\"long\""
        },
        {
         "metadata": "{}",
         "name": "O_hnr_ranges_grt_5000",
         "type": "\"long\""
        },
        {
         "metadata": "{}",
         "name": "O_releaseVersion",
         "type": "\"string\""
        },
        {
         "metadata": "{}",
         "name": "O_current_date",
         "type": "\"date\""
        }
       ],
       "type": "table"
      }
     },
     "output_type": "display_data"
    }
   ],
   "source": [
    "from pyspark.sql.functions import *\n",
    "rightAntiJoint= rightAntiJoint.withColumn('G_country', col('O_country')).withColumn('G_interpolation',col('O_interpolation'))\n",
    "\n",
    "display(rightAntiJoint)"
   ]
  },
  {
   "cell_type": "code",
   "execution_count": 0,
   "metadata": {
    "application/vnd.databricks.v1+cell": {
     "cellMetadata": {
      "byteLimit": 2048000,
      "rowLimit": 10000
     },
     "inputWidgets": {},
     "nuid": "6663db1f-3c1e-4ced-beae-19a91c53352d",
     "showTitle": false,
     "title": ""
    }
   },
   "outputs": [
    {
     "output_type": "display_data",
     "data": {
      "text/html": [
       "<style scoped>\n",
       "  .ansiout {\n",
       "    display: block;\n",
       "    unicode-bidi: embed;\n",
       "    white-space: pre-wrap;\n",
       "    word-wrap: break-word;\n",
       "    word-break: break-all;\n",
       "    font-family: \"Menlo\", \"Monaco\", \"Consolas\", \"Ubuntu Mono\", \"Source Code Pro\", monospace;\n",
       "    font-size: 13px;\n",
       "    color: #555;\n",
       "    margin-left: 4px;\n",
       "    line-height: 19px;\n",
       "  }\n",
       "</style>\n",
       "<div class=\"ansiout\"></div>"
      ]
     },
     "metadata": {
      "application/vnd.databricks.v1+output": {
       "addedWidgets": {},
       "arguments": {},
       "data": "<div class=\"ansiout\"></div>",
       "datasetInfos": [],
       "metadata": {},
       "removedWidgets": [],
       "type": "html"
      }
     },
     "output_type": "display_data"
    }
   ],
   "source": [
    "\n",
    "rightLeftUnionAll=rightAntiJoint.unionAll(leftAntiJoin)\n",
    "genesyisOrbisSummer = innterJoin.unionAll(rightLeftUnionAll)"
   ]
  },
  {
   "cell_type": "code",
   "execution_count": 0,
   "metadata": {
    "application/vnd.databricks.v1+cell": {
     "cellMetadata": {
      "byteLimit": 2048000,
      "rowLimit": 10000
     },
     "inputWidgets": {},
     "nuid": "de658cdb-1591-42df-b45e-8f7ec78076c3",
     "showTitle": false,
     "title": ""
    }
   },
   "outputs": [
    {
     "output_type": "display_data",
     "data": {
      "text/html": [
       "<style scoped>\n",
       "  .ansiout {\n",
       "    display: block;\n",
       "    unicode-bidi: embed;\n",
       "    white-space: pre-wrap;\n",
       "    word-wrap: break-word;\n",
       "    word-break: break-all;\n",
       "    font-family: \"Menlo\", \"Monaco\", \"Consolas\", \"Ubuntu Mono\", \"Source Code Pro\", monospace;\n",
       "    font-size: 13px;\n",
       "    color: #555;\n",
       "    margin-left: 4px;\n",
       "    line-height: 19px;\n",
       "  }\n",
       "</style>\n",
       "<div class=\"ansiout\"></div>"
      ]
     },
     "metadata": {
      "application/vnd.databricks.v1+output": {
       "addedWidgets": {},
       "arguments": {},
       "data": "<div class=\"ansiout\"></div>",
       "datasetInfos": [],
       "metadata": {},
       "removedWidgets": [],
       "type": "html"
      }
     },
     "output_type": "display_data"
    }
   ],
   "source": [
    "# Check if both rightAntiJoint and leftAntiJoin are not empty\n",
    "if rightAntiJoint.take(1) and leftAntiJoin.take(1):\n",
    "    # Both DataFrames are not empty, performing unionAll with both DataFrames\n",
    "    rightLeftUnionAll = rightAntiJoint.unionAll(leftAntiJoin)\n",
    "    genesyisOrbisSum = innterJoin.unionAll(rightLeftUnionAll)\n",
    "# Check if rightAntiJoint is not empty and leftAntiJoin has no rows\n",
    "elif rightAntiJoint.take(1) and leftAntiJoin.count() == 0:\n",
    "    # rightAntiJoint is not empty and leftAntiJoin is empty, performing unionAll with innterJoin and rightAntiJoint\n",
    "    genesyisOrbisSum = innterJoin.unionAll(rightAntiJoint)\n",
    "# Check if rightAntiJoint has no rows and leftAntiJoin is not empty\n",
    "elif rightAntiJoint.count() == 0 and leftAntiJoin.take(1):\n",
    "    # rightAntiJoint is empty and leftAntiJoin is not empty, performing unionAll with innterJoin and leftAntiJoin\n",
    "    genesyisOrbisSum = innterJoin.unionAll(leftAntiJoin)\n",
    "else : \n",
    "    genesyisOrbisSum = innterJoin\n"
   ]
  },
  {
   "cell_type": "code",
   "execution_count": 0,
   "metadata": {
    "application/vnd.databricks.v1+cell": {
     "cellMetadata": {
      "byteLimit": 2048000,
      "rowLimit": 10000
     },
     "inputWidgets": {},
     "nuid": "adbad557-5159-4c7b-9045-571b97ca84ab",
     "showTitle": false,
     "title": ""
    }
   },
   "outputs": [
    {
     "output_type": "display_data",
     "data": {
      "text/html": [
       "<style scoped>\n",
       "  .ansiout {\n",
       "    display: block;\n",
       "    unicode-bidi: embed;\n",
       "    white-space: pre-wrap;\n",
       "    word-wrap: break-word;\n",
       "    word-break: break-all;\n",
       "    font-family: \"Menlo\", \"Monaco\", \"Consolas\", \"Ubuntu Mono\", \"Source Code Pro\", monospace;\n",
       "    font-size: 13px;\n",
       "    color: #555;\n",
       "    margin-left: 4px;\n",
       "    line-height: 19px;\n",
       "  }\n",
       "</style>\n",
       "<div class=\"ansiout\">root\n",
       "-- G_country: string (nullable = true)\n",
       "-- G_country_code: string (nullable = true)\n",
       "-- G_interpolation: string (nullable = true)\n",
       "-- G_sum_hnr_array_count: long (nullable = true)\n",
       "-- G_AddreesRangesCount: long (nullable = true)\n",
       "-- G_link_apt_count_eq_0: long (nullable = true)\n",
       "-- G_link_apt_count_eq_1: long (nullable = true)\n",
       "-- G_link_apt_count_gt_1: long (nullable = true)\n",
       "-- G_hnr_ranges_0_500: long (nullable = true)\n",
       "-- G_hnr_ranges_501_1000: long (nullable = true)\n",
       "-- G_hnr_ranges_1001_2000: long (nullable = true)\n",
       "-- G_hnr_ranges_2001_3000: long (nullable = true)\n",
       "-- G_hnr_ranges_3001_5000: long (nullable = true)\n",
       "-- G_hnr_ranges_grt_5000: long (nullable = true)\n",
       "-- G_current_date: date (nullable = true)\n",
       "-- G_releaseVersion: string (nullable = true)\n",
       "-- G_SchemaName: string (nullable = true)\n",
       "-- O_country: string (nullable = true)\n",
       "-- O_license_zone: string (nullable = true)\n",
       "-- O_layer_id: string (nullable = true)\n",
       "-- O_interpolation: string (nullable = true)\n",
       "-- O_sum_hnr_array_count: long (nullable = true)\n",
       "-- O_AddreesRangesCount: long (nullable = true)\n",
       "-- O_link_apt_count_eq_0: long (nullable = true)\n",
       "-- O_link_apt_count_eq_1: long (nullable = true)\n",
       "-- O_link_apt_count_gt_1: long (nullable = true)\n",
       "-- O_hnr_ranges_0_500: long (nullable = true)\n",
       "-- O_hnr_ranges_501_1000: long (nullable = true)\n",
       "-- O_hnr_ranges_1001_2000: long (nullable = true)\n",
       "-- O_hnr_ranges_2001_3000: long (nullable = true)\n",
       "-- O_hnr_ranges_3001_5000: long (nullable = true)\n",
       "-- O_hnr_ranges_grt_5000: long (nullable = true)\n",
       "-- O_releaseVersion: string (nullable = true)\n",
       "-- O_current_date: date (nullable = true)\n",
       "\n",
       "</div>"
      ]
     },
     "metadata": {
      "application/vnd.databricks.v1+output": {
       "addedWidgets": {},
       "arguments": {},
       "data": "<div class=\"ansiout\">root\n |-- G_country: string (nullable = true)\n |-- G_country_code: string (nullable = true)\n |-- G_interpolation: string (nullable = true)\n |-- G_sum_hnr_array_count: long (nullable = true)\n |-- G_AddreesRangesCount: long (nullable = true)\n |-- G_link_apt_count_eq_0: long (nullable = true)\n |-- G_link_apt_count_eq_1: long (nullable = true)\n |-- G_link_apt_count_gt_1: long (nullable = true)\n |-- G_hnr_ranges_0_500: long (nullable = true)\n |-- G_hnr_ranges_501_1000: long (nullable = true)\n |-- G_hnr_ranges_1001_2000: long (nullable = true)\n |-- G_hnr_ranges_2001_3000: long (nullable = true)\n |-- G_hnr_ranges_3001_5000: long (nullable = true)\n |-- G_hnr_ranges_grt_5000: long (nullable = true)\n |-- G_current_date: date (nullable = true)\n |-- G_releaseVersion: string (nullable = true)\n |-- G_SchemaName: string (nullable = true)\n |-- O_country: string (nullable = true)\n |-- O_license_zone: string (nullable = true)\n |-- O_layer_id: string (nullable = true)\n |-- O_interpolation: string (nullable = true)\n |-- O_sum_hnr_array_count: long (nullable = true)\n |-- O_AddreesRangesCount: long (nullable = true)\n |-- O_link_apt_count_eq_0: long (nullable = true)\n |-- O_link_apt_count_eq_1: long (nullable = true)\n |-- O_link_apt_count_gt_1: long (nullable = true)\n |-- O_hnr_ranges_0_500: long (nullable = true)\n |-- O_hnr_ranges_501_1000: long (nullable = true)\n |-- O_hnr_ranges_1001_2000: long (nullable = true)\n |-- O_hnr_ranges_2001_3000: long (nullable = true)\n |-- O_hnr_ranges_3001_5000: long (nullable = true)\n |-- O_hnr_ranges_grt_5000: long (nullable = true)\n |-- O_releaseVersion: string (nullable = true)\n |-- O_current_date: date (nullable = true)\n\n</div>",
       "datasetInfos": [],
       "metadata": {},
       "removedWidgets": [],
       "type": "html"
      }
     },
     "output_type": "display_data"
    }
   ],
   "source": [
    "genesyisOrbisSum.printSchema()"
   ]
  },
  {
   "cell_type": "code",
   "execution_count": 0,
   "metadata": {
    "application/vnd.databricks.v1+cell": {
     "cellMetadata": {
      "byteLimit": 2048000,
      "rowLimit": 10000
     },
     "inputWidgets": {},
     "nuid": "fc4f0040-b978-4047-b2ac-f441ecd04a2d",
     "showTitle": false,
     "title": ""
    }
   },
   "outputs": [
    {
     "output_type": "display_data",
     "data": {
      "text/html": [
       "<style scoped>\n",
       "  .table-result-container {\n",
       "    max-height: 300px;\n",
       "    overflow: auto;\n",
       "  }\n",
       "  table, th, td {\n",
       "    border: 1px solid black;\n",
       "    border-collapse: collapse;\n",
       "  }\n",
       "  th, td {\n",
       "    padding: 5px;\n",
       "  }\n",
       "  th {\n",
       "    text-align: left;\n",
       "  }\n",
       "</style><div class='table-result-container'><table class='table-result'><thead style='background-color: white'><tr><th>G_country</th><th>G_country_code</th><th>G_interpolation</th><th>G_sum_hnr_array_count</th><th>G_AddreesRangesCount</th><th>G_link_apt_count_eq_0</th><th>G_link_apt_count_eq_1</th><th>G_link_apt_count_gt_1</th><th>G_hnr_ranges_0_500</th><th>G_hnr_ranges_501_1000</th><th>G_hnr_ranges_1001_2000</th><th>G_hnr_ranges_2001_3000</th><th>G_hnr_ranges_3001_5000</th><th>G_hnr_ranges_grt_5000</th><th>G_current_date</th><th>G_releaseVersion</th><th>G_SchemaName</th><th>O_country</th><th>O_license_zone</th><th>O_layer_id</th><th>O_interpolation</th><th>O_sum_hnr_array_count</th><th>O_AddreesRangesCount</th><th>O_link_apt_count_eq_0</th><th>O_link_apt_count_eq_1</th><th>O_link_apt_count_gt_1</th><th>O_hnr_ranges_0_500</th><th>O_hnr_ranges_501_1000</th><th>O_hnr_ranges_1001_2000</th><th>O_hnr_ranges_2001_3000</th><th>O_hnr_ranges_3001_5000</th><th>O_hnr_ranges_grt_5000</th><th>O_releaseVersion</th><th>O_current_date</th></tr></thead><tbody><tr><td>pol</td><td>POL</td><td>even</td><td>11535699</td><td>1045138</td><td>1153810</td><td>2250754</td><td>8131135</td><td>2373606</td><td>172391</td><td>329444</td><td>275750</td><td>309477</td><td>8075031</td><td>2024-03-18</td><td>03_004</td><td>_2024_03_006_eur_pol_pol</td><td>pol</td><td>pol</td><td>15633</td><td>even</td><td>19723055</td><td>547035</td><td>2080321</td><td>279689</td><td>17363045</td><td>2657200</td><td>207107</td><td>515174</td><td>506802</td><td>698530</td><td>15138242</td><td>24090.000</td><td>2024-03-18</td></tr><tr><td>pol</td><td>POL</td><td>irregular</td><td>251665</td><td>251593</td><td>17722</td><td>25261</td><td>208682</td><td>251665</td><td>0</td><td>0</td><td>0</td><td>0</td><td>0</td><td>2024-03-18</td><td>03_004</td><td>_2024_03_006_eur_pol_pol</td><td>pol</td><td>pol</td><td>15633</td><td>irregular</td><td>16069</td><td>15909</td><td>10421</td><td>1761</td><td>3887</td><td>16069</td><td>0</td><td>0</td><td>0</td><td>0</td><td>0</td><td>24090.000</td><td>2024-03-18</td></tr><tr><td>pol</td><td>POL</td><td>numeric_mixed</td><td>1287233</td><td>198749</td><td>61850</td><td>202586</td><td>1022797</td><td>652961</td><td>58202</td><td>60270</td><td>30240</td><td>60627</td><td>424933</td><td>2024-03-18</td><td>03_004</td><td>_2024_03_006_eur_pol_pol</td><td>pol</td><td>pol</td><td>15633</td><td>numeric_mixed</td><td>21263110</td><td>511154</td><td>713439</td><td>93026</td><td>20456645</td><td>8079773</td><td>2733088</td><td>310437</td><td>164429</td><td>196354</td><td>9779029</td><td>24090.000</td><td>2024-03-18</td></tr><tr><td>pol</td><td>POL</td><td>odd</td><td>8982397</td><td>1061563</td><td>686822</td><td>1569153</td><td>6726422</td><td>2395655</td><td>163663</td><td>329470</td><td>233603</td><td>366689</td><td>5493317</td><td>2024-03-18</td><td>03_004</td><td>_2024_03_006_eur_pol_pol</td><td>pol</td><td>pol</td><td>15633</td><td>odd</td><td>19741499</td><td>552533</td><td>1698220</td><td>98179</td><td>17945100</td><td>2855059</td><td>190549</td><td>520395</td><td>435361</td><td>723444</td><td>15016691</td><td>24090.000</td><td>2024-03-18</td></tr><tr><td>pol</td><td>POL</td><td>alphabetic</td><td>12785</td><td>11965</td><td>1162</td><td>2581</td><td>9042</td><td>12785</td><td>0</td><td>0</td><td>0</td><td>0</td><td>0</td><td>2024-03-18</td><td>03_004</td><td>_2024_03_006_eur_pol_pol</td><td>pol</td><td>pol</td><td>15633</td><td>alphabetic</td><td>67703</td><td>67554</td><td>2806</td><td>503</td><td>64394</td><td>67703</td><td>0</td><td>0</td><td>0</td><td>0</td><td>0</td><td>24090.000</td><td>2024-03-18</td></tr></tbody></table></div>"
      ]
     },
     "metadata": {
      "application/vnd.databricks.v1+output": {
       "addedWidgets": {},
       "aggData": [],
       "aggError": "",
       "aggOverflow": false,
       "aggSchema": [],
       "aggSeriesLimitReached": false,
       "aggType": "",
       "arguments": {},
       "columnCustomDisplayInfos": {},
       "data": [
        [
         "pol",
         "POL",
         "even",
         11535699,
         1045138,
         1153810,
         2250754,
         8131135,
         2373606,
         172391,
         329444,
         275750,
         309477,
         8075031,
         "2024-03-18",
         "03_004",
         "_2024_03_006_eur_pol_pol",
         "pol",
         "pol",
         "15633",
         "even",
         19723055,
         547035,
         2080321,
         279689,
         17363045,
         2657200,
         207107,
         515174,
         506802,
         698530,
         15138242,
         "24090.000",
         "2024-03-18"
        ],
        [
         "pol",
         "POL",
         "irregular",
         251665,
         251593,
         17722,
         25261,
         208682,
         251665,
         0,
         0,
         0,
         0,
         0,
         "2024-03-18",
         "03_004",
         "_2024_03_006_eur_pol_pol",
         "pol",
         "pol",
         "15633",
         "irregular",
         16069,
         15909,
         10421,
         1761,
         3887,
         16069,
         0,
         0,
         0,
         0,
         0,
         "24090.000",
         "2024-03-18"
        ],
        [
         "pol",
         "POL",
         "numeric_mixed",
         1287233,
         198749,
         61850,
         202586,
         1022797,
         652961,
         58202,
         60270,
         30240,
         60627,
         424933,
         "2024-03-18",
         "03_004",
         "_2024_03_006_eur_pol_pol",
         "pol",
         "pol",
         "15633",
         "numeric_mixed",
         21263110,
         511154,
         713439,
         93026,
         20456645,
         8079773,
         2733088,
         310437,
         164429,
         196354,
         9779029,
         "24090.000",
         "2024-03-18"
        ],
        [
         "pol",
         "POL",
         "odd",
         8982397,
         1061563,
         686822,
         1569153,
         6726422,
         2395655,
         163663,
         329470,
         233603,
         366689,
         5493317,
         "2024-03-18",
         "03_004",
         "_2024_03_006_eur_pol_pol",
         "pol",
         "pol",
         "15633",
         "odd",
         19741499,
         552533,
         1698220,
         98179,
         17945100,
         2855059,
         190549,
         520395,
         435361,
         723444,
         15016691,
         "24090.000",
         "2024-03-18"
        ],
        [
         "pol",
         "POL",
         "alphabetic",
         12785,
         11965,
         1162,
         2581,
         9042,
         12785,
         0,
         0,
         0,
         0,
         0,
         "2024-03-18",
         "03_004",
         "_2024_03_006_eur_pol_pol",
         "pol",
         "pol",
         "15633",
         "alphabetic",
         67703,
         67554,
         2806,
         503,
         64394,
         67703,
         0,
         0,
         0,
         0,
         0,
         "24090.000",
         "2024-03-18"
        ]
       ],
       "datasetInfos": [],
       "dbfsResultPath": null,
       "isJsonSchema": true,
       "metadata": {},
       "overflow": false,
       "plotOptions": {
        "customPlotOptions": {},
        "displayType": "table",
        "pivotAggregation": null,
        "pivotColumns": null,
        "xColumns": null,
        "yColumns": null
       },
       "removedWidgets": [],
       "schema": [
        {
         "metadata": "{}",
         "name": "G_country",
         "type": "\"string\""
        },
        {
         "metadata": "{\"scale\":0}",
         "name": "G_country_code",
         "type": "\"string\""
        },
        {
         "metadata": "{}",
         "name": "G_interpolation",
         "type": "\"string\""
        },
        {
         "metadata": "{}",
         "name": "G_sum_hnr_array_count",
         "type": "\"long\""
        },
        {
         "metadata": "{}",
         "name": "G_AddreesRangesCount",
         "type": "\"long\""
        },
        {
         "metadata": "{}",
         "name": "G_link_apt_count_eq_0",
         "type": "\"long\""
        },
        {
         "metadata": "{}",
         "name": "G_link_apt_count_eq_1",
         "type": "\"long\""
        },
        {
         "metadata": "{}",
         "name": "G_link_apt_count_gt_1",
         "type": "\"long\""
        },
        {
         "metadata": "{}",
         "name": "G_hnr_ranges_0_500",
         "type": "\"long\""
        },
        {
         "metadata": "{}",
         "name": "G_hnr_ranges_501_1000",
         "type": "\"long\""
        },
        {
         "metadata": "{}",
         "name": "G_hnr_ranges_1001_2000",
         "type": "\"long\""
        },
        {
         "metadata": "{}",
         "name": "G_hnr_ranges_2001_3000",
         "type": "\"long\""
        },
        {
         "metadata": "{}",
         "name": "G_hnr_ranges_3001_5000",
         "type": "\"long\""
        },
        {
         "metadata": "{}",
         "name": "G_hnr_ranges_grt_5000",
         "type": "\"long\""
        },
        {
         "metadata": "{}",
         "name": "G_current_date",
         "type": "\"date\""
        },
        {
         "metadata": "{}",
         "name": "G_releaseVersion",
         "type": "\"string\""
        },
        {
         "metadata": "{}",
         "name": "G_SchemaName",
         "type": "\"string\""
        },
        {
         "metadata": "{}",
         "name": "O_country",
         "type": "\"string\""
        },
        {
         "metadata": "{}",
         "name": "O_license_zone",
         "type": "\"string\""
        },
        {
         "metadata": "{}",
         "name": "O_layer_id",
         "type": "\"string\""
        },
        {
         "metadata": "{}",
         "name": "O_interpolation",
         "type": "\"string\""
        },
        {
         "metadata": "{}",
         "name": "O_sum_hnr_array_count",
         "type": "\"long\""
        },
        {
         "metadata": "{}",
         "name": "O_AddreesRangesCount",
         "type": "\"long\""
        },
        {
         "metadata": "{}",
         "name": "O_link_apt_count_eq_0",
         "type": "\"long\""
        },
        {
         "metadata": "{}",
         "name": "O_link_apt_count_eq_1",
         "type": "\"long\""
        },
        {
         "metadata": "{}",
         "name": "O_link_apt_count_gt_1",
         "type": "\"long\""
        },
        {
         "metadata": "{}",
         "name": "O_hnr_ranges_0_500",
         "type": "\"long\""
        },
        {
         "metadata": "{}",
         "name": "O_hnr_ranges_501_1000",
         "type": "\"long\""
        },
        {
         "metadata": "{}",
         "name": "O_hnr_ranges_1001_2000",
         "type": "\"long\""
        },
        {
         "metadata": "{}",
         "name": "O_hnr_ranges_2001_3000",
         "type": "\"long\""
        },
        {
         "metadata": "{}",
         "name": "O_hnr_ranges_3001_5000",
         "type": "\"long\""
        },
        {
         "metadata": "{}",
         "name": "O_hnr_ranges_grt_5000",
         "type": "\"long\""
        },
        {
         "metadata": "{}",
         "name": "O_releaseVersion",
         "type": "\"string\""
        },
        {
         "metadata": "{}",
         "name": "O_current_date",
         "type": "\"date\""
        }
       ],
       "type": "table"
      }
     },
     "output_type": "display_data"
    }
   ],
   "source": [
    "columns_to_drop = ['O_releaseVersion','O_current_date','O_interpolation','O_layer_id','O_license_zone','O_country','G_SchemaName','G_current_date','G_country_code']\n",
    "\n",
    "# Dropping the specified columns\n",
    "genesyisOrbisSummer = genesyisOrbisSummer.select([col for col in genesyisOrbisSummer.columns if col not in columns_to_drop])\n",
    "\n",
    "\n",
    "\n",
    "\n",
    "genesyisOrbisSummer= genesyisOrbisSummer.withColumnRenamed('G_country','country')\\\n",
    "    .withColumnRenamed('G_interpolation','interpolation')\n",
    "\n",
    "\n",
    "genesyisOrbisSumVS = genesyisOrbisSum.fillna(0)\n",
    "\n",
    "display(genesyisOrbisSumVS) "
   ]
  },
  {
   "cell_type": "code",
   "execution_count": 0,
   "metadata": {
    "application/vnd.databricks.v1+cell": {
     "cellMetadata": {
      "byteLimit": 2048000,
      "rowLimit": 10000
     },
     "inputWidgets": {},
     "nuid": "375b0f8b-2e7e-41df-8b95-8e3b57dc96c5",
     "showTitle": false,
     "title": ""
    }
   },
   "outputs": [
    {
     "output_type": "display_data",
     "data": {
      "text/html": [
       "<style scoped>\n",
       "  .ansiout {\n",
       "    display: block;\n",
       "    unicode-bidi: embed;\n",
       "    white-space: pre-wrap;\n",
       "    word-wrap: break-word;\n",
       "    word-break: break-all;\n",
       "    font-family: \"Menlo\", \"Monaco\", \"Consolas\", \"Ubuntu Mono\", \"Source Code Pro\", monospace;\n",
       "    font-size: 13px;\n",
       "    color: #555;\n",
       "    margin-left: 4px;\n",
       "    line-height: 19px;\n",
       "  }\n",
       "</style>\n",
       "<div class=\"ansiout\"></div>"
      ]
     },
     "metadata": {
      "application/vnd.databricks.v1+output": {
       "addedWidgets": {},
       "arguments": {},
       "data": "<div class=\"ansiout\"></div>",
       "datasetInfos": [],
       "metadata": {},
       "removedWidgets": [],
       "type": "html"
      }
     },
     "output_type": "display_data"
    }
   ],
   "source": [
    "# genesyisOrbisSum = genesyisOrbisSum.select('G_country','G_sum_hnr_array_count','O_sum_hnr_array_count')"
   ]
  },
  {
   "cell_type": "code",
   "execution_count": 0,
   "metadata": {
    "application/vnd.databricks.v1+cell": {
     "cellMetadata": {
      "byteLimit": 2048000,
      "rowLimit": 10000
     },
     "inputWidgets": {},
     "nuid": "fa3d5912-d7de-4728-a13b-b55bd8d4c997",
     "showTitle": false,
     "title": ""
    }
   },
   "outputs": [
    {
     "output_type": "display_data",
     "data": {
      "text/html": [
       "<style scoped>\n",
       "  .ansiout {\n",
       "    display: block;\n",
       "    unicode-bidi: embed;\n",
       "    white-space: pre-wrap;\n",
       "    word-wrap: break-word;\n",
       "    word-break: break-all;\n",
       "    font-family: \"Menlo\", \"Monaco\", \"Consolas\", \"Ubuntu Mono\", \"Source Code Pro\", monospace;\n",
       "    font-size: 13px;\n",
       "    color: #555;\n",
       "    margin-left: 4px;\n",
       "    line-height: 19px;\n",
       "  }\n",
       "</style>\n",
       "<div class=\"ansiout\"></div>"
      ]
     },
     "metadata": {
      "application/vnd.databricks.v1+output": {
       "addedWidgets": {},
       "arguments": {},
       "data": "<div class=\"ansiout\"></div>",
       "datasetInfos": [],
       "metadata": {},
       "removedWidgets": [],
       "type": "html"
      }
     },
     "output_type": "display_data"
    }
   ],
   "source": [
    "genesyisOrbisSum = genesyisOrbisSum.groupBy(col('G_country').alias('country')).agg(sum('G_sum_hnr_array_count').alias('Genesis Address Count'),\n",
    "                                                                                 sum('O_sum_hnr_array_count').alias('Orbis Address  Count'))\n",
    "                                                                                 \n"
   ]
  },
  {
   "cell_type": "code",
   "execution_count": 0,
   "metadata": {
    "application/vnd.databricks.v1+cell": {
     "cellMetadata": {
      "byteLimit": 2048000,
      "rowLimit": 10000
     },
     "inputWidgets": {},
     "nuid": "accce60c-c446-49d1-8767-b17f243a86e2",
     "showTitle": false,
     "title": ""
    }
   },
   "outputs": [
    {
     "output_type": "display_data",
     "data": {
      "text/html": [
       "<style scoped>\n",
       "  .table-result-container {\n",
       "    max-height: 300px;\n",
       "    overflow: auto;\n",
       "  }\n",
       "  table, th, td {\n",
       "    border: 1px solid black;\n",
       "    border-collapse: collapse;\n",
       "  }\n",
       "  th, td {\n",
       "    padding: 5px;\n",
       "  }\n",
       "  th {\n",
       "    text-align: left;\n",
       "  }\n",
       "</style><div class='table-result-container'><table class='table-result'><thead style='background-color: white'><tr><th>country</th><th>Genesis Address Count</th><th>Orbis Address  Count</th></tr></thead><tbody><tr><td>pol</td><td>22069779</td><td>60811436</td></tr></tbody></table></div>"
      ]
     },
     "metadata": {
      "application/vnd.databricks.v1+output": {
       "addedWidgets": {},
       "aggData": [],
       "aggError": "",
       "aggOverflow": false,
       "aggSchema": [],
       "aggSeriesLimitReached": false,
       "aggType": "",
       "arguments": {},
       "columnCustomDisplayInfos": {},
       "data": [
        [
         "pol",
         22069779,
         60811436
        ]
       ],
       "datasetInfos": [],
       "dbfsResultPath": null,
       "isJsonSchema": true,
       "metadata": {},
       "overflow": false,
       "plotOptions": {
        "customPlotOptions": {},
        "displayType": "table",
        "pivotAggregation": null,
        "pivotColumns": null,
        "xColumns": null,
        "yColumns": null
       },
       "removedWidgets": [],
       "schema": [
        {
         "metadata": "{}",
         "name": "country",
         "type": "\"string\""
        },
        {
         "metadata": "{}",
         "name": "Genesis Address Count",
         "type": "\"long\""
        },
        {
         "metadata": "{}",
         "name": "Orbis Address  Count",
         "type": "\"long\""
        }
       ],
       "type": "table"
      }
     },
     "output_type": "display_data"
    }
   ],
   "source": [
    "\n",
    "display(genesyisOrbisSum)"
   ]
  },
  {
   "cell_type": "code",
   "execution_count": 0,
   "metadata": {
    "application/vnd.databricks.v1+cell": {
     "cellMetadata": {
      "byteLimit": 2048000,
      "rowLimit": 10000
     },
     "inputWidgets": {},
     "nuid": "3f83c476-cb79-4aa4-aac1-f8422a5692ea",
     "showTitle": false,
     "title": ""
    }
   },
   "outputs": [
    {
     "output_type": "display_data",
     "data": {
      "text/html": [
       "<style scoped>\n",
       "  .ansiout {\n",
       "    display: block;\n",
       "    unicode-bidi: embed;\n",
       "    white-space: pre-wrap;\n",
       "    word-wrap: break-word;\n",
       "    word-break: break-all;\n",
       "    font-family: \"Menlo\", \"Monaco\", \"Consolas\", \"Ubuntu Mono\", \"Source Code Pro\", monospace;\n",
       "    font-size: 13px;\n",
       "    color: #555;\n",
       "    margin-left: 4px;\n",
       "    line-height: 19px;\n",
       "  }\n",
       "</style>\n",
       "<div class=\"ansiout\"></div>"
      ]
     },
     "metadata": {
      "application/vnd.databricks.v1+output": {
       "addedWidgets": {},
       "arguments": {},
       "data": "<div class=\"ansiout\"></div>",
       "datasetInfos": [],
       "metadata": {},
       "removedWidgets": [],
       "type": "html"
      }
     },
     "output_type": "display_data"
    }
   ],
   "source": [
    "genesyisOrbisSum = genesyisOrbisSum.withColumn('Orbis  greater count', col('Orbis Address  Count') - col('Genesis Address Count'))\\\n",
    "    .withColumn('Genesis greater count', col('Genesis Address Count') - col('Orbis Address  Count'))\\\n",
    "        .withColumn('Orbis % gap', (col('Orbis  greater count')/ col('Genesis Address Count')*100))\\\n",
    "            .withColumn('Genesis% gap', (col('Genesis greater count') / col('Orbis Address  Count' )) * 100)\\\n",
    "                .withColumn('Orbis count - Genesis count', col('Orbis Address  Count')- col('Genesis Address Count'))\\\n",
    "                    .withColumn('Orbis Overall % gap', (col('Orbis count - Genesis count') / col('Genesis Address Count'))* 100)\\\n",
    "                        .withColumn('Orbis  % of Genesis', (col('Orbis Address  Count') / col('Genesis Address Count'))* 100)\\\n",
    "                        \n",
    "                        "
   ]
  },
  {
   "cell_type": "code",
   "execution_count": 0,
   "metadata": {
    "application/vnd.databricks.v1+cell": {
     "cellMetadata": {
      "byteLimit": 2048000,
      "rowLimit": 10000
     },
     "inputWidgets": {},
     "nuid": "225b7a16-1466-4b05-b6e7-9953e58235d1",
     "showTitle": false,
     "title": ""
    }
   },
   "outputs": [
    {
     "output_type": "display_data",
     "data": {
      "text/html": [
       "<style scoped>\n",
       "  .table-result-container {\n",
       "    max-height: 300px;\n",
       "    overflow: auto;\n",
       "  }\n",
       "  table, th, td {\n",
       "    border: 1px solid black;\n",
       "    border-collapse: collapse;\n",
       "  }\n",
       "  th, td {\n",
       "    padding: 5px;\n",
       "  }\n",
       "  th {\n",
       "    text-align: left;\n",
       "  }\n",
       "</style><div class='table-result-container'><table class='table-result'><thead style='background-color: white'><tr><th>country</th><th>Genesis Address Count</th><th>Orbis Address  Count</th><th>Orbis  greater count</th><th>Genesis greater count</th><th>Orbis % gap</th><th>Genesis% gap</th><th>Orbis count - Genesis count</th><th>Orbis Overall % gap</th><th>Orbis  % of Genesis</th></tr></thead><tbody><tr><td>pol</td><td>22069779</td><td>60811436</td><td>38741657</td><td>-38741657</td><td>175.54166265099437</td><td>-63.70784764891919</td><td>38741657</td><td>175.54166265099437</td><td>275.5416626509944</td></tr></tbody></table></div>"
      ]
     },
     "metadata": {
      "application/vnd.databricks.v1+output": {
       "addedWidgets": {},
       "aggData": [],
       "aggError": "",
       "aggOverflow": false,
       "aggSchema": [],
       "aggSeriesLimitReached": false,
       "aggType": "",
       "arguments": {},
       "columnCustomDisplayInfos": {},
       "data": [
        [
         "pol",
         22069779,
         60811436,
         38741657,
         -38741657,
         175.54166265099437,
         -63.70784764891919,
         38741657,
         175.54166265099437,
         275.5416626509944
        ]
       ],
       "datasetInfos": [],
       "dbfsResultPath": null,
       "isJsonSchema": true,
       "metadata": {},
       "overflow": false,
       "plotOptions": {
        "customPlotOptions": {},
        "displayType": "table",
        "pivotAggregation": null,
        "pivotColumns": null,
        "xColumns": null,
        "yColumns": null
       },
       "removedWidgets": [],
       "schema": [
        {
         "metadata": "{}",
         "name": "country",
         "type": "\"string\""
        },
        {
         "metadata": "{}",
         "name": "Genesis Address Count",
         "type": "\"long\""
        },
        {
         "metadata": "{}",
         "name": "Orbis Address  Count",
         "type": "\"long\""
        },
        {
         "metadata": "{}",
         "name": "Orbis  greater count",
         "type": "\"long\""
        },
        {
         "metadata": "{}",
         "name": "Genesis greater count",
         "type": "\"long\""
        },
        {
         "metadata": "{}",
         "name": "Orbis % gap",
         "type": "\"double\""
        },
        {
         "metadata": "{}",
         "name": "Genesis% gap",
         "type": "\"double\""
        },
        {
         "metadata": "{}",
         "name": "Orbis count - Genesis count",
         "type": "\"long\""
        },
        {
         "metadata": "{}",
         "name": "Orbis Overall % gap",
         "type": "\"double\""
        },
        {
         "metadata": "{}",
         "name": "Orbis  % of Genesis",
         "type": "\"double\""
        }
       ],
       "type": "table"
      }
     },
     "output_type": "display_data"
    }
   ],
   "source": [
    "\n",
    "   display(genesyisOrbisSum)"
   ]
  },
  {
   "cell_type": "code",
   "execution_count": 0,
   "metadata": {
    "application/vnd.databricks.v1+cell": {
     "cellMetadata": {
      "byteLimit": 2048000,
      "rowLimit": 10000
     },
     "inputWidgets": {},
     "nuid": "4ccc7978-6a0a-4f5b-a789-37f4bdb31d7d",
     "showTitle": false,
     "title": ""
    }
   },
   "outputs": [
    {
     "output_type": "display_data",
     "data": {
      "text/html": [
       "<style scoped>\n",
       "  .ansiout {\n",
       "    display: block;\n",
       "    unicode-bidi: embed;\n",
       "    white-space: pre-wrap;\n",
       "    word-wrap: break-word;\n",
       "    word-break: break-all;\n",
       "    font-family: \"Menlo\", \"Monaco\", \"Consolas\", \"Ubuntu Mono\", \"Source Code Pro\", monospace;\n",
       "    font-size: 13px;\n",
       "    color: #555;\n",
       "    margin-left: 4px;\n",
       "    line-height: 19px;\n",
       "  }\n",
       "</style>\n",
       "<div class=\"ansiout\"></div>"
      ]
     },
     "metadata": {
      "application/vnd.databricks.v1+output": {
       "addedWidgets": {},
       "arguments": {},
       "data": "<div class=\"ansiout\"></div>",
       "datasetInfos": [],
       "metadata": {},
       "removedWidgets": [],
       "type": "html"
      }
     },
     "output_type": "display_data"
    }
   ],
   "source": [
    "genesyisOrbisSum = genesyisOrbisSum.withColumn('winner', when(col('Genesis Address Count')> col('Orbis Address  Count'), 'Genesis').otherwise('Orbis'))\n",
    "genesyisOrbisSumPO = genesyisOrbisSum.fillna(0)\n"
   ]
  },
  {
   "cell_type": "code",
   "execution_count": 0,
   "metadata": {
    "application/vnd.databricks.v1+cell": {
     "cellMetadata": {
      "byteLimit": 2048000,
      "rowLimit": 10000
     },
     "inputWidgets": {},
     "nuid": "f8e183ee-cf0e-454b-949a-e7d2fd5f36ba",
     "showTitle": false,
     "title": ""
    }
   },
   "outputs": [
    {
     "output_type": "display_data",
     "data": {
      "text/html": [
       "<style scoped>\n",
       "  .table-result-container {\n",
       "    max-height: 300px;\n",
       "    overflow: auto;\n",
       "  }\n",
       "  table, th, td {\n",
       "    border: 1px solid black;\n",
       "    border-collapse: collapse;\n",
       "  }\n",
       "  th, td {\n",
       "    padding: 5px;\n",
       "  }\n",
       "  th {\n",
       "    text-align: left;\n",
       "  }\n",
       "</style><div class='table-result-container'><table class='table-result'><thead style='background-color: white'><tr><th>country</th><th>Genesis Address Count</th><th>Orbis Address  Count</th><th>Orbis  greater count</th><th>Genesis greater count</th><th>Orbis % gap</th><th>Genesis% gap</th><th>Orbis count - Genesis count</th><th>Orbis Overall % gap</th><th>Orbis  % of Genesis</th><th>winner</th></tr></thead><tbody><tr><td>pol</td><td>22069779</td><td>60811436</td><td>38741657</td><td>-38741657</td><td>175.54166265099437</td><td>-63.70784764891919</td><td>38741657</td><td>175.54166265099437</td><td>275.5416626509944</td><td>Orbis</td></tr></tbody></table></div>"
      ]
     },
     "metadata": {
      "application/vnd.databricks.v1+output": {
       "addedWidgets": {},
       "aggData": [],
       "aggError": "",
       "aggOverflow": false,
       "aggSchema": [],
       "aggSeriesLimitReached": false,
       "aggType": "",
       "arguments": {},
       "columnCustomDisplayInfos": {},
       "data": [
        [
         "pol",
         22069779,
         60811436,
         38741657,
         -38741657,
         175.54166265099437,
         -63.70784764891919,
         38741657,
         175.54166265099437,
         275.5416626509944,
         "Orbis"
        ]
       ],
       "datasetInfos": [],
       "dbfsResultPath": null,
       "isJsonSchema": true,
       "metadata": {},
       "overflow": false,
       "plotOptions": {
        "customPlotOptions": {},
        "displayType": "table",
        "pivotAggregation": null,
        "pivotColumns": null,
        "xColumns": null,
        "yColumns": null
       },
       "removedWidgets": [],
       "schema": [
        {
         "metadata": "{}",
         "name": "country",
         "type": "\"string\""
        },
        {
         "metadata": "{}",
         "name": "Genesis Address Count",
         "type": "\"long\""
        },
        {
         "metadata": "{}",
         "name": "Orbis Address  Count",
         "type": "\"long\""
        },
        {
         "metadata": "{}",
         "name": "Orbis  greater count",
         "type": "\"long\""
        },
        {
         "metadata": "{}",
         "name": "Genesis greater count",
         "type": "\"long\""
        },
        {
         "metadata": "{}",
         "name": "Orbis % gap",
         "type": "\"double\""
        },
        {
         "metadata": "{}",
         "name": "Genesis% gap",
         "type": "\"double\""
        },
        {
         "metadata": "{}",
         "name": "Orbis count - Genesis count",
         "type": "\"long\""
        },
        {
         "metadata": "{}",
         "name": "Orbis Overall % gap",
         "type": "\"double\""
        },
        {
         "metadata": "{}",
         "name": "Orbis  % of Genesis",
         "type": "\"double\""
        },
        {
         "metadata": "{}",
         "name": "winner",
         "type": "\"string\""
        }
       ],
       "type": "table"
      }
     },
     "output_type": "display_data"
    }
   ],
   "source": [
    " display(genesyisOrbisSumPO)"
   ]
  },
  {
   "cell_type": "code",
   "execution_count": 0,
   "metadata": {
    "application/vnd.databricks.v1+cell": {
     "cellMetadata": {
      "byteLimit": 2048000,
      "rowLimit": 10000
     },
     "inputWidgets": {},
     "nuid": "5d36816d-4885-41c5-93ff-568b6ef2610d",
     "showTitle": false,
     "title": ""
    }
   },
   "outputs": [
    {
     "output_type": "display_data",
     "data": {
      "text/html": [
       "<style scoped>\n",
       "  .ansiout {\n",
       "    display: block;\n",
       "    unicode-bidi: embed;\n",
       "    white-space: pre-wrap;\n",
       "    word-wrap: break-word;\n",
       "    word-break: break-all;\n",
       "    font-family: \"Menlo\", \"Monaco\", \"Consolas\", \"Ubuntu Mono\", \"Source Code Pro\", monospace;\n",
       "    font-size: 13px;\n",
       "    color: #555;\n",
       "    margin-left: 4px;\n",
       "    line-height: 19px;\n",
       "  }\n",
       "</style>\n",
       "<div class=\"ansiout\">root\n",
       "-- country: string (nullable = true)\n",
       "-- Genesis Address Count: long (nullable = true)\n",
       "-- Orbis Address  Count: long (nullable = true)\n",
       "-- Orbis  greater count: long (nullable = true)\n",
       "-- Genesis greater count: long (nullable = true)\n",
       "-- Orbis % gap: double (nullable = false)\n",
       "-- Genesis% gap: double (nullable = false)\n",
       "-- Orbis count - Genesis count: long (nullable = true)\n",
       "-- Orbis Overall % gap: double (nullable = false)\n",
       "-- Orbis  % of Genesis: double (nullable = false)\n",
       "-- winner: string (nullable = false)\n",
       "\n",
       "</div>"
      ]
     },
     "metadata": {
      "application/vnd.databricks.v1+output": {
       "addedWidgets": {},
       "arguments": {},
       "data": "<div class=\"ansiout\">root\n |-- country: string (nullable = true)\n |-- Genesis Address Count: long (nullable = true)\n |-- Orbis Address  Count: long (nullable = true)\n |-- Orbis  greater count: long (nullable = true)\n |-- Genesis greater count: long (nullable = true)\n |-- Orbis % gap: double (nullable = false)\n |-- Genesis% gap: double (nullable = false)\n |-- Orbis count - Genesis count: long (nullable = true)\n |-- Orbis Overall % gap: double (nullable = false)\n |-- Orbis  % of Genesis: double (nullable = false)\n |-- winner: string (nullable = false)\n\n</div>",
       "datasetInfos": [],
       "metadata": {},
       "removedWidgets": [],
       "type": "html"
      }
     },
     "output_type": "display_data"
    }
   ],
   "source": [
    "genesyisOrbisSumPO.printSchema()"
   ]
  },
  {
   "cell_type": "code",
   "execution_count": 0,
   "metadata": {
    "application/vnd.databricks.v1+cell": {
     "cellMetadata": {
      "byteLimit": 2048000,
      "rowLimit": 10000
     },
     "inputWidgets": {},
     "nuid": "e299861d-ad2f-4866-802f-65b8bec4c53a",
     "showTitle": false,
     "title": ""
    }
   },
   "outputs": [
    {
     "output_type": "display_data",
     "data": {
      "text/html": [
       "<style scoped>\n",
       "  .ansiout {\n",
       "    display: block;\n",
       "    unicode-bidi: embed;\n",
       "    white-space: pre-wrap;\n",
       "    word-wrap: break-word;\n",
       "    word-break: break-all;\n",
       "    font-family: \"Menlo\", \"Monaco\", \"Consolas\", \"Ubuntu Mono\", \"Source Code Pro\", monospace;\n",
       "    font-size: 13px;\n",
       "    color: #555;\n",
       "    margin-left: 4px;\n",
       "    line-height: 19px;\n",
       "  }\n",
       "</style>\n",
       "<div class=\"ansiout\"></div>"
      ]
     },
     "metadata": {
      "application/vnd.databricks.v1+output": {
       "addedWidgets": {},
       "arguments": {},
       "data": "<div class=\"ansiout\"></div>",
       "datasetInfos": [],
       "metadata": {},
       "removedWidgets": [],
       "type": "html"
      }
     },
     "output_type": "display_data"
    }
   ],
   "source": [
    "# Check if the mount point already exists\n",
    "if not any(mountPoint.mountPoint == '/mnt/addressrangesblob' for mountPoint in dbutils.fs.mounts()):\n",
    "    # If the mount point doesn't exist, proceed with the mount operation\n",
    "    dbutils.fs.mount(\n",
    "        source='wasbs://address-ranges@addressrangesduplicate.blob.core.windows.net',\n",
    "        mount_point='/mnt/addressrangesblob',\n",
    "        extra_configs={\n",
    "            'fs.azure.account.key.addressrangesduplicate.blob.core.windows.net': 'p32JpcVTxylnEHoUIX91DUdaaGPE+P3Ipb8zGy8EfDiz01We6y1nl4ypauEQNGWa0rXdxP6SM0Py+ASt4Hbptg=='\n",
    "        }\n",
    "    )"
   ]
  },
  {
   "cell_type": "code",
   "execution_count": 0,
   "metadata": {
    "application/vnd.databricks.v1+cell": {
     "cellMetadata": {
      "byteLimit": 2048000,
      "rowLimit": 10000
     },
     "inputWidgets": {},
     "nuid": "2d100d89-29fe-44c5-a4a3-0d6810a4333c",
     "showTitle": false,
     "title": ""
    }
   },
   "outputs": [
    {
     "output_type": "display_data",
     "data": {
      "text/html": [
       "<style scoped>\n",
       "  .ansiout {\n",
       "    display: block;\n",
       "    unicode-bidi: embed;\n",
       "    white-space: pre-wrap;\n",
       "    word-wrap: break-word;\n",
       "    word-break: break-all;\n",
       "    font-family: \"Menlo\", \"Monaco\", \"Consolas\", \"Ubuntu Mono\", \"Source Code Pro\", monospace;\n",
       "    font-size: 13px;\n",
       "    color: #555;\n",
       "    margin-left: 4px;\n",
       "    line-height: 19px;\n",
       "  }\n",
       "</style>\n",
       "<div class=\"ansiout\"></div>"
      ]
     },
     "metadata": {
      "application/vnd.databricks.v1+output": {
       "addedWidgets": {},
       "arguments": {},
       "data": "<div class=\"ansiout\"></div>",
       "datasetInfos": [],
       "metadata": {},
       "removedWidgets": [],
       "type": "html"
      }
     },
     "output_type": "display_data"
    }
   ],
   "source": [
    "genesyisOrbisSumVS.coalesce(1).write.format(\"csv\").option('header','true').mode(\"overwrite\").save(\"/mnt/addressrangesblob/genesyisOrbisVS/AddressRangesSum\")"
   ]
  },
  {
   "cell_type": "code",
   "execution_count": 0,
   "metadata": {
    "application/vnd.databricks.v1+cell": {
     "cellMetadata": {
      "byteLimit": 2048000,
      "rowLimit": 10000
     },
     "inputWidgets": {},
     "nuid": "290c9d98-b6ae-440b-b764-4d31cbe36717",
     "showTitle": false,
     "title": ""
    }
   },
   "outputs": [
    {
     "output_type": "display_data",
     "data": {
      "text/html": [
       "<style scoped>\n",
       "  .ansiout {\n",
       "    display: block;\n",
       "    unicode-bidi: embed;\n",
       "    white-space: pre-wrap;\n",
       "    word-wrap: break-word;\n",
       "    word-break: break-all;\n",
       "    font-family: \"Menlo\", \"Monaco\", \"Consolas\", \"Ubuntu Mono\", \"Source Code Pro\", monospace;\n",
       "    font-size: 13px;\n",
       "    color: #555;\n",
       "    margin-left: 4px;\n",
       "    line-height: 19px;\n",
       "  }\n",
       "</style>\n",
       "<div class=\"ansiout\"></div>"
      ]
     },
     "metadata": {
      "application/vnd.databricks.v1+output": {
       "addedWidgets": {},
       "arguments": {},
       "data": "<div class=\"ansiout\"></div>",
       "datasetInfos": [],
       "metadata": {},
       "removedWidgets": [],
       "type": "html"
      }
     },
     "output_type": "display_data"
    }
   ],
   "source": [
    "genesyisOrbisSumPO.coalesce(1).write.format(\"csv\").option('header','true').mode(\"overwrite\").save(\"/mnt/addressrangesblob/genesyisOrbisPO/AddressRangesSum\")"
   ]
  },
  {
   "cell_type": "code",
   "execution_count": 0,
   "metadata": {
    "application/vnd.databricks.v1+cell": {
     "cellMetadata": {},
     "inputWidgets": {},
     "nuid": "22c7a3a9-a2f6-4336-998e-0c8f11b56a8b",
     "showTitle": false,
     "title": ""
    }
   },
   "outputs": [],
   "source": []
  },
  {
   "cell_type": "code",
   "execution_count": 0,
   "metadata": {
    "application/vnd.databricks.v1+cell": {
     "cellMetadata": {
      "byteLimit": 2048000,
      "rowLimit": 10000
     },
     "inputWidgets": {},
     "nuid": "0dafc1a5-6962-4ada-8070-820beeefb0c4",
     "showTitle": false,
     "title": ""
    }
   },
   "outputs": [
    {
     "output_type": "display_data",
     "data": {
      "text/html": [
       "<style scoped>\n",
       "  .table-result-container {\n",
       "    max-height: 300px;\n",
       "    overflow: auto;\n",
       "  }\n",
       "  table, th, td {\n",
       "    border: 1px solid black;\n",
       "    border-collapse: collapse;\n",
       "  }\n",
       "  th, td {\n",
       "    padding: 5px;\n",
       "  }\n",
       "  th {\n",
       "    text-align: left;\n",
       "  }\n",
       "</style><div class='table-result-container'><table class='table-result'><thead style='background-color: white'><tr><th>country</th><th>Genesis Address Count</th><th>Orbis Address  Count</th><th>Orbis  greater count</th><th>Genesis greater count</th><th>Orbis % gap</th><th>Genesis% gap</th><th>Orbis count - Genesis count</th><th>Orbis Overall % gap</th><th>Orbis  % of Genesis</th><th>winner</th></tr></thead><tbody><tr><td>fra</td><td>70381018</td><td>204176854</td><td>133795836</td><td>-133795836</td><td>190.1021607843183</td><td>-65.52938463828029</td><td>133795836</td><td>190.1021607843183</td><td>290.1021607843183</td><td>Orbis</td></tr><tr><td>pol</td><td>22069779</td><td>60811436</td><td>38741657</td><td>-38741657</td><td>175.54166265099437</td><td>-63.70784764891919</td><td>38741657</td><td>175.54166265099437</td><td>275.5416626509944</td><td>Orbis</td></tr><tr><td>esp</td><td>26067317</td><td>16996027</td><td>-9071290</td><td>9071290</td><td>-34.79947706164006</td><td>53.37300299652383</td><td>-9071290</td><td>-34.79947706164006</td><td>65.20052293835994</td><td>Genesis</td></tr></tbody></table></div>"
      ]
     },
     "metadata": {
      "application/vnd.databricks.v1+output": {
       "addedWidgets": {},
       "aggData": [],
       "aggError": "",
       "aggOverflow": false,
       "aggSchema": [],
       "aggSeriesLimitReached": false,
       "aggType": "",
       "arguments": {},
       "columnCustomDisplayInfos": {},
       "data": [
        [
         "fra",
         "70381018",
         "204176854",
         "133795836",
         "-133795836",
         "190.1021607843183",
         "-65.52938463828029",
         "133795836",
         "190.1021607843183",
         "290.1021607843183",
         "Orbis"
        ],
        [
         "pol",
         "22069779",
         "60811436",
         "38741657",
         "-38741657",
         "175.54166265099437",
         "-63.70784764891919",
         "38741657",
         "175.54166265099437",
         "275.5416626509944",
         "Orbis"
        ],
        [
         "esp",
         "26067317",
         "16996027",
         "-9071290",
         "9071290",
         "-34.79947706164006",
         "53.37300299652383",
         "-9071290",
         "-34.79947706164006",
         "65.20052293835994",
         "Genesis"
        ]
       ],
       "datasetInfos": [],
       "dbfsResultPath": null,
       "isJsonSchema": true,
       "metadata": {},
       "overflow": false,
       "plotOptions": {
        "customPlotOptions": {},
        "displayType": "table",
        "pivotAggregation": null,
        "pivotColumns": null,
        "xColumns": null,
        "yColumns": null
       },
       "removedWidgets": [],
       "schema": [
        {
         "metadata": "{}",
         "name": "country",
         "type": "\"string\""
        },
        {
         "metadata": "{}",
         "name": "Genesis Address Count",
         "type": "\"string\""
        },
        {
         "metadata": "{}",
         "name": "Orbis Address  Count",
         "type": "\"string\""
        },
        {
         "metadata": "{}",
         "name": "Orbis  greater count",
         "type": "\"string\""
        },
        {
         "metadata": "{}",
         "name": "Genesis greater count",
         "type": "\"string\""
        },
        {
         "metadata": "{}",
         "name": "Orbis % gap",
         "type": "\"string\""
        },
        {
         "metadata": "{}",
         "name": "Genesis% gap",
         "type": "\"string\""
        },
        {
         "metadata": "{}",
         "name": "Orbis count - Genesis count",
         "type": "\"string\""
        },
        {
         "metadata": "{}",
         "name": "Orbis Overall % gap",
         "type": "\"string\""
        },
        {
         "metadata": "{}",
         "name": "Orbis  % of Genesis",
         "type": "\"string\""
        },
        {
         "metadata": "{}",
         "name": "winner",
         "type": "\"string\""
        }
       ],
       "type": "table"
      }
     },
     "output_type": "display_data"
    }
   ],
   "source": [
    "# display(spark.read.format('csv').option('header','true').load(\"/mnt/addressrangesblob/genesyisOrbisPO/AddressRangesSum\"))"
   ]
  },
  {
   "cell_type": "code",
   "execution_count": 0,
   "metadata": {
    "application/vnd.databricks.v1+cell": {
     "cellMetadata": {},
     "inputWidgets": {},
     "nuid": "d5ed8e50-0bd2-4b39-b176-eb82e830cb5c",
     "showTitle": false,
     "title": ""
    }
   },
   "outputs": [],
   "source": []
  }
 ],
 "metadata": {
  "application/vnd.databricks.v1+notebook": {
   "dashboards": [],
   "language": "python",
   "notebookMetadata": {
    "pythonIndentUnit": 4
   },
   "notebookName": "statisticsGenerationGenesisOrbis_V1",
   "widgets": {
    "GenesyisFileName": {
     "currentValue": "Genesyis2024_week_03_005",
     "nuid": "a1cc8164-2f53-4abe-b37a-8aa593ad5600",
     "widgetInfo": {
      "widgetType": "text",
      "defaultValue": "",
      "label": null,
      "name": "GenesyisFileName",
      "options": {
       "widgetType": "text",
       "autoCreated": null,
       "validationRegex": null
      }
     }
    },
    "OrbisFileName": {
     "currentValue": "Orbis_24090.000",
     "nuid": "f8c49ca2-3bf9-4f8a-8879-1dfd7c66a503",
     "widgetInfo": {
      "widgetType": "text",
      "defaultValue": "",
      "label": null,
      "name": "OrbisFileName",
      "options": {
       "widgetType": "text",
       "autoCreated": null,
       "validationRegex": null
      }
     }
    }
   }
  }
 },
 "nbformat": 4,
 "nbformat_minor": 0
}
